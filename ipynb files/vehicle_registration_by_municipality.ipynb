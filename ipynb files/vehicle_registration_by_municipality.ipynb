{
 "cells": [
  {
   "cell_type": "code",
   "execution_count": 1,
   "id": "22cb88a8-d587-442c-a716-593cca96b526",
   "metadata": {},
   "outputs": [],
   "source": [
    "import pandas as pd\n",
    "import numpy as np\n",
    "import matplotlib.pyplot as plt\n",
    "import plotly.express as px"
   ]
  },
  {
   "cell_type": "code",
   "execution_count": 21,
   "id": "25b95edd-02e0-43ed-a78d-e2c6587b6980",
   "metadata": {},
   "outputs": [
    {
     "data": {
      "text/html": [
       "<div>\n",
       "<style scoped>\n",
       "    .dataframe tbody tr th:only-of-type {\n",
       "        vertical-align: middle;\n",
       "    }\n",
       "\n",
       "    .dataframe tbody tr th {\n",
       "        vertical-align: top;\n",
       "    }\n",
       "\n",
       "    .dataframe thead th {\n",
       "        text-align: right;\n",
       "    }\n",
       "</style>\n",
       "<table border=\"1\" class=\"dataframe\">\n",
       "  <thead>\n",
       "    <tr style=\"text-align: right;\">\n",
       "      <th></th>\n",
       "      <th>CSDUID</th>\n",
       "      <th>CSD</th>\n",
       "      <th>Period</th>\n",
       "      <th>IndicatorSummaryDescription</th>\n",
       "      <th>Vehicle Type</th>\n",
       "      <th>UnitOfMeasure</th>\n",
       "      <th>OriginalValue</th>\n",
       "    </tr>\n",
       "  </thead>\n",
       "  <tbody>\n",
       "    <tr>\n",
       "      <th>0</th>\n",
       "      <td>4807044</td>\n",
       "      <td>Sedgewick</td>\n",
       "      <td>2005</td>\n",
       "      <td>Vehicle Registrations</td>\n",
       "      <td>Cars</td>\n",
       "      <td>NaN</td>\n",
       "      <td>376</td>\n",
       "    </tr>\n",
       "    <tr>\n",
       "      <th>1</th>\n",
       "      <td>4807044</td>\n",
       "      <td>Sedgewick</td>\n",
       "      <td>2006</td>\n",
       "      <td>Vehicle Registrations</td>\n",
       "      <td>Cars</td>\n",
       "      <td>NaN</td>\n",
       "      <td>372</td>\n",
       "    </tr>\n",
       "    <tr>\n",
       "      <th>2</th>\n",
       "      <td>4807044</td>\n",
       "      <td>Sedgewick</td>\n",
       "      <td>2007</td>\n",
       "      <td>Vehicle Registrations</td>\n",
       "      <td>Cars</td>\n",
       "      <td>NaN</td>\n",
       "      <td>386</td>\n",
       "    </tr>\n",
       "    <tr>\n",
       "      <th>3</th>\n",
       "      <td>4807044</td>\n",
       "      <td>Sedgewick</td>\n",
       "      <td>2008</td>\n",
       "      <td>Vehicle Registrations</td>\n",
       "      <td>Cars</td>\n",
       "      <td>NaN</td>\n",
       "      <td>396</td>\n",
       "    </tr>\n",
       "    <tr>\n",
       "      <th>4</th>\n",
       "      <td>4807044</td>\n",
       "      <td>Sedgewick</td>\n",
       "      <td>2009</td>\n",
       "      <td>Vehicle Registrations</td>\n",
       "      <td>Cars</td>\n",
       "      <td>NaN</td>\n",
       "      <td>341</td>\n",
       "    </tr>\n",
       "  </tbody>\n",
       "</table>\n",
       "</div>"
      ],
      "text/plain": [
       "    CSDUID        CSD  Period IndicatorSummaryDescription Vehicle Type  \\\n",
       "0  4807044  Sedgewick    2005       Vehicle Registrations         Cars   \n",
       "1  4807044  Sedgewick    2006       Vehicle Registrations         Cars   \n",
       "2  4807044  Sedgewick    2007       Vehicle Registrations         Cars   \n",
       "3  4807044  Sedgewick    2008       Vehicle Registrations         Cars   \n",
       "4  4807044  Sedgewick    2009       Vehicle Registrations         Cars   \n",
       "\n",
       "   UnitOfMeasure  OriginalValue  \n",
       "0            NaN            376  \n",
       "1            NaN            372  \n",
       "2            NaN            386  \n",
       "3            NaN            396  \n",
       "4            NaN            341  "
      ]
     },
     "execution_count": 21,
     "metadata": {},
     "output_type": "execute_result"
    }
   ],
   "source": [
    "car_reg = pd.read_csv('vehicle_registration_by_municipality.csv')\n",
    "car_reg.head()"
   ]
  },
  {
   "cell_type": "code",
   "execution_count": 23,
   "id": "c4e0b942-431f-455a-94dd-e28a58f7b5dd",
   "metadata": {},
   "outputs": [
    {
     "data": {
      "text/plain": [
       "CSDUID                             0\n",
       "CSD                                0\n",
       "Period                             0\n",
       "IndicatorSummaryDescription        0\n",
       "Vehicle Type                       0\n",
       "UnitOfMeasure                  41991\n",
       "OriginalValue                      0\n",
       "dtype: int64"
      ]
     },
     "execution_count": 23,
     "metadata": {},
     "output_type": "execute_result"
    }
   ],
   "source": [
    "car_reg.isna().sum()"
   ]
  },
  {
   "cell_type": "code",
   "execution_count": 25,
   "id": "e46a6969-6d19-4ecf-a99f-33dbb0af1412",
   "metadata": {},
   "outputs": [
    {
     "name": "stdout",
     "output_type": "stream",
     "text": [
      "<class 'pandas.core.frame.DataFrame'>\n",
      "RangeIndex: 41991 entries, 0 to 41990\n",
      "Data columns (total 7 columns):\n",
      " #   Column                       Non-Null Count  Dtype  \n",
      "---  ------                       --------------  -----  \n",
      " 0   CSDUID                       41991 non-null  int64  \n",
      " 1   CSD                          41991 non-null  object \n",
      " 2   Period                       41991 non-null  int64  \n",
      " 3   IndicatorSummaryDescription  41991 non-null  object \n",
      " 4   Vehicle Type                 41991 non-null  object \n",
      " 5   UnitOfMeasure                0 non-null      float64\n",
      " 6   OriginalValue                41991 non-null  int64  \n",
      "dtypes: float64(1), int64(3), object(3)\n",
      "memory usage: 2.2+ MB\n"
     ]
    }
   ],
   "source": [
    "car_reg.info()"
   ]
  },
  {
   "cell_type": "code",
   "execution_count": 27,
   "id": "c2289bbc-acd3-45f2-9bfe-2b3117653f4e",
   "metadata": {},
   "outputs": [
    {
     "data": {
      "text/plain": [
       "(41991, 7)"
      ]
     },
     "execution_count": 27,
     "metadata": {},
     "output_type": "execute_result"
    }
   ],
   "source": [
    "car_reg.shape"
   ]
  },
  {
   "cell_type": "code",
   "execution_count": 28,
   "id": "b68b76c0-a764-4ba5-97f9-3120ea48ef31",
   "metadata": {},
   "outputs": [],
   "source": [
    "car_reg = car_reg.drop(columns=['CSDUID', 'IndicatorSummaryDescription', 'UnitOfMeasure'])"
   ]
  },
  {
   "cell_type": "code",
   "execution_count": 31,
   "id": "4cf33e54-24d1-4d98-9f22-a8e5f8b544aa",
   "metadata": {},
   "outputs": [
    {
     "name": "stdout",
     "output_type": "stream",
     "text": [
      "<class 'pandas.core.frame.DataFrame'>\n",
      "RangeIndex: 41991 entries, 0 to 41990\n",
      "Data columns (total 4 columns):\n",
      " #   Column         Non-Null Count  Dtype \n",
      "---  ------         --------------  ----- \n",
      " 0   CSD            41991 non-null  object\n",
      " 1   Period         41991 non-null  int64 \n",
      " 2   Vehicle Type   41991 non-null  object\n",
      " 3   OriginalValue  41991 non-null  int64 \n",
      "dtypes: int64(2), object(2)\n",
      "memory usage: 1.3+ MB\n"
     ]
    }
   ],
   "source": [
    "car_reg.info()"
   ]
  },
  {
   "cell_type": "code",
   "execution_count": 33,
   "id": "77959357-7ed6-4678-9575-b1d1022576c4",
   "metadata": {},
   "outputs": [],
   "source": [
    "column_map = {'CSD':'CSD','Period':'Period','Vehicle Type':'Vehicle_Type','OriginalValue':'Total_Vehicle_Registration_Count'}"
   ]
  },
  {
   "cell_type": "code",
   "execution_count": 37,
   "id": "22eb7177-5f6b-4393-9fc9-b5efa954dfa5",
   "metadata": {},
   "outputs": [
    {
     "name": "stdout",
     "output_type": "stream",
     "text": [
      "<class 'pandas.core.frame.DataFrame'>\n",
      "RangeIndex: 41991 entries, 0 to 41990\n",
      "Data columns (total 4 columns):\n",
      " #   Column                            Non-Null Count  Dtype \n",
      "---  ------                            --------------  ----- \n",
      " 0   CSD                               41991 non-null  object\n",
      " 1   Period                            41991 non-null  int64 \n",
      " 2   Vehicle_Type                      41991 non-null  object\n",
      " 3   Total_Vehicle_Registration_Count  41991 non-null  int64 \n",
      "dtypes: int64(2), object(2)\n",
      "memory usage: 1.3+ MB\n"
     ]
    }
   ],
   "source": [
    "car_reg.rename(columns=column_map, inplace=True)\n",
    "car_reg.info()"
   ]
  },
  {
   "cell_type": "code",
   "execution_count": 208,
   "id": "249971ed-e905-4cd9-a656-64d2f2aacbc8",
   "metadata": {},
   "outputs": [
    {
     "data": {
      "application/vnd.plotly.v1+json": {
       "config": {
        "plotlyServerURL": "https://plot.ly"
       },
       "data": [
        {
         "alignmentgroup": "True",
         "hovertemplate": "Vehicle_Type=Cars<br>Year=%{x}<br>Registration_Count=%{y}<extra></extra>",
         "legendgroup": "Cars",
         "marker": {
          "color": "#636efa",
          "pattern": {
           "shape": ""
          }
         },
         "name": "Cars",
         "offsetgroup": "Cars",
         "orientation": "v",
         "showlegend": true,
         "textposition": "auto",
         "type": "bar",
         "x": [
          2005,
          2006,
          2007,
          2008,
          2009,
          2010,
          2011,
          2012,
          2013,
          2014,
          2015,
          2016,
          2017,
          2018,
          2019,
          2020,
          2021
         ],
         "xaxis": "x",
         "y": [
          29451,
          30201,
          31178,
          31524,
          30511,
          30511,
          30572,
          30432,
          30087,
          29901,
          28700,
          26656,
          25387,
          24995,
          23816,
          23202,
          22436
         ],
         "yaxis": "y"
        },
        {
         "alignmentgroup": "True",
         "hovertemplate": "Vehicle_Type=Mopeds & Motorcycles<br>Year=%{x}<br>Registration_Count=%{y}<extra></extra>",
         "legendgroup": "Mopeds & Motorcycles",
         "marker": {
          "color": "#EF553B",
          "pattern": {
           "shape": ""
          }
         },
         "name": "Mopeds & Motorcycles",
         "offsetgroup": "Mopeds & Motorcycles",
         "orientation": "v",
         "showlegend": true,
         "textposition": "auto",
         "type": "bar",
         "x": [
          2005,
          2006,
          2007,
          2008,
          2009,
          2010,
          2011,
          2012,
          2013,
          2014,
          2015,
          2016,
          2017,
          2018,
          2019,
          2020,
          2021
         ],
         "xaxis": "x",
         "y": [
          2010,
          2326,
          2807,
          2992,
          2856,
          2856,
          3096,
          3213,
          3340,
          3810,
          3813,
          3072,
          2672,
          3117,
          2695,
          3397,
          3037
         ],
         "yaxis": "y"
        },
        {
         "alignmentgroup": "True",
         "hovertemplate": "Vehicle_Type=Other<br>Year=%{x}<br>Registration_Count=%{y}<extra></extra>",
         "legendgroup": "Other",
         "marker": {
          "color": "#00cc96",
          "pattern": {
           "shape": ""
          }
         },
         "name": "Other",
         "offsetgroup": "Other",
         "orientation": "v",
         "showlegend": true,
         "textposition": "auto",
         "type": "bar",
         "x": [
          2005,
          2006,
          2007,
          2008,
          2009,
          2010,
          2011,
          2012,
          2013,
          2014,
          2015,
          2016,
          2017,
          2018,
          2019,
          2020,
          2021
         ],
         "xaxis": "x",
         "y": [
          1018,
          1094,
          1184,
          1156,
          1129,
          1129,
          1173,
          1216,
          1233,
          1307,
          1326,
          1190,
          1142,
          1070,
          1161,
          1181,
          1169
         ],
         "yaxis": "y"
        },
        {
         "alignmentgroup": "True",
         "hovertemplate": "Vehicle_Type=Total Motorized Vehicles<br>Year=%{x}<br>Registration_Count=%{y}<extra></extra>",
         "legendgroup": "Total Motorized Vehicles",
         "marker": {
          "color": "#ab63fa",
          "pattern": {
           "shape": ""
          }
         },
         "name": "Total Motorized Vehicles",
         "offsetgroup": "Total Motorized Vehicles",
         "orientation": "v",
         "showlegend": true,
         "textposition": "auto",
         "type": "bar",
         "x": [
          2005,
          2006,
          2007,
          2008,
          2009,
          2010,
          2011,
          2012,
          2013,
          2014,
          2015,
          2016,
          2017,
          2018,
          2019,
          2020
         ],
         "xaxis": "x",
         "y": [
          69394,
          73309,
          77226,
          78857,
          79679,
          79679,
          83466,
          86641,
          89627,
          93030,
          92096,
          86902,
          85220,
          85721,
          83801,
          84098
         ],
         "yaxis": "y"
        },
        {
         "alignmentgroup": "True",
         "hovertemplate": "Vehicle_Type=Truck/Trailers<br>Year=%{x}<br>Registration_Count=%{y}<extra></extra>",
         "legendgroup": "Truck/Trailers",
         "marker": {
          "color": "#FFA15A",
          "pattern": {
           "shape": ""
          }
         },
         "name": "Truck/Trailers",
         "offsetgroup": "Truck/Trailers",
         "orientation": "v",
         "showlegend": true,
         "textposition": "auto",
         "type": "bar",
         "x": [
          2005,
          2006,
          2007,
          2008,
          2009,
          2010,
          2011,
          2012,
          2013,
          2014,
          2015,
          2016,
          2017,
          2018,
          2019,
          2020,
          2021
         ],
         "xaxis": "x",
         "y": [
          1505,
          1501,
          1608,
          1597,
          1723,
          1723,
          2038,
          1829,
          1818,
          1807,
          1727,
          1489,
          1377,
          1237,
          992,
          945,
          892
         ],
         "yaxis": "y"
        },
        {
         "alignmentgroup": "True",
         "hovertemplate": "Vehicle_Type=Trucks<br>Year=%{x}<br>Registration_Count=%{y}<extra></extra>",
         "legendgroup": "Trucks",
         "marker": {
          "color": "#19d3f3",
          "pattern": {
           "shape": ""
          }
         },
         "name": "Trucks",
         "offsetgroup": "Trucks",
         "orientation": "v",
         "showlegend": true,
         "textposition": "auto",
         "type": "bar",
         "x": [
          2005,
          2006,
          2007,
          2008,
          2009,
          2010,
          2011,
          2012,
          2013,
          2014,
          2015,
          2016,
          2017,
          2018,
          2019,
          2020,
          2021
         ],
         "xaxis": "x",
         "y": [
          21253,
          22315,
          23322,
          23221,
          23216,
          23216,
          24803,
          26266,
          27723,
          28607,
          27562,
          25252,
          24498,
          23996,
          23142,
          22734,
          21669
         ],
         "yaxis": "y"
        },
        {
         "alignmentgroup": "True",
         "hovertemplate": "Vehicle_Type=Utility Vehicles<br>Year=%{x}<br>Registration_Count=%{y}<extra></extra>",
         "legendgroup": "Utility Vehicles",
         "marker": {
          "color": "#FF6692",
          "pattern": {
           "shape": ""
          }
         },
         "name": "Utility Vehicles",
         "offsetgroup": "Utility Vehicles",
         "orientation": "v",
         "showlegend": true,
         "textposition": "auto",
         "type": "bar",
         "x": [
          2005,
          2006,
          2007,
          2008,
          2009,
          2010,
          2011,
          2012,
          2013,
          2014,
          2015,
          2016,
          2017,
          2018,
          2019,
          2020,
          2021
         ],
         "xaxis": "x",
         "y": [
          6687,
          8119,
          9293,
          10592,
          12920,
          12920,
          14715,
          16766,
          18730,
          21121,
          22664,
          23346,
          24445,
          25778,
          26690,
          27536,
          27829
         ],
         "yaxis": "y"
        },
        {
         "alignmentgroup": "True",
         "hovertemplate": "Vehicle_Type=Vans<br>Year=%{x}<br>Registration_Count=%{y}<extra></extra>",
         "legendgroup": "Vans",
         "marker": {
          "color": "#B6E880",
          "pattern": {
           "shape": ""
          }
         },
         "name": "Vans",
         "offsetgroup": "Vans",
         "orientation": "v",
         "showlegend": true,
         "textposition": "auto",
         "type": "bar",
         "x": [
          2005,
          2006,
          2007,
          2008,
          2009,
          2010,
          2011,
          2012,
          2013,
          2014,
          2015,
          2016,
          2017,
          2018,
          2019,
          2020,
          2021
         ],
         "xaxis": "x",
         "y": [
          7470,
          7753,
          7834,
          7775,
          7324,
          7324,
          7069,
          6919,
          6696,
          6477,
          6304,
          5897,
          5699,
          5528,
          5305,
          5103,
          4919
         ],
         "yaxis": "y"
        }
       ],
       "layout": {
        "autosize": true,
        "barmode": "relative",
        "legend": {
         "title": {
          "text": "Vehicle_Type"
         },
         "tracegroupgap": 0
        },
        "margin": {
         "t": 60
        },
        "template": {
         "data": {
          "bar": [
           {
            "error_x": {
             "color": "#2a3f5f"
            },
            "error_y": {
             "color": "#2a3f5f"
            },
            "marker": {
             "line": {
              "color": "#E5ECF6",
              "width": 0.5
             },
             "pattern": {
              "fillmode": "overlay",
              "size": 10,
              "solidity": 0.2
             }
            },
            "type": "bar"
           }
          ],
          "barpolar": [
           {
            "marker": {
             "line": {
              "color": "#E5ECF6",
              "width": 0.5
             },
             "pattern": {
              "fillmode": "overlay",
              "size": 10,
              "solidity": 0.2
             }
            },
            "type": "barpolar"
           }
          ],
          "carpet": [
           {
            "aaxis": {
             "endlinecolor": "#2a3f5f",
             "gridcolor": "white",
             "linecolor": "white",
             "minorgridcolor": "white",
             "startlinecolor": "#2a3f5f"
            },
            "baxis": {
             "endlinecolor": "#2a3f5f",
             "gridcolor": "white",
             "linecolor": "white",
             "minorgridcolor": "white",
             "startlinecolor": "#2a3f5f"
            },
            "type": "carpet"
           }
          ],
          "choropleth": [
           {
            "colorbar": {
             "outlinewidth": 0,
             "ticks": ""
            },
            "type": "choropleth"
           }
          ],
          "contour": [
           {
            "colorbar": {
             "outlinewidth": 0,
             "ticks": ""
            },
            "colorscale": [
             [
              0,
              "#0d0887"
             ],
             [
              0.1111111111111111,
              "#46039f"
             ],
             [
              0.2222222222222222,
              "#7201a8"
             ],
             [
              0.3333333333333333,
              "#9c179e"
             ],
             [
              0.4444444444444444,
              "#bd3786"
             ],
             [
              0.5555555555555556,
              "#d8576b"
             ],
             [
              0.6666666666666666,
              "#ed7953"
             ],
             [
              0.7777777777777778,
              "#fb9f3a"
             ],
             [
              0.8888888888888888,
              "#fdca26"
             ],
             [
              1,
              "#f0f921"
             ]
            ],
            "type": "contour"
           }
          ],
          "contourcarpet": [
           {
            "colorbar": {
             "outlinewidth": 0,
             "ticks": ""
            },
            "type": "contourcarpet"
           }
          ],
          "heatmap": [
           {
            "colorbar": {
             "outlinewidth": 0,
             "ticks": ""
            },
            "colorscale": [
             [
              0,
              "#0d0887"
             ],
             [
              0.1111111111111111,
              "#46039f"
             ],
             [
              0.2222222222222222,
              "#7201a8"
             ],
             [
              0.3333333333333333,
              "#9c179e"
             ],
             [
              0.4444444444444444,
              "#bd3786"
             ],
             [
              0.5555555555555556,
              "#d8576b"
             ],
             [
              0.6666666666666666,
              "#ed7953"
             ],
             [
              0.7777777777777778,
              "#fb9f3a"
             ],
             [
              0.8888888888888888,
              "#fdca26"
             ],
             [
              1,
              "#f0f921"
             ]
            ],
            "type": "heatmap"
           }
          ],
          "heatmapgl": [
           {
            "colorbar": {
             "outlinewidth": 0,
             "ticks": ""
            },
            "colorscale": [
             [
              0,
              "#0d0887"
             ],
             [
              0.1111111111111111,
              "#46039f"
             ],
             [
              0.2222222222222222,
              "#7201a8"
             ],
             [
              0.3333333333333333,
              "#9c179e"
             ],
             [
              0.4444444444444444,
              "#bd3786"
             ],
             [
              0.5555555555555556,
              "#d8576b"
             ],
             [
              0.6666666666666666,
              "#ed7953"
             ],
             [
              0.7777777777777778,
              "#fb9f3a"
             ],
             [
              0.8888888888888888,
              "#fdca26"
             ],
             [
              1,
              "#f0f921"
             ]
            ],
            "type": "heatmapgl"
           }
          ],
          "histogram": [
           {
            "marker": {
             "pattern": {
              "fillmode": "overlay",
              "size": 10,
              "solidity": 0.2
             }
            },
            "type": "histogram"
           }
          ],
          "histogram2d": [
           {
            "colorbar": {
             "outlinewidth": 0,
             "ticks": ""
            },
            "colorscale": [
             [
              0,
              "#0d0887"
             ],
             [
              0.1111111111111111,
              "#46039f"
             ],
             [
              0.2222222222222222,
              "#7201a8"
             ],
             [
              0.3333333333333333,
              "#9c179e"
             ],
             [
              0.4444444444444444,
              "#bd3786"
             ],
             [
              0.5555555555555556,
              "#d8576b"
             ],
             [
              0.6666666666666666,
              "#ed7953"
             ],
             [
              0.7777777777777778,
              "#fb9f3a"
             ],
             [
              0.8888888888888888,
              "#fdca26"
             ],
             [
              1,
              "#f0f921"
             ]
            ],
            "type": "histogram2d"
           }
          ],
          "histogram2dcontour": [
           {
            "colorbar": {
             "outlinewidth": 0,
             "ticks": ""
            },
            "colorscale": [
             [
              0,
              "#0d0887"
             ],
             [
              0.1111111111111111,
              "#46039f"
             ],
             [
              0.2222222222222222,
              "#7201a8"
             ],
             [
              0.3333333333333333,
              "#9c179e"
             ],
             [
              0.4444444444444444,
              "#bd3786"
             ],
             [
              0.5555555555555556,
              "#d8576b"
             ],
             [
              0.6666666666666666,
              "#ed7953"
             ],
             [
              0.7777777777777778,
              "#fb9f3a"
             ],
             [
              0.8888888888888888,
              "#fdca26"
             ],
             [
              1,
              "#f0f921"
             ]
            ],
            "type": "histogram2dcontour"
           }
          ],
          "mesh3d": [
           {
            "colorbar": {
             "outlinewidth": 0,
             "ticks": ""
            },
            "type": "mesh3d"
           }
          ],
          "parcoords": [
           {
            "line": {
             "colorbar": {
              "outlinewidth": 0,
              "ticks": ""
             }
            },
            "type": "parcoords"
           }
          ],
          "pie": [
           {
            "automargin": true,
            "type": "pie"
           }
          ],
          "scatter": [
           {
            "fillpattern": {
             "fillmode": "overlay",
             "size": 10,
             "solidity": 0.2
            },
            "type": "scatter"
           }
          ],
          "scatter3d": [
           {
            "line": {
             "colorbar": {
              "outlinewidth": 0,
              "ticks": ""
             }
            },
            "marker": {
             "colorbar": {
              "outlinewidth": 0,
              "ticks": ""
             }
            },
            "type": "scatter3d"
           }
          ],
          "scattercarpet": [
           {
            "marker": {
             "colorbar": {
              "outlinewidth": 0,
              "ticks": ""
             }
            },
            "type": "scattercarpet"
           }
          ],
          "scattergeo": [
           {
            "marker": {
             "colorbar": {
              "outlinewidth": 0,
              "ticks": ""
             }
            },
            "type": "scattergeo"
           }
          ],
          "scattergl": [
           {
            "marker": {
             "colorbar": {
              "outlinewidth": 0,
              "ticks": ""
             }
            },
            "type": "scattergl"
           }
          ],
          "scattermapbox": [
           {
            "marker": {
             "colorbar": {
              "outlinewidth": 0,
              "ticks": ""
             }
            },
            "type": "scattermapbox"
           }
          ],
          "scatterpolar": [
           {
            "marker": {
             "colorbar": {
              "outlinewidth": 0,
              "ticks": ""
             }
            },
            "type": "scatterpolar"
           }
          ],
          "scatterpolargl": [
           {
            "marker": {
             "colorbar": {
              "outlinewidth": 0,
              "ticks": ""
             }
            },
            "type": "scatterpolargl"
           }
          ],
          "scatterternary": [
           {
            "marker": {
             "colorbar": {
              "outlinewidth": 0,
              "ticks": ""
             }
            },
            "type": "scatterternary"
           }
          ],
          "surface": [
           {
            "colorbar": {
             "outlinewidth": 0,
             "ticks": ""
            },
            "colorscale": [
             [
              0,
              "#0d0887"
             ],
             [
              0.1111111111111111,
              "#46039f"
             ],
             [
              0.2222222222222222,
              "#7201a8"
             ],
             [
              0.3333333333333333,
              "#9c179e"
             ],
             [
              0.4444444444444444,
              "#bd3786"
             ],
             [
              0.5555555555555556,
              "#d8576b"
             ],
             [
              0.6666666666666666,
              "#ed7953"
             ],
             [
              0.7777777777777778,
              "#fb9f3a"
             ],
             [
              0.8888888888888888,
              "#fdca26"
             ],
             [
              1,
              "#f0f921"
             ]
            ],
            "type": "surface"
           }
          ],
          "table": [
           {
            "cells": {
             "fill": {
              "color": "#EBF0F8"
             },
             "line": {
              "color": "white"
             }
            },
            "header": {
             "fill": {
              "color": "#C8D4E3"
             },
             "line": {
              "color": "white"
             }
            },
            "type": "table"
           }
          ]
         },
         "layout": {
          "annotationdefaults": {
           "arrowcolor": "#2a3f5f",
           "arrowhead": 0,
           "arrowwidth": 1
          },
          "autotypenumbers": "strict",
          "coloraxis": {
           "colorbar": {
            "outlinewidth": 0,
            "ticks": ""
           }
          },
          "colorscale": {
           "diverging": [
            [
             0,
             "#8e0152"
            ],
            [
             0.1,
             "#c51b7d"
            ],
            [
             0.2,
             "#de77ae"
            ],
            [
             0.3,
             "#f1b6da"
            ],
            [
             0.4,
             "#fde0ef"
            ],
            [
             0.5,
             "#f7f7f7"
            ],
            [
             0.6,
             "#e6f5d0"
            ],
            [
             0.7,
             "#b8e186"
            ],
            [
             0.8,
             "#7fbc41"
            ],
            [
             0.9,
             "#4d9221"
            ],
            [
             1,
             "#276419"
            ]
           ],
           "sequential": [
            [
             0,
             "#0d0887"
            ],
            [
             0.1111111111111111,
             "#46039f"
            ],
            [
             0.2222222222222222,
             "#7201a8"
            ],
            [
             0.3333333333333333,
             "#9c179e"
            ],
            [
             0.4444444444444444,
             "#bd3786"
            ],
            [
             0.5555555555555556,
             "#d8576b"
            ],
            [
             0.6666666666666666,
             "#ed7953"
            ],
            [
             0.7777777777777778,
             "#fb9f3a"
            ],
            [
             0.8888888888888888,
             "#fdca26"
            ],
            [
             1,
             "#f0f921"
            ]
           ],
           "sequentialminus": [
            [
             0,
             "#0d0887"
            ],
            [
             0.1111111111111111,
             "#46039f"
            ],
            [
             0.2222222222222222,
             "#7201a8"
            ],
            [
             0.3333333333333333,
             "#9c179e"
            ],
            [
             0.4444444444444444,
             "#bd3786"
            ],
            [
             0.5555555555555556,
             "#d8576b"
            ],
            [
             0.6666666666666666,
             "#ed7953"
            ],
            [
             0.7777777777777778,
             "#fb9f3a"
            ],
            [
             0.8888888888888888,
             "#fdca26"
            ],
            [
             1,
             "#f0f921"
            ]
           ]
          },
          "colorway": [
           "#636efa",
           "#EF553B",
           "#00cc96",
           "#ab63fa",
           "#FFA15A",
           "#19d3f3",
           "#FF6692",
           "#B6E880",
           "#FF97FF",
           "#FECB52"
          ],
          "font": {
           "color": "#2a3f5f"
          },
          "geo": {
           "bgcolor": "white",
           "lakecolor": "white",
           "landcolor": "#E5ECF6",
           "showlakes": true,
           "showland": true,
           "subunitcolor": "white"
          },
          "hoverlabel": {
           "align": "left"
          },
          "hovermode": "closest",
          "mapbox": {
           "style": "light"
          },
          "paper_bgcolor": "white",
          "plot_bgcolor": "#E5ECF6",
          "polar": {
           "angularaxis": {
            "gridcolor": "white",
            "linecolor": "white",
            "ticks": ""
           },
           "bgcolor": "#E5ECF6",
           "radialaxis": {
            "gridcolor": "white",
            "linecolor": "white",
            "ticks": ""
           }
          },
          "scene": {
           "xaxis": {
            "backgroundcolor": "#E5ECF6",
            "gridcolor": "white",
            "gridwidth": 2,
            "linecolor": "white",
            "showbackground": true,
            "ticks": "",
            "zerolinecolor": "white"
           },
           "yaxis": {
            "backgroundcolor": "#E5ECF6",
            "gridcolor": "white",
            "gridwidth": 2,
            "linecolor": "white",
            "showbackground": true,
            "ticks": "",
            "zerolinecolor": "white"
           },
           "zaxis": {
            "backgroundcolor": "#E5ECF6",
            "gridcolor": "white",
            "gridwidth": 2,
            "linecolor": "white",
            "showbackground": true,
            "ticks": "",
            "zerolinecolor": "white"
           }
          },
          "shapedefaults": {
           "line": {
            "color": "#2a3f5f"
           }
          },
          "ternary": {
           "aaxis": {
            "gridcolor": "white",
            "linecolor": "white",
            "ticks": ""
           },
           "baxis": {
            "gridcolor": "white",
            "linecolor": "white",
            "ticks": ""
           },
           "bgcolor": "#E5ECF6",
           "caxis": {
            "gridcolor": "white",
            "linecolor": "white",
            "ticks": ""
           }
          },
          "title": {
           "x": 0.05
          },
          "xaxis": {
           "automargin": true,
           "gridcolor": "white",
           "linecolor": "white",
           "ticks": "",
           "title": {
            "standoff": 15
           },
           "zerolinecolor": "white",
           "zerolinewidth": 2
          },
          "yaxis": {
           "automargin": true,
           "gridcolor": "white",
           "linecolor": "white",
           "ticks": "",
           "title": {
            "standoff": 15
           },
           "zerolinecolor": "white",
           "zerolinewidth": 2
          }
         }
        },
        "xaxis": {
         "anchor": "y",
         "autorange": true,
         "domain": [
          0,
          1
         ],
         "range": [
          2004.5,
          2021.5
         ],
         "title": {
          "text": "Year"
         },
         "type": "linear"
        },
        "yaxis": {
         "anchor": "x",
         "autorange": true,
         "domain": [
          0,
          1
         ],
         "range": [
          0,
          195852.63157894736
         ],
         "title": {
          "text": "Registration_Count"
         },
         "type": "linear"
        }
       }
      },
      "image/png": "[encoded data removed]",
      "text/html": [
       "<div>                            <div id=\"b86060a4-b68e-4adc-b280-750f736b64e9\" class=\"plotly-graph-div\" style=\"height:525px; width:100%;\"></div>            <script type=\"text/javascript\">                require([\"plotly\"], function(Plotly) {                    window.PLOTLYENV=window.PLOTLYENV || {};                                    if (document.getElementById(\"b86060a4-b68e-4adc-b280-750f736b64e9\")) {                    Plotly.newPlot(                        \"b86060a4-b68e-4adc-b280-750f736b64e9\",                        [{\"alignmentgroup\":\"True\",\"hovertemplate\":\"Vehicle_Type=Cars\\u003cbr\\u003eYear=%{x}\\u003cbr\\u003eRegistration_Count=%{y}\\u003cextra\\u003e\\u003c\\u002fextra\\u003e\",\"legendgroup\":\"Cars\",\"marker\":{\"color\":\"#636efa\",\"pattern\":{\"shape\":\"\"}},\"name\":\"Cars\",\"offsetgroup\":\"Cars\",\"orientation\":\"v\",\"showlegend\":true,\"textposition\":\"auto\",\"x\":[2005,2006,2007,2008,2009,2010,2011,2012,2013,2014,2015,2016,2017,2018,2019,2020,2021],\"xaxis\":\"x\",\"y\":[29451,30201,31178,31524,30511,30511,30572,30432,30087,29901,28700,26656,25387,24995,23816,23202,22436],\"yaxis\":\"y\",\"type\":\"bar\"},{\"alignmentgroup\":\"True\",\"hovertemplate\":\"Vehicle_Type=Mopeds & Motorcycles\\u003cbr\\u003eYear=%{x}\\u003cbr\\u003eRegistration_Count=%{y}\\u003cextra\\u003e\\u003c\\u002fextra\\u003e\",\"legendgroup\":\"Mopeds & Motorcycles\",\"marker\":{\"color\":\"#EF553B\",\"pattern\":{\"shape\":\"\"}},\"name\":\"Mopeds & Motorcycles\",\"offsetgroup\":\"Mopeds & Motorcycles\",\"orientation\":\"v\",\"showlegend\":true,\"textposition\":\"auto\",\"x\":[2005,2006,2007,2008,2009,2010,2011,2012,2013,2014,2015,2016,2017,2018,2019,2020,2021],\"xaxis\":\"x\",\"y\":[2010,2326,2807,2992,2856,2856,3096,3213,3340,3810,3813,3072,2672,3117,2695,3397,3037],\"yaxis\":\"y\",\"type\":\"bar\"},{\"alignmentgroup\":\"True\",\"hovertemplate\":\"Vehicle_Type=Other\\u003cbr\\u003eYear=%{x}\\u003cbr\\u003eRegistration_Count=%{y}\\u003cextra\\u003e\\u003c\\u002fextra\\u003e\",\"legendgroup\":\"Other\",\"marker\":{\"color\":\"#00cc96\",\"pattern\":{\"shape\":\"\"}},\"name\":\"Other\",\"offsetgroup\":\"Other\",\"orientation\":\"v\",\"showlegend\":true,\"textposition\":\"auto\",\"x\":[2005,2006,2007,2008,2009,2010,2011,2012,2013,2014,2015,2016,2017,2018,2019,2020,2021],\"xaxis\":\"x\",\"y\":[1018,1094,1184,1156,1129,1129,1173,1216,1233,1307,1326,1190,1142,1070,1161,1181,1169],\"yaxis\":\"y\",\"type\":\"bar\"},{\"alignmentgroup\":\"True\",\"hovertemplate\":\"Vehicle_Type=Total Motorized Vehicles\\u003cbr\\u003eYear=%{x}\\u003cbr\\u003eRegistration_Count=%{y}\\u003cextra\\u003e\\u003c\\u002fextra\\u003e\",\"legendgroup\":\"Total Motorized Vehicles\",\"marker\":{\"color\":\"#ab63fa\",\"pattern\":{\"shape\":\"\"}},\"name\":\"Total Motorized Vehicles\",\"offsetgroup\":\"Total Motorized Vehicles\",\"orientation\":\"v\",\"showlegend\":true,\"textposition\":\"auto\",\"x\":[2005,2006,2007,2008,2009,2010,2011,2012,2013,2014,2015,2016,2017,2018,2019,2020],\"xaxis\":\"x\",\"y\":[69394,73309,77226,78857,79679,79679,83466,86641,89627,93030,92096,86902,85220,85721,83801,84098],\"yaxis\":\"y\",\"type\":\"bar\"},{\"alignmentgroup\":\"True\",\"hovertemplate\":\"Vehicle_Type=Truck\\u002fTrailers\\u003cbr\\u003eYear=%{x}\\u003cbr\\u003eRegistration_Count=%{y}\\u003cextra\\u003e\\u003c\\u002fextra\\u003e\",\"legendgroup\":\"Truck\\u002fTrailers\",\"marker\":{\"color\":\"#FFA15A\",\"pattern\":{\"shape\":\"\"}},\"name\":\"Truck\\u002fTrailers\",\"offsetgroup\":\"Truck\\u002fTrailers\",\"orientation\":\"v\",\"showlegend\":true,\"textposition\":\"auto\",\"x\":[2005,2006,2007,2008,2009,2010,2011,2012,2013,2014,2015,2016,2017,2018,2019,2020,2021],\"xaxis\":\"x\",\"y\":[1505,1501,1608,1597,1723,1723,2038,1829,1818,1807,1727,1489,1377,1237,992,945,892],\"yaxis\":\"y\",\"type\":\"bar\"},{\"alignmentgroup\":\"True\",\"hovertemplate\":\"Vehicle_Type=Trucks\\u003cbr\\u003eYear=%{x}\\u003cbr\\u003eRegistration_Count=%{y}\\u003cextra\\u003e\\u003c\\u002fextra\\u003e\",\"legendgroup\":\"Trucks\",\"marker\":{\"color\":\"#19d3f3\",\"pattern\":{\"shape\":\"\"}},\"name\":\"Trucks\",\"offsetgroup\":\"Trucks\",\"orientation\":\"v\",\"showlegend\":true,\"textposition\":\"auto\",\"x\":[2005,2006,2007,2008,2009,2010,2011,2012,2013,2014,2015,2016,2017,2018,2019,2020,2021],\"xaxis\":\"x\",\"y\":[21253,22315,23322,23221,23216,23216,24803,26266,27723,28607,27562,25252,24498,23996,23142,22734,21669],\"yaxis\":\"y\",\"type\":\"bar\"},{\"alignmentgroup\":\"True\",\"hovertemplate\":\"Vehicle_Type=Utility Vehicles\\u003cbr\\u003eYear=%{x}\\u003cbr\\u003eRegistration_Count=%{y}\\u003cextra\\u003e\\u003c\\u002fextra\\u003e\",\"legendgroup\":\"Utility Vehicles\",\"marker\":{\"color\":\"#FF6692\",\"pattern\":{\"shape\":\"\"}},\"name\":\"Utility Vehicles\",\"offsetgroup\":\"Utility Vehicles\",\"orientation\":\"v\",\"showlegend\":true,\"textposition\":\"auto\",\"x\":[2005,2006,2007,2008,2009,2010,2011,2012,2013,2014,2015,2016,2017,2018,2019,2020,2021],\"xaxis\":\"x\",\"y\":[6687,8119,9293,10592,12920,12920,14715,16766,18730,21121,22664,23346,24445,25778,26690,27536,27829],\"yaxis\":\"y\",\"type\":\"bar\"},{\"alignmentgroup\":\"True\",\"hovertemplate\":\"Vehicle_Type=Vans\\u003cbr\\u003eYear=%{x}\\u003cbr\\u003eRegistration_Count=%{y}\\u003cextra\\u003e\\u003c\\u002fextra\\u003e\",\"legendgroup\":\"Vans\",\"marker\":{\"color\":\"#B6E880\",\"pattern\":{\"shape\":\"\"}},\"name\":\"Vans\",\"offsetgroup\":\"Vans\",\"orientation\":\"v\",\"showlegend\":true,\"textposition\":\"auto\",\"x\":[2005,2006,2007,2008,2009,2010,2011,2012,2013,2014,2015,2016,2017,2018,2019,2020,2021],\"xaxis\":\"x\",\"y\":[7470,7753,7834,7775,7324,7324,7069,6919,6696,6477,6304,5897,5699,5528,5305,5103,4919],\"yaxis\":\"y\",\"type\":\"bar\"}],                        {\"template\":{\"data\":{\"histogram2dcontour\":[{\"type\":\"histogram2dcontour\",\"colorbar\":{\"outlinewidth\":0,\"ticks\":\"\"},\"colorscale\":[[0.0,\"#0d0887\"],[0.1111111111111111,\"#46039f\"],[0.2222222222222222,\"#7201a8\"],[0.3333333333333333,\"#9c179e\"],[0.4444444444444444,\"#bd3786\"],[0.5555555555555556,\"#d8576b\"],[0.6666666666666666,\"#ed7953\"],[0.7777777777777778,\"#fb9f3a\"],[0.8888888888888888,\"#fdca26\"],[1.0,\"#f0f921\"]]}],\"choropleth\":[{\"type\":\"choropleth\",\"colorbar\":{\"outlinewidth\":0,\"ticks\":\"\"}}],\"histogram2d\":[{\"type\":\"histogram2d\",\"colorbar\":{\"outlinewidth\":0,\"ticks\":\"\"},\"colorscale\":[[0.0,\"#0d0887\"],[0.1111111111111111,\"#46039f\"],[0.2222222222222222,\"#7201a8\"],[0.3333333333333333,\"#9c179e\"],[0.4444444444444444,\"#bd3786\"],[0.5555555555555556,\"#d8576b\"],[0.6666666666666666,\"#ed7953\"],[0.7777777777777778,\"#fb9f3a\"],[0.8888888888888888,\"#fdca26\"],[1.0,\"#f0f921\"]]}],\"heatmap\":[{\"type\":\"heatmap\",\"colorbar\":{\"outlinewidth\":0,\"ticks\":\"\"},\"colorscale\":[[0.0,\"#0d0887\"],[0.1111111111111111,\"#46039f\"],[0.2222222222222222,\"#7201a8\"],[0.3333333333333333,\"#9c179e\"],[0.4444444444444444,\"#bd3786\"],[0.5555555555555556,\"#d8576b\"],[0.6666666666666666,\"#ed7953\"],[0.7777777777777778,\"#fb9f3a\"],[0.8888888888888888,\"#fdca26\"],[1.0,\"#f0f921\"]]}],\"heatmapgl\":[{\"type\":\"heatmapgl\",\"colorbar\":{\"outlinewidth\":0,\"ticks\":\"\"},\"colorscale\":[[0.0,\"#0d0887\"],[0.1111111111111111,\"#46039f\"],[0.2222222222222222,\"#7201a8\"],[0.3333333333333333,\"#9c179e\"],[0.4444444444444444,\"#bd3786\"],[0.5555555555555556,\"#d8576b\"],[0.6666666666666666,\"#ed7953\"],[0.7777777777777778,\"#fb9f3a\"],[0.8888888888888888,\"#fdca26\"],[1.0,\"#f0f921\"]]}],\"contourcarpet\":[{\"type\":\"contourcarpet\",\"colorbar\":{\"outlinewidth\":0,\"ticks\":\"\"}}],\"contour\":[{\"type\":\"contour\",\"colorbar\":{\"outlinewidth\":0,\"ticks\":\"\"},\"colorscale\":[[0.0,\"#0d0887\"],[0.1111111111111111,\"#46039f\"],[0.2222222222222222,\"#7201a8\"],[0.3333333333333333,\"#9c179e\"],[0.4444444444444444,\"#bd3786\"],[0.5555555555555556,\"#d8576b\"],[0.6666666666666666,\"#ed7953\"],[0.7777777777777778,\"#fb9f3a\"],[0.8888888888888888,\"#fdca26\"],[1.0,\"#f0f921\"]]}],\"surface\":[{\"type\":\"surface\",\"colorbar\":{\"outlinewidth\":0,\"ticks\":\"\"},\"colorscale\":[[0.0,\"#0d0887\"],[0.1111111111111111,\"#46039f\"],[0.2222222222222222,\"#7201a8\"],[0.3333333333333333,\"#9c179e\"],[0.4444444444444444,\"#bd3786\"],[0.5555555555555556,\"#d8576b\"],[0.6666666666666666,\"#ed7953\"],[0.7777777777777778,\"#fb9f3a\"],[0.8888888888888888,\"#fdca26\"],[1.0,\"#f0f921\"]]}],\"mesh3d\":[{\"type\":\"mesh3d\",\"colorbar\":{\"outlinewidth\":0,\"ticks\":\"\"}}],\"scatter\":[{\"fillpattern\":{\"fillmode\":\"overlay\",\"size\":10,\"solidity\":0.2},\"type\":\"scatter\"}],\"parcoords\":[{\"type\":\"parcoords\",\"line\":{\"colorbar\":{\"outlinewidth\":0,\"ticks\":\"\"}}}],\"scatterpolargl\":[{\"type\":\"scatterpolargl\",\"marker\":{\"colorbar\":{\"outlinewidth\":0,\"ticks\":\"\"}}}],\"bar\":[{\"error_x\":{\"color\":\"#2a3f5f\"},\"error_y\":{\"color\":\"#2a3f5f\"},\"marker\":{\"line\":{\"color\":\"#E5ECF6\",\"width\":0.5},\"pattern\":{\"fillmode\":\"overlay\",\"size\":10,\"solidity\":0.2}},\"type\":\"bar\"}],\"scattergeo\":[{\"type\":\"scattergeo\",\"marker\":{\"colorbar\":{\"outlinewidth\":0,\"ticks\":\"\"}}}],\"scatterpolar\":[{\"type\":\"scatterpolar\",\"marker\":{\"colorbar\":{\"outlinewidth\":0,\"ticks\":\"\"}}}],\"histogram\":[{\"marker\":{\"pattern\":{\"fillmode\":\"overlay\",\"size\":10,\"solidity\":0.2}},\"type\":\"histogram\"}],\"scattergl\":[{\"type\":\"scattergl\",\"marker\":{\"colorbar\":{\"outlinewidth\":0,\"ticks\":\"\"}}}],\"scatter3d\":[{\"type\":\"scatter3d\",\"line\":{\"colorbar\":{\"outlinewidth\":0,\"ticks\":\"\"}},\"marker\":{\"colorbar\":{\"outlinewidth\":0,\"ticks\":\"\"}}}],\"scattermapbox\":[{\"type\":\"scattermapbox\",\"marker\":{\"colorbar\":{\"outlinewidth\":0,\"ticks\":\"\"}}}],\"scatterternary\":[{\"type\":\"scatterternary\",\"marker\":{\"colorbar\":{\"outlinewidth\":0,\"ticks\":\"\"}}}],\"scattercarpet\":[{\"type\":\"scattercarpet\",\"marker\":{\"colorbar\":{\"outlinewidth\":0,\"ticks\":\"\"}}}],\"carpet\":[{\"aaxis\":{\"endlinecolor\":\"#2a3f5f\",\"gridcolor\":\"white\",\"linecolor\":\"white\",\"minorgridcolor\":\"white\",\"startlinecolor\":\"#2a3f5f\"},\"baxis\":{\"endlinecolor\":\"#2a3f5f\",\"gridcolor\":\"white\",\"linecolor\":\"white\",\"minorgridcolor\":\"white\",\"startlinecolor\":\"#2a3f5f\"},\"type\":\"carpet\"}],\"table\":[{\"cells\":{\"fill\":{\"color\":\"#EBF0F8\"},\"line\":{\"color\":\"white\"}},\"header\":{\"fill\":{\"color\":\"#C8D4E3\"},\"line\":{\"color\":\"white\"}},\"type\":\"table\"}],\"barpolar\":[{\"marker\":{\"line\":{\"color\":\"#E5ECF6\",\"width\":0.5},\"pattern\":{\"fillmode\":\"overlay\",\"size\":10,\"solidity\":0.2}},\"type\":\"barpolar\"}],\"pie\":[{\"automargin\":true,\"type\":\"pie\"}]},\"layout\":{\"autotypenumbers\":\"strict\",\"colorway\":[\"#636efa\",\"#EF553B\",\"#00cc96\",\"#ab63fa\",\"#FFA15A\",\"#19d3f3\",\"#FF6692\",\"#B6E880\",\"#FF97FF\",\"#FECB52\"],\"font\":{\"color\":\"#2a3f5f\"},\"hovermode\":\"closest\",\"hoverlabel\":{\"align\":\"left\"},\"paper_bgcolor\":\"white\",\"plot_bgcolor\":\"#E5ECF6\",\"polar\":{\"bgcolor\":\"#E5ECF6\",\"angularaxis\":{\"gridcolor\":\"white\",\"linecolor\":\"white\",\"ticks\":\"\"},\"radialaxis\":{\"gridcolor\":\"white\",\"linecolor\":\"white\",\"ticks\":\"\"}},\"ternary\":{\"bgcolor\":\"#E5ECF6\",\"aaxis\":{\"gridcolor\":\"white\",\"linecolor\":\"white\",\"ticks\":\"\"},\"baxis\":{\"gridcolor\":\"white\",\"linecolor\":\"white\",\"ticks\":\"\"},\"caxis\":{\"gridcolor\":\"white\",\"linecolor\":\"white\",\"ticks\":\"\"}},\"coloraxis\":{\"colorbar\":{\"outlinewidth\":0,\"ticks\":\"\"}},\"colorscale\":{\"sequential\":[[0.0,\"#0d0887\"],[0.1111111111111111,\"#46039f\"],[0.2222222222222222,\"#7201a8\"],[0.3333333333333333,\"#9c179e\"],[0.4444444444444444,\"#bd3786\"],[0.5555555555555556,\"#d8576b\"],[0.6666666666666666,\"#ed7953\"],[0.7777777777777778,\"#fb9f3a\"],[0.8888888888888888,\"#fdca26\"],[1.0,\"#f0f921\"]],\"sequentialminus\":[[0.0,\"#0d0887\"],[0.1111111111111111,\"#46039f\"],[0.2222222222222222,\"#7201a8\"],[0.3333333333333333,\"#9c179e\"],[0.4444444444444444,\"#bd3786\"],[0.5555555555555556,\"#d8576b\"],[0.6666666666666666,\"#ed7953\"],[0.7777777777777778,\"#fb9f3a\"],[0.8888888888888888,\"#fdca26\"],[1.0,\"#f0f921\"]],\"diverging\":[[0,\"#8e0152\"],[0.1,\"#c51b7d\"],[0.2,\"#de77ae\"],[0.3,\"#f1b6da\"],[0.4,\"#fde0ef\"],[0.5,\"#f7f7f7\"],[0.6,\"#e6f5d0\"],[0.7,\"#b8e186\"],[0.8,\"#7fbc41\"],[0.9,\"#4d9221\"],[1,\"#276419\"]]},\"xaxis\":{\"gridcolor\":\"white\",\"linecolor\":\"white\",\"ticks\":\"\",\"title\":{\"standoff\":15},\"zerolinecolor\":\"white\",\"automargin\":true,\"zerolinewidth\":2},\"yaxis\":{\"gridcolor\":\"white\",\"linecolor\":\"white\",\"ticks\":\"\",\"title\":{\"standoff\":15},\"zerolinecolor\":\"white\",\"automargin\":true,\"zerolinewidth\":2},\"scene\":{\"xaxis\":{\"backgroundcolor\":\"#E5ECF6\",\"gridcolor\":\"white\",\"linecolor\":\"white\",\"showbackground\":true,\"ticks\":\"\",\"zerolinecolor\":\"white\",\"gridwidth\":2},\"yaxis\":{\"backgroundcolor\":\"#E5ECF6\",\"gridcolor\":\"white\",\"linecolor\":\"white\",\"showbackground\":true,\"ticks\":\"\",\"zerolinecolor\":\"white\",\"gridwidth\":2},\"zaxis\":{\"backgroundcolor\":\"#E5ECF6\",\"gridcolor\":\"white\",\"linecolor\":\"white\",\"showbackground\":true,\"ticks\":\"\",\"zerolinecolor\":\"white\",\"gridwidth\":2}},\"shapedefaults\":{\"line\":{\"color\":\"#2a3f5f\"}},\"annotationdefaults\":{\"arrowcolor\":\"#2a3f5f\",\"arrowhead\":0,\"arrowwidth\":1},\"geo\":{\"bgcolor\":\"white\",\"landcolor\":\"#E5ECF6\",\"subunitcolor\":\"white\",\"showland\":true,\"showlakes\":true,\"lakecolor\":\"white\"},\"title\":{\"x\":0.05},\"mapbox\":{\"style\":\"light\"}}},\"xaxis\":{\"anchor\":\"y\",\"domain\":[0.0,1.0],\"title\":{\"text\":\"Year\"}},\"yaxis\":{\"anchor\":\"x\",\"domain\":[0.0,1.0],\"title\":{\"text\":\"Registration_Count\"}},\"legend\":{\"title\":{\"text\":\"Vehicle_Type\"},\"tracegroupgap\":0},\"margin\":{\"t\":60},\"barmode\":\"relative\"},                        {\"responsive\": true}                    ).then(function(){\n",
       "                            \n",
       "var gd = document.getElementById('b86060a4-b68e-4adc-b280-750f736b64e9');\n",
       "var x = new MutationObserver(function (mutations, observer) {{\n",
       "        var display = window.getComputedStyle(gd).display;\n",
       "        if (!display || display === 'none') {{\n",
       "            console.log([gd, 'removed!']);\n",
       "            Plotly.purge(gd);\n",
       "            observer.disconnect();\n",
       "        }}\n",
       "}});\n",
       "\n",
       "// Listen for the removal of the full notebook cells\n",
       "var notebookContainer = gd.closest('#notebook-container');\n",
       "if (notebookContainer) {{\n",
       "    x.observe(notebookContainer, {childList: true});\n",
       "}}\n",
       "\n",
       "// Listen for the clearing of the current output cell\n",
       "var outputEl = gd.closest('.output');\n",
       "if (outputEl) {{\n",
       "    x.observe(outputEl, {childList: true});\n",
       "}}\n",
       "\n",
       "                        })                };                });            </script>        </div>"
      ]
     },
     "metadata": {},
     "output_type": "display_data"
    }
   ],
   "source": [
    "Red_deer_reg = car_reg.query(\"Municipality == 'Red Deer'\")\n",
    "fig = px.bar(Red_deer_reg, x='Year', y='Registration_Count',\n",
    "             hover_data=['Registration_Count'], color='Vehicle_Type')\n",
    "fig.show()"
   ]
  },
  {
   "cell_type": "code",
   "execution_count": 39,
   "id": "ec4fbc3e-f2d7-4133-914f-f430d4973dba",
   "metadata": {},
   "outputs": [
    {
     "ename": "KeyError",
     "evalue": "'Municipality'",
     "output_type": "error",
     "traceback": [
      "\u001b[0;31m---------------------------------------------------------------------------\u001b[0m",
      "\u001b[0;31mKeyError\u001b[0m                                  Traceback (most recent call last)",
      "File \u001b[0;32m~/opt/anaconda3/lib/python3.12/site-packages/pandas/core/indexes/base.py:3805\u001b[0m, in \u001b[0;36mIndex.get_loc\u001b[0;34m(self, key)\u001b[0m\n\u001b[1;32m   3804\u001b[0m \u001b[38;5;28;01mtry\u001b[39;00m:\n\u001b[0;32m-> 3805\u001b[0m     \u001b[38;5;28;01mreturn\u001b[39;00m \u001b[38;5;28mself\u001b[39m\u001b[38;5;241m.\u001b[39m_engine\u001b[38;5;241m.\u001b[39mget_loc(casted_key)\n\u001b[1;32m   3806\u001b[0m \u001b[38;5;28;01mexcept\u001b[39;00m \u001b[38;5;167;01mKeyError\u001b[39;00m \u001b[38;5;28;01mas\u001b[39;00m err:\n",
      "File \u001b[0;32mindex.pyx:167\u001b[0m, in \u001b[0;36mpandas._libs.index.IndexEngine.get_loc\u001b[0;34m()\u001b[0m\n",
      "File \u001b[0;32mindex.pyx:196\u001b[0m, in \u001b[0;36mpandas._libs.index.IndexEngine.get_loc\u001b[0;34m()\u001b[0m\n",
      "File \u001b[0;32mpandas/_libs/hashtable_class_helper.pxi:7081\u001b[0m, in \u001b[0;36mpandas._libs.hashtable.PyObjectHashTable.get_item\u001b[0;34m()\u001b[0m\n",
      "File \u001b[0;32mpandas/_libs/hashtable_class_helper.pxi:7089\u001b[0m, in \u001b[0;36mpandas._libs.hashtable.PyObjectHashTable.get_item\u001b[0;34m()\u001b[0m\n",
      "\u001b[0;31mKeyError\u001b[0m: 'Municipality'",
      "\nThe above exception was the direct cause of the following exception:\n",
      "\u001b[0;31mKeyError\u001b[0m                                  Traceback (most recent call last)",
      "Cell \u001b[0;32mIn[39], line 1\u001b[0m\n\u001b[0;32m----> 1\u001b[0m Municipality_list \u001b[38;5;241m=\u001b[39m car_reg[\u001b[38;5;124m'\u001b[39m\u001b[38;5;124mMunicipality\u001b[39m\u001b[38;5;124m'\u001b[39m]\u001b[38;5;241m.\u001b[39munique()\n\u001b[1;32m      2\u001b[0m Municipality_list\n",
      "File \u001b[0;32m~/opt/anaconda3/lib/python3.12/site-packages/pandas/core/frame.py:4102\u001b[0m, in \u001b[0;36mDataFrame.__getitem__\u001b[0;34m(self, key)\u001b[0m\n\u001b[1;32m   4100\u001b[0m \u001b[38;5;28;01mif\u001b[39;00m \u001b[38;5;28mself\u001b[39m\u001b[38;5;241m.\u001b[39mcolumns\u001b[38;5;241m.\u001b[39mnlevels \u001b[38;5;241m>\u001b[39m \u001b[38;5;241m1\u001b[39m:\n\u001b[1;32m   4101\u001b[0m     \u001b[38;5;28;01mreturn\u001b[39;00m \u001b[38;5;28mself\u001b[39m\u001b[38;5;241m.\u001b[39m_getitem_multilevel(key)\n\u001b[0;32m-> 4102\u001b[0m indexer \u001b[38;5;241m=\u001b[39m \u001b[38;5;28mself\u001b[39m\u001b[38;5;241m.\u001b[39mcolumns\u001b[38;5;241m.\u001b[39mget_loc(key)\n\u001b[1;32m   4103\u001b[0m \u001b[38;5;28;01mif\u001b[39;00m is_integer(indexer):\n\u001b[1;32m   4104\u001b[0m     indexer \u001b[38;5;241m=\u001b[39m [indexer]\n",
      "File \u001b[0;32m~/opt/anaconda3/lib/python3.12/site-packages/pandas/core/indexes/base.py:3812\u001b[0m, in \u001b[0;36mIndex.get_loc\u001b[0;34m(self, key)\u001b[0m\n\u001b[1;32m   3807\u001b[0m     \u001b[38;5;28;01mif\u001b[39;00m \u001b[38;5;28misinstance\u001b[39m(casted_key, \u001b[38;5;28mslice\u001b[39m) \u001b[38;5;129;01mor\u001b[39;00m (\n\u001b[1;32m   3808\u001b[0m         \u001b[38;5;28misinstance\u001b[39m(casted_key, abc\u001b[38;5;241m.\u001b[39mIterable)\n\u001b[1;32m   3809\u001b[0m         \u001b[38;5;129;01mand\u001b[39;00m \u001b[38;5;28many\u001b[39m(\u001b[38;5;28misinstance\u001b[39m(x, \u001b[38;5;28mslice\u001b[39m) \u001b[38;5;28;01mfor\u001b[39;00m x \u001b[38;5;129;01min\u001b[39;00m casted_key)\n\u001b[1;32m   3810\u001b[0m     ):\n\u001b[1;32m   3811\u001b[0m         \u001b[38;5;28;01mraise\u001b[39;00m InvalidIndexError(key)\n\u001b[0;32m-> 3812\u001b[0m     \u001b[38;5;28;01mraise\u001b[39;00m \u001b[38;5;167;01mKeyError\u001b[39;00m(key) \u001b[38;5;28;01mfrom\u001b[39;00m \u001b[38;5;21;01merr\u001b[39;00m\n\u001b[1;32m   3813\u001b[0m \u001b[38;5;28;01mexcept\u001b[39;00m \u001b[38;5;167;01mTypeError\u001b[39;00m:\n\u001b[1;32m   3814\u001b[0m     \u001b[38;5;66;03m# If we have a listlike key, _check_indexing_error will raise\u001b[39;00m\n\u001b[1;32m   3815\u001b[0m     \u001b[38;5;66;03m#  InvalidIndexError. Otherwise we fall through and re-raise\u001b[39;00m\n\u001b[1;32m   3816\u001b[0m     \u001b[38;5;66;03m#  the TypeError.\u001b[39;00m\n\u001b[1;32m   3817\u001b[0m     \u001b[38;5;28mself\u001b[39m\u001b[38;5;241m.\u001b[39m_check_indexing_error(key)\n",
      "\u001b[0;31mKeyError\u001b[0m: 'Municipality'"
     ]
    }
   ],
   "source": [
    "Municipality_list = car_reg['Municipality'].unique()\n",
    "Municipality_list"
   ]
  },
  {
   "cell_type": "code",
   "execution_count": 41,
   "id": "47a0957a-cf3e-4cbf-a8e1-ddb356bd365c",
   "metadata": {},
   "outputs": [
    {
     "ename": "FileNotFoundError",
     "evalue": "[Errno 2] No such file or directory: 'Air_Quality_Index_by_Municipality.csv'",
     "output_type": "error",
     "traceback": [
      "\u001b[0;31m---------------------------------------------------------------------------\u001b[0m",
      "\u001b[0;31mFileNotFoundError\u001b[0m                         Traceback (most recent call last)",
      "Cell \u001b[0;32mIn[41], line 1\u001b[0m\n\u001b[0;32m----> 1\u001b[0m aqi_df \u001b[38;5;241m=\u001b[39m pd\u001b[38;5;241m.\u001b[39mread_csv(\u001b[38;5;124m'\u001b[39m\u001b[38;5;124mAir_Quality_Index_by_Municipality.csv\u001b[39m\u001b[38;5;124m'\u001b[39m)\n\u001b[1;32m      2\u001b[0m aqi_df\u001b[38;5;241m.\u001b[39mhead()\n",
      "File \u001b[0;32m~/opt/anaconda3/lib/python3.12/site-packages/pandas/io/parsers/readers.py:1026\u001b[0m, in \u001b[0;36mread_csv\u001b[0;34m(filepath_or_buffer, sep, delimiter, header, names, index_col, usecols, dtype, engine, converters, true_values, false_values, skipinitialspace, skiprows, skipfooter, nrows, na_values, keep_default_na, na_filter, verbose, skip_blank_lines, parse_dates, infer_datetime_format, keep_date_col, date_parser, date_format, dayfirst, cache_dates, iterator, chunksize, compression, thousands, decimal, lineterminator, quotechar, quoting, doublequote, escapechar, comment, encoding, encoding_errors, dialect, on_bad_lines, delim_whitespace, low_memory, memory_map, float_precision, storage_options, dtype_backend)\u001b[0m\n\u001b[1;32m   1013\u001b[0m kwds_defaults \u001b[38;5;241m=\u001b[39m _refine_defaults_read(\n\u001b[1;32m   1014\u001b[0m     dialect,\n\u001b[1;32m   1015\u001b[0m     delimiter,\n\u001b[0;32m   (...)\u001b[0m\n\u001b[1;32m   1022\u001b[0m     dtype_backend\u001b[38;5;241m=\u001b[39mdtype_backend,\n\u001b[1;32m   1023\u001b[0m )\n\u001b[1;32m   1024\u001b[0m kwds\u001b[38;5;241m.\u001b[39mupdate(kwds_defaults)\n\u001b[0;32m-> 1026\u001b[0m \u001b[38;5;28;01mreturn\u001b[39;00m _read(filepath_or_buffer, kwds)\n",
      "File \u001b[0;32m~/opt/anaconda3/lib/python3.12/site-packages/pandas/io/parsers/readers.py:620\u001b[0m, in \u001b[0;36m_read\u001b[0;34m(filepath_or_buffer, kwds)\u001b[0m\n\u001b[1;32m    617\u001b[0m _validate_names(kwds\u001b[38;5;241m.\u001b[39mget(\u001b[38;5;124m\"\u001b[39m\u001b[38;5;124mnames\u001b[39m\u001b[38;5;124m\"\u001b[39m, \u001b[38;5;28;01mNone\u001b[39;00m))\n\u001b[1;32m    619\u001b[0m \u001b[38;5;66;03m# Create the parser.\u001b[39;00m\n\u001b[0;32m--> 620\u001b[0m parser \u001b[38;5;241m=\u001b[39m TextFileReader(filepath_or_buffer, \u001b[38;5;241m*\u001b[39m\u001b[38;5;241m*\u001b[39mkwds)\n\u001b[1;32m    622\u001b[0m \u001b[38;5;28;01mif\u001b[39;00m chunksize \u001b[38;5;129;01mor\u001b[39;00m iterator:\n\u001b[1;32m    623\u001b[0m     \u001b[38;5;28;01mreturn\u001b[39;00m parser\n",
      "File \u001b[0;32m~/opt/anaconda3/lib/python3.12/site-packages/pandas/io/parsers/readers.py:1620\u001b[0m, in \u001b[0;36mTextFileReader.__init__\u001b[0;34m(self, f, engine, **kwds)\u001b[0m\n\u001b[1;32m   1617\u001b[0m     \u001b[38;5;28mself\u001b[39m\u001b[38;5;241m.\u001b[39moptions[\u001b[38;5;124m\"\u001b[39m\u001b[38;5;124mhas_index_names\u001b[39m\u001b[38;5;124m\"\u001b[39m] \u001b[38;5;241m=\u001b[39m kwds[\u001b[38;5;124m\"\u001b[39m\u001b[38;5;124mhas_index_names\u001b[39m\u001b[38;5;124m\"\u001b[39m]\n\u001b[1;32m   1619\u001b[0m \u001b[38;5;28mself\u001b[39m\u001b[38;5;241m.\u001b[39mhandles: IOHandles \u001b[38;5;241m|\u001b[39m \u001b[38;5;28;01mNone\u001b[39;00m \u001b[38;5;241m=\u001b[39m \u001b[38;5;28;01mNone\u001b[39;00m\n\u001b[0;32m-> 1620\u001b[0m \u001b[38;5;28mself\u001b[39m\u001b[38;5;241m.\u001b[39m_engine \u001b[38;5;241m=\u001b[39m \u001b[38;5;28mself\u001b[39m\u001b[38;5;241m.\u001b[39m_make_engine(f, \u001b[38;5;28mself\u001b[39m\u001b[38;5;241m.\u001b[39mengine)\n",
      "File \u001b[0;32m~/opt/anaconda3/lib/python3.12/site-packages/pandas/io/parsers/readers.py:1880\u001b[0m, in \u001b[0;36mTextFileReader._make_engine\u001b[0;34m(self, f, engine)\u001b[0m\n\u001b[1;32m   1878\u001b[0m     \u001b[38;5;28;01mif\u001b[39;00m \u001b[38;5;124m\"\u001b[39m\u001b[38;5;124mb\u001b[39m\u001b[38;5;124m\"\u001b[39m \u001b[38;5;129;01mnot\u001b[39;00m \u001b[38;5;129;01min\u001b[39;00m mode:\n\u001b[1;32m   1879\u001b[0m         mode \u001b[38;5;241m+\u001b[39m\u001b[38;5;241m=\u001b[39m \u001b[38;5;124m\"\u001b[39m\u001b[38;5;124mb\u001b[39m\u001b[38;5;124m\"\u001b[39m\n\u001b[0;32m-> 1880\u001b[0m \u001b[38;5;28mself\u001b[39m\u001b[38;5;241m.\u001b[39mhandles \u001b[38;5;241m=\u001b[39m get_handle(\n\u001b[1;32m   1881\u001b[0m     f,\n\u001b[1;32m   1882\u001b[0m     mode,\n\u001b[1;32m   1883\u001b[0m     encoding\u001b[38;5;241m=\u001b[39m\u001b[38;5;28mself\u001b[39m\u001b[38;5;241m.\u001b[39moptions\u001b[38;5;241m.\u001b[39mget(\u001b[38;5;124m\"\u001b[39m\u001b[38;5;124mencoding\u001b[39m\u001b[38;5;124m\"\u001b[39m, \u001b[38;5;28;01mNone\u001b[39;00m),\n\u001b[1;32m   1884\u001b[0m     compression\u001b[38;5;241m=\u001b[39m\u001b[38;5;28mself\u001b[39m\u001b[38;5;241m.\u001b[39moptions\u001b[38;5;241m.\u001b[39mget(\u001b[38;5;124m\"\u001b[39m\u001b[38;5;124mcompression\u001b[39m\u001b[38;5;124m\"\u001b[39m, \u001b[38;5;28;01mNone\u001b[39;00m),\n\u001b[1;32m   1885\u001b[0m     memory_map\u001b[38;5;241m=\u001b[39m\u001b[38;5;28mself\u001b[39m\u001b[38;5;241m.\u001b[39moptions\u001b[38;5;241m.\u001b[39mget(\u001b[38;5;124m\"\u001b[39m\u001b[38;5;124mmemory_map\u001b[39m\u001b[38;5;124m\"\u001b[39m, \u001b[38;5;28;01mFalse\u001b[39;00m),\n\u001b[1;32m   1886\u001b[0m     is_text\u001b[38;5;241m=\u001b[39mis_text,\n\u001b[1;32m   1887\u001b[0m     errors\u001b[38;5;241m=\u001b[39m\u001b[38;5;28mself\u001b[39m\u001b[38;5;241m.\u001b[39moptions\u001b[38;5;241m.\u001b[39mget(\u001b[38;5;124m\"\u001b[39m\u001b[38;5;124mencoding_errors\u001b[39m\u001b[38;5;124m\"\u001b[39m, \u001b[38;5;124m\"\u001b[39m\u001b[38;5;124mstrict\u001b[39m\u001b[38;5;124m\"\u001b[39m),\n\u001b[1;32m   1888\u001b[0m     storage_options\u001b[38;5;241m=\u001b[39m\u001b[38;5;28mself\u001b[39m\u001b[38;5;241m.\u001b[39moptions\u001b[38;5;241m.\u001b[39mget(\u001b[38;5;124m\"\u001b[39m\u001b[38;5;124mstorage_options\u001b[39m\u001b[38;5;124m\"\u001b[39m, \u001b[38;5;28;01mNone\u001b[39;00m),\n\u001b[1;32m   1889\u001b[0m )\n\u001b[1;32m   1890\u001b[0m \u001b[38;5;28;01massert\u001b[39;00m \u001b[38;5;28mself\u001b[39m\u001b[38;5;241m.\u001b[39mhandles \u001b[38;5;129;01mis\u001b[39;00m \u001b[38;5;129;01mnot\u001b[39;00m \u001b[38;5;28;01mNone\u001b[39;00m\n\u001b[1;32m   1891\u001b[0m f \u001b[38;5;241m=\u001b[39m \u001b[38;5;28mself\u001b[39m\u001b[38;5;241m.\u001b[39mhandles\u001b[38;5;241m.\u001b[39mhandle\n",
      "File \u001b[0;32m~/opt/anaconda3/lib/python3.12/site-packages/pandas/io/common.py:873\u001b[0m, in \u001b[0;36mget_handle\u001b[0;34m(path_or_buf, mode, encoding, compression, memory_map, is_text, errors, storage_options)\u001b[0m\n\u001b[1;32m    868\u001b[0m \u001b[38;5;28;01melif\u001b[39;00m \u001b[38;5;28misinstance\u001b[39m(handle, \u001b[38;5;28mstr\u001b[39m):\n\u001b[1;32m    869\u001b[0m     \u001b[38;5;66;03m# Check whether the filename is to be opened in binary mode.\u001b[39;00m\n\u001b[1;32m    870\u001b[0m     \u001b[38;5;66;03m# Binary mode does not support 'encoding' and 'newline'.\u001b[39;00m\n\u001b[1;32m    871\u001b[0m     \u001b[38;5;28;01mif\u001b[39;00m ioargs\u001b[38;5;241m.\u001b[39mencoding \u001b[38;5;129;01mand\u001b[39;00m \u001b[38;5;124m\"\u001b[39m\u001b[38;5;124mb\u001b[39m\u001b[38;5;124m\"\u001b[39m \u001b[38;5;129;01mnot\u001b[39;00m \u001b[38;5;129;01min\u001b[39;00m ioargs\u001b[38;5;241m.\u001b[39mmode:\n\u001b[1;32m    872\u001b[0m         \u001b[38;5;66;03m# Encoding\u001b[39;00m\n\u001b[0;32m--> 873\u001b[0m         handle \u001b[38;5;241m=\u001b[39m \u001b[38;5;28mopen\u001b[39m(\n\u001b[1;32m    874\u001b[0m             handle,\n\u001b[1;32m    875\u001b[0m             ioargs\u001b[38;5;241m.\u001b[39mmode,\n\u001b[1;32m    876\u001b[0m             encoding\u001b[38;5;241m=\u001b[39mioargs\u001b[38;5;241m.\u001b[39mencoding,\n\u001b[1;32m    877\u001b[0m             errors\u001b[38;5;241m=\u001b[39merrors,\n\u001b[1;32m    878\u001b[0m             newline\u001b[38;5;241m=\u001b[39m\u001b[38;5;124m\"\u001b[39m\u001b[38;5;124m\"\u001b[39m,\n\u001b[1;32m    879\u001b[0m         )\n\u001b[1;32m    880\u001b[0m     \u001b[38;5;28;01melse\u001b[39;00m:\n\u001b[1;32m    881\u001b[0m         \u001b[38;5;66;03m# Binary mode\u001b[39;00m\n\u001b[1;32m    882\u001b[0m         handle \u001b[38;5;241m=\u001b[39m \u001b[38;5;28mopen\u001b[39m(handle, ioargs\u001b[38;5;241m.\u001b[39mmode)\n",
      "\u001b[0;31mFileNotFoundError\u001b[0m: [Errno 2] No such file or directory: 'Air_Quality_Index_by_Municipality.csv'"
     ]
    }
   ],
   "source": [
    "aqi_df = pd.read_csv('Air_Quality_Index_by_Municipality.csv')\n",
    "aqi_df.head()"
   ]
  },
  {
   "cell_type": "code",
   "execution_count": 235,
   "id": "284c6ebd-10c9-4287-b7d4-2be4b83f187b",
   "metadata": {},
   "outputs": [
    {
     "data": {
      "text/plain": [
       "array(['Red Deer', 'Fort Saskatchewan', 'Edmonton', 'Lethbridge',\n",
       "       'Newell County', 'Caroline', 'Airdrie', 'Medicine Hat',\n",
       "       'Taber, M.D.', 'Foothills County', 'Calgary',\n",
       "       'Northern Sunrise County', 'Spirit River No. 133',\n",
       "       'Grande Prairie', 'Brazeau County', 'Parkland County',\n",
       "       'Strathcona County', 'Sturgeon County', 'St. Albert', 'Canmore',\n",
       "       'Grande Prairie County No. 1', 'Cold Lake', 'Bonnyville No. 87',\n",
       "       'St. Paul County No. 19', 'Peace No. 135', 'Wood Buffalo',\n",
       "       'Bruderheim', 'Improvement District No. 13 Elk Island',\n",
       "       'Leduc County', 'Beaverlodge', 'Lamont County',\n",
       "       'Yellowhead County'], dtype=object)"
      ]
     },
     "execution_count": 235,
     "metadata": {},
     "output_type": "execute_result"
    }
   ],
   "source": [
    "aqi_municipality_list = aqi_df['CSD'].unique()\n",
    "aqi_municipality_list"
   ]
  },
  {
   "cell_type": "code",
   "execution_count": 231,
   "id": "7feaea5f-dffd-4825-a80f-1bd35e836336",
   "metadata": {},
   "outputs": [
    {
     "data": {
      "text/plain": [
       "count         4050\n",
       "unique          30\n",
       "top       Red Deer\n",
       "freq           135\n",
       "Name: Municipality, dtype: object"
      ]
     },
     "execution_count": 231,
     "metadata": {},
     "output_type": "execute_result"
    }
   ],
   "source": [
    "car_reg_update = car_reg[car_reg['Municipality'].isin(aqi_municipality_list)]\n",
    "car_reg_update['Municipality'].unique()\n",
    "car_reg_update['Municipality'].describe()"
   ]
  },
  {
   "cell_type": "code",
   "execution_count": 45,
   "id": "b1454a35-0f2a-4bfa-a532-f40c821022dd",
   "metadata": {},
   "outputs": [
    {
     "data": {
      "text/html": [
       "<div>\n",
       "<style scoped>\n",
       "    .dataframe tbody tr th:only-of-type {\n",
       "        vertical-align: middle;\n",
       "    }\n",
       "\n",
       "    .dataframe tbody tr th {\n",
       "        vertical-align: top;\n",
       "    }\n",
       "\n",
       "    .dataframe thead th {\n",
       "        text-align: right;\n",
       "    }\n",
       "</style>\n",
       "<table border=\"1\" class=\"dataframe\">\n",
       "  <thead>\n",
       "    <tr style=\"text-align: right;\">\n",
       "      <th></th>\n",
       "      <th>CSD</th>\n",
       "      <th>Period</th>\n",
       "      <th>Vehicle_Type</th>\n",
       "      <th>Total_Vehicle_Registration_Count</th>\n",
       "    </tr>\n",
       "  </thead>\n",
       "  <tbody>\n",
       "    <tr>\n",
       "      <th>15864</th>\n",
       "      <td>Sedgewick</td>\n",
       "      <td>2005</td>\n",
       "      <td>Total Motorized Vehicles</td>\n",
       "      <td>1743</td>\n",
       "    </tr>\n",
       "    <tr>\n",
       "      <th>15865</th>\n",
       "      <td>Sedgewick</td>\n",
       "      <td>2006</td>\n",
       "      <td>Total Motorized Vehicles</td>\n",
       "      <td>1733</td>\n",
       "    </tr>\n",
       "    <tr>\n",
       "      <th>15866</th>\n",
       "      <td>Sedgewick</td>\n",
       "      <td>2007</td>\n",
       "      <td>Total Motorized Vehicles</td>\n",
       "      <td>1805</td>\n",
       "    </tr>\n",
       "    <tr>\n",
       "      <th>15867</th>\n",
       "      <td>Sedgewick</td>\n",
       "      <td>2008</td>\n",
       "      <td>Total Motorized Vehicles</td>\n",
       "      <td>1827</td>\n",
       "    </tr>\n",
       "    <tr>\n",
       "      <th>15868</th>\n",
       "      <td>Sedgewick</td>\n",
       "      <td>2009</td>\n",
       "      <td>Total Motorized Vehicles</td>\n",
       "      <td>1846</td>\n",
       "    </tr>\n",
       "    <tr>\n",
       "      <th>...</th>\n",
       "      <td>...</td>\n",
       "      <td>...</td>\n",
       "      <td>...</td>\n",
       "      <td>...</td>\n",
       "    </tr>\n",
       "    <tr>\n",
       "      <th>20834</th>\n",
       "      <td>Not Stated, Alberta</td>\n",
       "      <td>2016</td>\n",
       "      <td>Total Motorized Vehicles</td>\n",
       "      <td>0</td>\n",
       "    </tr>\n",
       "    <tr>\n",
       "      <th>20835</th>\n",
       "      <td>Not Stated, Alberta</td>\n",
       "      <td>2017</td>\n",
       "      <td>Total Motorized Vehicles</td>\n",
       "      <td>0</td>\n",
       "    </tr>\n",
       "    <tr>\n",
       "      <th>20836</th>\n",
       "      <td>Not Stated, Alberta</td>\n",
       "      <td>2018</td>\n",
       "      <td>Total Motorized Vehicles</td>\n",
       "      <td>0</td>\n",
       "    </tr>\n",
       "    <tr>\n",
       "      <th>20837</th>\n",
       "      <td>Not Stated, Alberta</td>\n",
       "      <td>2019</td>\n",
       "      <td>Total Motorized Vehicles</td>\n",
       "      <td>0</td>\n",
       "    </tr>\n",
       "    <tr>\n",
       "      <th>20838</th>\n",
       "      <td>Not Stated, Alberta</td>\n",
       "      <td>2020</td>\n",
       "      <td>Total Motorized Vehicles</td>\n",
       "      <td>0</td>\n",
       "    </tr>\n",
       "  </tbody>\n",
       "</table>\n",
       "<p>4975 rows × 4 columns</p>\n",
       "</div>"
      ],
      "text/plain": [
       "                       CSD  Period              Vehicle_Type  \\\n",
       "15864            Sedgewick    2005  Total Motorized Vehicles   \n",
       "15865            Sedgewick    2006  Total Motorized Vehicles   \n",
       "15866            Sedgewick    2007  Total Motorized Vehicles   \n",
       "15867            Sedgewick    2008  Total Motorized Vehicles   \n",
       "15868            Sedgewick    2009  Total Motorized Vehicles   \n",
       "...                    ...     ...                       ...   \n",
       "20834  Not Stated, Alberta    2016  Total Motorized Vehicles   \n",
       "20835  Not Stated, Alberta    2017  Total Motorized Vehicles   \n",
       "20836  Not Stated, Alberta    2018  Total Motorized Vehicles   \n",
       "20837  Not Stated, Alberta    2019  Total Motorized Vehicles   \n",
       "20838  Not Stated, Alberta    2020  Total Motorized Vehicles   \n",
       "\n",
       "       Total_Vehicle_Registration_Count  \n",
       "15864                              1743  \n",
       "15865                              1733  \n",
       "15866                              1805  \n",
       "15867                              1827  \n",
       "15868                              1846  \n",
       "...                                 ...  \n",
       "20834                                 0  \n",
       "20835                                 0  \n",
       "20836                                 0  \n",
       "20837                                 0  \n",
       "20838                                 0  \n",
       "\n",
       "[4975 rows x 4 columns]"
      ]
     },
     "execution_count": 45,
     "metadata": {},
     "output_type": "execute_result"
    }
   ],
   "source": [
    "car_reg_total = car_reg[car_reg['Vehicle_Type'].isin(['Total Motorized Vehicles'])]\n",
    "car_reg_total"
   ]
  },
  {
   "cell_type": "code",
   "execution_count": 47,
   "id": "8c5ca8d2-9650-4a34-9b00-5ce7dddbbf86",
   "metadata": {},
   "outputs": [],
   "source": [
    "car_reg_total.to_csv('cleaned_vehicle_registration.csv', index=False)\n",
    "total_reg = pd.read_csv('cleaned_vehicle_registration.csv')"
   ]
  },
  {
   "cell_type": "code",
   "execution_count": 222,
   "id": "d1647aff-3bbf-4623-aa71-cd6c03236172",
   "metadata": {},
   "outputs": [
    {
     "data": {
      "application/vnd.plotly.v1+json": {
       "config": {
        "plotlyServerURL": "https://plot.ly"
       },
       "data": [
        {
         "alignmentgroup": "True",
         "hovertemplate": "Municipality=Red Deer<br>Year=%{x}<br>Registration_Count=%{y}<extra></extra>",
         "legendgroup": "Red Deer",
         "marker": {
          "color": "#636efa",
          "pattern": {
           "shape": ""
          }
         },
         "name": "Red Deer",
         "offsetgroup": "Red Deer",
         "orientation": "v",
         "showlegend": true,
         "textposition": "auto",
         "type": "bar",
         "x": [
          2005,
          2006,
          2007,
          2008,
          2009,
          2010,
          2011,
          2012,
          2013,
          2014,
          2015,
          2016,
          2017,
          2018,
          2019,
          2020
         ],
         "xaxis": "x",
         "y": [
          69394,
          73309,
          77226,
          78857,
          79679,
          79679,
          83466,
          86641,
          89627,
          93030,
          92096,
          86902,
          85220,
          85721,
          83801,
          84098
         ],
         "yaxis": "y"
        },
        {
         "alignmentgroup": "True",
         "hovertemplate": "Municipality=Fort Saskatchewan<br>Year=%{x}<br>Registration_Count=%{y}<extra></extra>",
         "legendgroup": "Fort Saskatchewan",
         "marker": {
          "color": "#EF553B",
          "pattern": {
           "shape": ""
          }
         },
         "name": "Fort Saskatchewan",
         "offsetgroup": "Fort Saskatchewan",
         "orientation": "v",
         "showlegend": true,
         "textposition": "auto",
         "type": "bar",
         "x": [
          2005,
          2006,
          2007,
          2008,
          2009,
          2010,
          2011,
          2012,
          2013,
          2014,
          2015,
          2016,
          2017,
          2018,
          2019,
          2020
         ],
         "xaxis": "x",
         "y": [
          14909,
          15631,
          16841,
          17514,
          19124,
          19124,
          20073,
          20691,
          21513,
          22517,
          23324,
          23466,
          23652,
          24389,
          24681,
          25313
         ],
         "yaxis": "y"
        },
        {
         "alignmentgroup": "True",
         "hovertemplate": "Municipality=Edmonton<br>Year=%{x}<br>Registration_Count=%{y}<extra></extra>",
         "legendgroup": "Edmonton",
         "marker": {
          "color": "#00cc96",
          "pattern": {
           "shape": ""
          }
         },
         "name": "Edmonton",
         "offsetgroup": "Edmonton",
         "orientation": "v",
         "showlegend": true,
         "textposition": "auto",
         "type": "bar",
         "x": [
          2005,
          2006,
          2007,
          2008,
          2009,
          2010,
          2011,
          2012,
          2013,
          2014,
          2015,
          2016,
          2017,
          2018,
          2019,
          2020
         ],
         "xaxis": "x",
         "y": [
          492890,
          524847,
          554714,
          567745,
          585765,
          585765,
          602783,
          629350,
          656563,
          685437,
          694584,
          679558,
          690375,
          707769,
          704657,
          712934
         ],
         "yaxis": "y"
        },
        {
         "alignmentgroup": "True",
         "hovertemplate": "Municipality=Lethbridge<br>Year=%{x}<br>Registration_Count=%{y}<extra></extra>",
         "legendgroup": "Lethbridge",
         "marker": {
          "color": "#ab63fa",
          "pattern": {
           "shape": ""
          }
         },
         "name": "Lethbridge",
         "offsetgroup": "Lethbridge",
         "orientation": "v",
         "showlegend": true,
         "textposition": "auto",
         "type": "bar",
         "x": [
          2005,
          2006,
          2007,
          2008,
          2009,
          2010,
          2011,
          2012,
          2013,
          2014,
          2015,
          2016,
          2017,
          2018,
          2019,
          2020
         ],
         "xaxis": "x",
         "y": [
          60133,
          63433,
          67641,
          70104,
          72486,
          72486,
          74064,
          75670,
          77446,
          80013,
          81494,
          81615,
          80797,
          82195,
          81915,
          82863
         ],
         "yaxis": "y"
        },
        {
         "alignmentgroup": "True",
         "hovertemplate": "Municipality=Newell County<br>Year=%{x}<br>Registration_Count=%{y}<extra></extra>",
         "legendgroup": "Newell County",
         "marker": {
          "color": "#FFA15A",
          "pattern": {
           "shape": ""
          }
         },
         "name": "Newell County",
         "offsetgroup": "Newell County",
         "orientation": "v",
         "showlegend": true,
         "textposition": "auto",
         "type": "bar",
         "x": [
          2005,
          2006,
          2007,
          2008,
          2009,
          2010,
          2011,
          2012,
          2013,
          2014,
          2015,
          2016,
          2017,
          2018,
          2019,
          2020
         ],
         "xaxis": "x",
         "y": [
          2943,
          3032,
          3116,
          3203,
          3180,
          3180,
          3393,
          3506,
          3522,
          3631,
          3729,
          3650,
          3617,
          3668,
          3652,
          3654
         ],
         "yaxis": "y"
        },
        {
         "alignmentgroup": "True",
         "hovertemplate": "Municipality=Caroline<br>Year=%{x}<br>Registration_Count=%{y}<extra></extra>",
         "legendgroup": "Caroline",
         "marker": {
          "color": "#19d3f3",
          "pattern": {
           "shape": ""
          }
         },
         "name": "Caroline",
         "offsetgroup": "Caroline",
         "orientation": "v",
         "showlegend": true,
         "textposition": "auto",
         "type": "bar",
         "x": [
          2005,
          2006,
          2007,
          2008,
          2009,
          2010,
          2011,
          2012,
          2013,
          2014,
          2015,
          2016,
          2017,
          2018,
          2019,
          2020
         ],
         "xaxis": "x",
         "y": [
          2091,
          2227,
          2387,
          2409,
          2480,
          2480,
          2545,
          2601,
          2586,
          2626,
          2678,
          2613,
          2584,
          2649,
          2659,
          2703
         ],
         "yaxis": "y"
        },
        {
         "alignmentgroup": "True",
         "hovertemplate": "Municipality=Airdrie<br>Year=%{x}<br>Registration_Count=%{y}<extra></extra>",
         "legendgroup": "Airdrie",
         "marker": {
          "color": "#FF6692",
          "pattern": {
           "shape": ""
          }
         },
         "name": "Airdrie",
         "offsetgroup": "Airdrie",
         "orientation": "v",
         "showlegend": true,
         "textposition": "auto",
         "type": "bar",
         "x": [
          2005,
          2006,
          2007,
          2008,
          2009,
          2010,
          2011,
          2012,
          2013,
          2014,
          2015,
          2016,
          2017,
          2018,
          2019,
          2020
         ],
         "xaxis": "x",
         "y": [
          24609,
          27288,
          30095,
          32293,
          36368,
          36368,
          38999,
          42381,
          46233,
          50069,
          52552,
          53988,
          55749,
          56348,
          56471,
          58437
         ],
         "yaxis": "y"
        },
        {
         "alignmentgroup": "True",
         "hovertemplate": "Municipality=Medicine Hat<br>Year=%{x}<br>Registration_Count=%{y}<extra></extra>",
         "legendgroup": "Medicine Hat",
         "marker": {
          "color": "#B6E880",
          "pattern": {
           "shape": ""
          }
         },
         "name": "Medicine Hat",
         "offsetgroup": "Medicine Hat",
         "orientation": "v",
         "showlegend": true,
         "textposition": "auto",
         "type": "bar",
         "x": [
          2005,
          2006,
          2007,
          2008,
          2009,
          2010,
          2011,
          2012,
          2013,
          2014,
          2015,
          2016,
          2017,
          2018,
          2019,
          2020
         ],
         "xaxis": "x",
         "y": [
          49411,
          51960,
          54275,
          55828,
          55662,
          55662,
          57383,
          58493,
          59498,
          60988,
          60995,
          60173,
          59515,
          60465,
          59821,
          60072
         ],
         "yaxis": "y"
        },
        {
         "alignmentgroup": "True",
         "hovertemplate": "Municipality=Taber, M.D.<br>Year=%{x}<br>Registration_Count=%{y}<extra></extra>",
         "legendgroup": "Taber, M.D.",
         "marker": {
          "color": "#FF97FF",
          "pattern": {
           "shape": ""
          }
         },
         "name": "Taber, M.D.",
         "offsetgroup": "Taber, M.D.",
         "orientation": "v",
         "showlegend": true,
         "textposition": "auto",
         "type": "bar",
         "x": [
          2005,
          2006,
          2007,
          2008,
          2009,
          2010,
          2011,
          2012,
          2013,
          2014,
          2015,
          2016,
          2017,
          2018,
          2019,
          2020
         ],
         "xaxis": "x",
         "y": [
          2311,
          2337,
          2480,
          2570,
          2715,
          2715,
          2822,
          2876,
          2943,
          3056,
          3038,
          2991,
          3046,
          3086,
          3119,
          3081
         ],
         "yaxis": "y"
        },
        {
         "alignmentgroup": "True",
         "hovertemplate": "Municipality=Foothills County<br>Year=%{x}<br>Registration_Count=%{y}<extra></extra>",
         "legendgroup": "Foothills County",
         "marker": {
          "color": "#FECB52",
          "pattern": {
           "shape": ""
          }
         },
         "name": "Foothills County",
         "offsetgroup": "Foothills County",
         "orientation": "v",
         "showlegend": true,
         "textposition": "auto",
         "type": "bar",
         "x": [
          2005,
          2006,
          2007,
          2008,
          2009,
          2010,
          2011,
          2012,
          2013,
          2014,
          2015,
          2016,
          2017,
          2018,
          2019,
          2020
         ],
         "xaxis": "x",
         "y": [
          10169,
          10729,
          11550,
          12150,
          12643,
          12643,
          13038,
          13367,
          13756,
          14367,
          14732,
          15346,
          15305,
          15353,
          15074,
          15132
         ],
         "yaxis": "y"
        },
        {
         "alignmentgroup": "True",
         "hovertemplate": "Municipality=Calgary<br>Year=%{x}<br>Registration_Count=%{y}<extra></extra>",
         "legendgroup": "Calgary",
         "marker": {
          "color": "#636efa",
          "pattern": {
           "shape": ""
          }
         },
         "name": "Calgary",
         "offsetgroup": "Calgary",
         "orientation": "v",
         "showlegend": true,
         "textposition": "auto",
         "type": "bar",
         "x": [
          2005,
          2006,
          2007,
          2008,
          2009,
          2010,
          2011,
          2012,
          2013,
          2014,
          2015,
          2016,
          2017,
          2018,
          2019,
          2020
         ],
         "xaxis": "x",
         "y": [
          743767,
          789347,
          829030,
          843825,
          867376,
          867376,
          895357,
          934296,
          972193,
          1005109,
          1007399,
          990144,
          1000567,
          1021618,
          1015104,
          1006510
         ],
         "yaxis": "y"
        },
        {
         "alignmentgroup": "True",
         "hovertemplate": "Municipality=Northern Sunrise County<br>Year=%{x}<br>Registration_Count=%{y}<extra></extra>",
         "legendgroup": "Northern Sunrise County",
         "marker": {
          "color": "#EF553B",
          "pattern": {
           "shape": ""
          }
         },
         "name": "Northern Sunrise County",
         "offsetgroup": "Northern Sunrise County",
         "orientation": "v",
         "showlegend": true,
         "textposition": "auto",
         "type": "bar",
         "x": [
          2005,
          2006,
          2007,
          2008,
          2009,
          2010,
          2011,
          2012,
          2013,
          2014,
          2015,
          2016,
          2017,
          2018,
          2019,
          2020
         ],
         "xaxis": "x",
         "y": [
          508,
          540,
          576,
          568,
          616,
          616,
          627,
          655,
          696,
          727,
          731,
          727,
          718,
          685,
          674,
          691
         ],
         "yaxis": "y"
        },
        {
         "alignmentgroup": "True",
         "hovertemplate": "Municipality=Grande Prairie<br>Year=%{x}<br>Registration_Count=%{y}<extra></extra>",
         "legendgroup": "Grande Prairie",
         "marker": {
          "color": "#00cc96",
          "pattern": {
           "shape": ""
          }
         },
         "name": "Grande Prairie",
         "offsetgroup": "Grande Prairie",
         "orientation": "v",
         "showlegend": true,
         "textposition": "auto",
         "type": "bar",
         "x": [
          2005,
          2006,
          2007,
          2008,
          2009,
          2010,
          2011,
          2012,
          2013,
          2014,
          2015,
          2016,
          2017,
          2018,
          2019,
          2020
         ],
         "xaxis": "x",
         "y": [
          46120,
          50480,
          52439,
          53918,
          55384,
          55384,
          59298,
          58514,
          59379,
          62542,
          60912,
          58216,
          59514,
          62153,
          60866,
          59869
         ],
         "yaxis": "y"
        },
        {
         "alignmentgroup": "True",
         "hovertemplate": "Municipality=Brazeau County<br>Year=%{x}<br>Registration_Count=%{y}<extra></extra>",
         "legendgroup": "Brazeau County",
         "marker": {
          "color": "#ab63fa",
          "pattern": {
           "shape": ""
          }
         },
         "name": "Brazeau County",
         "offsetgroup": "Brazeau County",
         "orientation": "v",
         "showlegend": true,
         "textposition": "auto",
         "type": "bar",
         "x": [
          2005,
          2006,
          2007,
          2008,
          2009,
          2010,
          2011,
          2012,
          2013,
          2014,
          2015,
          2016,
          2017,
          2018,
          2019,
          2020
         ],
         "xaxis": "x",
         "y": [
          1525,
          1612,
          1729,
          1739,
          1804,
          1804,
          1872,
          1984,
          2029,
          2112,
          2050,
          1970,
          1951,
          1939,
          1898,
          1895
         ],
         "yaxis": "y"
        },
        {
         "alignmentgroup": "True",
         "hovertemplate": "Municipality=Parkland County<br>Year=%{x}<br>Registration_Count=%{y}<extra></extra>",
         "legendgroup": "Parkland County",
         "marker": {
          "color": "#FFA15A",
          "pattern": {
           "shape": ""
          }
         },
         "name": "Parkland County",
         "offsetgroup": "Parkland County",
         "orientation": "v",
         "showlegend": true,
         "textposition": "auto",
         "type": "bar",
         "x": [
          2005,
          2006,
          2007,
          2008,
          2009,
          2010,
          2011,
          2012,
          2013,
          2014,
          2015,
          2016,
          2017,
          2018,
          2019,
          2020
         ],
         "xaxis": "x",
         "y": [
          7318,
          8587,
          9382,
          9740,
          10011,
          10011,
          10512,
          10660,
          11941,
          12822,
          12908,
          19894,
          22034,
          23687,
          24214,
          24428
         ],
         "yaxis": "y"
        },
        {
         "alignmentgroup": "True",
         "hovertemplate": "Municipality=Strathcona County<br>Year=%{x}<br>Registration_Count=%{y}<extra></extra>",
         "legendgroup": "Strathcona County",
         "marker": {
          "color": "#19d3f3",
          "pattern": {
           "shape": ""
          }
         },
         "name": "Strathcona County",
         "offsetgroup": "Strathcona County",
         "orientation": "v",
         "showlegend": true,
         "textposition": "auto",
         "type": "bar",
         "x": [
          2005,
          2006,
          2007,
          2008,
          2009,
          2010,
          2011,
          2012,
          2013,
          2014,
          2015,
          2016,
          2017,
          2018,
          2019,
          2020
         ],
         "xaxis": "x",
         "y": [
          68391,
          72184,
          76554,
          79727,
          82926,
          82926,
          84596,
          86854,
          89638,
          92071,
          92801,
          91469,
          91885,
          92864,
          91364,
          92286
         ],
         "yaxis": "y"
        },
        {
         "alignmentgroup": "True",
         "hovertemplate": "Municipality=Sturgeon County<br>Year=%{x}<br>Registration_Count=%{y}<extra></extra>",
         "legendgroup": "Sturgeon County",
         "marker": {
          "color": "#FF6692",
          "pattern": {
           "shape": ""
          }
         },
         "name": "Sturgeon County",
         "offsetgroup": "Sturgeon County",
         "orientation": "v",
         "showlegend": true,
         "textposition": "auto",
         "type": "bar",
         "x": [
          2005,
          2006,
          2007,
          2008,
          2009,
          2010,
          2011,
          2012,
          2013,
          2014,
          2015,
          2016,
          2017,
          2018,
          2019,
          2020
         ],
         "xaxis": "x",
         "y": [
          3118,
          3273,
          3438,
          3607,
          8830,
          8830,
          11036,
          13582,
          18411,
          20023,
          20566,
          20598,
          20935,
          21207,
          21094,
          21479
         ],
         "yaxis": "y"
        },
        {
         "alignmentgroup": "True",
         "hovertemplate": "Municipality=St. Albert<br>Year=%{x}<br>Registration_Count=%{y}<extra></extra>",
         "legendgroup": "St. Albert",
         "marker": {
          "color": "#B6E880",
          "pattern": {
           "shape": ""
          }
         },
         "name": "St. Albert",
         "offsetgroup": "St. Albert",
         "orientation": "v",
         "showlegend": true,
         "textposition": "auto",
         "type": "bar",
         "x": [
          2005,
          2006,
          2007,
          2008,
          2009,
          2010,
          2011,
          2012,
          2013,
          2014,
          2015,
          2016,
          2017,
          2018,
          2019,
          2020
         ],
         "xaxis": "x",
         "y": [
          46297,
          48774,
          51332,
          52387,
          49195,
          49195,
          49572,
          50424,
          51944,
          53578,
          54445,
          55202,
          54088,
          55330,
          54621,
          55279
         ],
         "yaxis": "y"
        },
        {
         "alignmentgroup": "True",
         "hovertemplate": "Municipality=Canmore<br>Year=%{x}<br>Registration_Count=%{y}<extra></extra>",
         "legendgroup": "Canmore",
         "marker": {
          "color": "#FF97FF",
          "pattern": {
           "shape": ""
          }
         },
         "name": "Canmore",
         "offsetgroup": "Canmore",
         "orientation": "v",
         "showlegend": true,
         "textposition": "auto",
         "type": "bar",
         "x": [
          2005,
          2006,
          2007,
          2008,
          2009,
          2010,
          2011,
          2012,
          2013,
          2014,
          2015,
          2016,
          2017,
          2018,
          2019,
          2020
         ],
         "xaxis": "x",
         "y": [
          9147,
          9726,
          10285,
          10412,
          10738,
          10738,
          10902,
          11395,
          11998,
          12468,
          12873,
          12803,
          12994,
          13222,
          13205,
          13292
         ],
         "yaxis": "y"
        },
        {
         "alignmentgroup": "True",
         "hovertemplate": "Municipality=Grande Prairie County No. 1<br>Year=%{x}<br>Registration_Count=%{y}<extra></extra>",
         "legendgroup": "Grande Prairie County No. 1",
         "marker": {
          "color": "#FECB52",
          "pattern": {
           "shape": ""
          }
         },
         "name": "Grande Prairie County No. 1",
         "offsetgroup": "Grande Prairie County No. 1",
         "orientation": "v",
         "showlegend": true,
         "textposition": "auto",
         "type": "bar",
         "x": [
          2005,
          2006,
          2007,
          2008,
          2009,
          2010,
          2011,
          2012,
          2013,
          2014,
          2015,
          2016,
          2017,
          2018,
          2019,
          2020
         ],
         "xaxis": "x",
         "y": [
          3973,
          4408,
          4764,
          4794,
          5354,
          5354,
          5902,
          10329,
          13116,
          14265,
          14340,
          14006,
          14664,
          14867,
          14775,
          15058
         ],
         "yaxis": "y"
        },
        {
         "alignmentgroup": "True",
         "hovertemplate": "Municipality=Cold Lake<br>Year=%{x}<br>Registration_Count=%{y}<extra></extra>",
         "legendgroup": "Cold Lake",
         "marker": {
          "color": "#636efa",
          "pattern": {
           "shape": ""
          }
         },
         "name": "Cold Lake",
         "offsetgroup": "Cold Lake",
         "orientation": "v",
         "showlegend": true,
         "textposition": "auto",
         "type": "bar",
         "x": [
          2005,
          2006,
          2007,
          2008,
          2009,
          2010,
          2011,
          2012,
          2013,
          2014,
          2015,
          2016,
          2017,
          2018,
          2019,
          2020
         ],
         "xaxis": "x",
         "y": [
          11410,
          12143,
          12841,
          13574,
          14693,
          14693,
          15380,
          16104,
          17146,
          17333,
          17269,
          16721,
          16686,
          16916,
          16563,
          16691
         ],
         "yaxis": "y"
        },
        {
         "alignmentgroup": "True",
         "hovertemplate": "Municipality=Bonnyville No. 87<br>Year=%{x}<br>Registration_Count=%{y}<extra></extra>",
         "legendgroup": "Bonnyville No. 87",
         "marker": {
          "color": "#EF553B",
          "pattern": {
           "shape": ""
          }
         },
         "name": "Bonnyville No. 87",
         "offsetgroup": "Bonnyville No. 87",
         "orientation": "v",
         "showlegend": true,
         "textposition": "auto",
         "type": "bar",
         "x": [
          2005,
          2006,
          2007,
          2008,
          2009,
          2010,
          2011,
          2012,
          2013,
          2014,
          2015,
          2016,
          2017,
          2018,
          2019,
          2020
         ],
         "xaxis": "x",
         "y": [
          2393,
          2513,
          2696,
          2830,
          3010,
          3010,
          3168,
          3316,
          3572,
          3723,
          3592,
          3474,
          3451,
          3505,
          3447,
          3495
         ],
         "yaxis": "y"
        },
        {
         "alignmentgroup": "True",
         "hovertemplate": "Municipality=St. Paul County No. 19<br>Year=%{x}<br>Registration_Count=%{y}<extra></extra>",
         "legendgroup": "St. Paul County No. 19",
         "marker": {
          "color": "#00cc96",
          "pattern": {
           "shape": ""
          }
         },
         "name": "St. Paul County No. 19",
         "offsetgroup": "St. Paul County No. 19",
         "orientation": "v",
         "showlegend": true,
         "textposition": "auto",
         "type": "bar",
         "x": [
          2005,
          2006,
          2007,
          2008,
          2009,
          2010,
          2011,
          2012,
          2013,
          2014,
          2015,
          2016,
          2017,
          2018,
          2019,
          2020
         ],
         "xaxis": "x",
         "y": [
          3596,
          4476,
          3928,
          3960,
          4203,
          4203,
          4366,
          4447,
          4606,
          4646,
          4650,
          4490,
          4473,
          4552,
          4263,
          4479
         ],
         "yaxis": "y"
        },
        {
         "alignmentgroup": "True",
         "hovertemplate": "Municipality=Peace No. 135<br>Year=%{x}<br>Registration_Count=%{y}<extra></extra>",
         "legendgroup": "Peace No. 135",
         "marker": {
          "color": "#ab63fa",
          "pattern": {
           "shape": ""
          }
         },
         "name": "Peace No. 135",
         "offsetgroup": "Peace No. 135",
         "orientation": "v",
         "showlegend": true,
         "textposition": "auto",
         "type": "bar",
         "x": [
          2005,
          2006,
          2007,
          2008,
          2009,
          2010,
          2011,
          2012,
          2013,
          2014,
          2015,
          2016,
          2017,
          2018,
          2019,
          2020
         ],
         "xaxis": "x",
         "y": [
          334,
          335,
          356,
          386,
          391,
          391,
          413,
          433,
          430,
          450,
          425,
          425,
          432,
          445,
          410,
          436
         ],
         "yaxis": "y"
        },
        {
         "alignmentgroup": "True",
         "hovertemplate": "Municipality=Wood Buffalo<br>Year=%{x}<br>Registration_Count=%{y}<extra></extra>",
         "legendgroup": "Wood Buffalo",
         "marker": {
          "color": "#FFA15A",
          "pattern": {
           "shape": ""
          }
         },
         "name": "Wood Buffalo",
         "offsetgroup": "Wood Buffalo",
         "orientation": "v",
         "showlegend": true,
         "textposition": "auto",
         "type": "bar",
         "x": [
          2005,
          2006,
          2007,
          2008,
          2009,
          2010,
          2011,
          2012,
          2013,
          2014,
          2015,
          2016,
          2017,
          2018,
          2019,
          2020
         ],
         "xaxis": "x",
         "y": [
          39380,
          43179,
          48802,
          53889,
          59820,
          59820,
          62304,
          66528,
          70162,
          71163,
          67720,
          65494,
          64349,
          64988,
          64342,
          64436
         ],
         "yaxis": "y"
        },
        {
         "alignmentgroup": "True",
         "hovertemplate": "Municipality=Bruderheim<br>Year=%{x}<br>Registration_Count=%{y}<extra></extra>",
         "legendgroup": "Bruderheim",
         "marker": {
          "color": "#19d3f3",
          "pattern": {
           "shape": ""
          }
         },
         "name": "Bruderheim",
         "offsetgroup": "Bruderheim",
         "orientation": "v",
         "showlegend": true,
         "textposition": "auto",
         "type": "bar",
         "x": [
          2005,
          2006,
          2007,
          2008,
          2009,
          2010,
          2011,
          2012,
          2013,
          2014,
          2015,
          2016,
          2017,
          2018,
          2019,
          2020
         ],
         "xaxis": "x",
         "y": [
          1415,
          1455,
          1533,
          1516,
          1583,
          1583,
          1590,
          1593,
          1689,
          1742,
          1757,
          1728,
          1727,
          1761,
          1754,
          1784
         ],
         "yaxis": "y"
        },
        {
         "alignmentgroup": "True",
         "hovertemplate": "Municipality=Leduc County<br>Year=%{x}<br>Registration_Count=%{y}<extra></extra>",
         "legendgroup": "Leduc County",
         "marker": {
          "color": "#FF6692",
          "pattern": {
           "shape": ""
          }
         },
         "name": "Leduc County",
         "offsetgroup": "Leduc County",
         "orientation": "v",
         "showlegend": true,
         "textposition": "auto",
         "type": "bar",
         "x": [
          2005,
          2006,
          2007,
          2008,
          2009,
          2010,
          2011,
          2012,
          2013,
          2014,
          2015,
          2016,
          2017,
          2018,
          2019,
          2020
         ],
         "xaxis": "x",
         "y": [
          7639,
          7700,
          7551,
          7853,
          7869,
          7869,
          12165,
          13206,
          13969,
          14829,
          14786,
          15086,
          15601,
          19062,
          18336,
          17888
         ],
         "yaxis": "y"
        },
        {
         "alignmentgroup": "True",
         "hovertemplate": "Municipality=Beaverlodge<br>Year=%{x}<br>Registration_Count=%{y}<extra></extra>",
         "legendgroup": "Beaverlodge",
         "marker": {
          "color": "#B6E880",
          "pattern": {
           "shape": ""
          }
         },
         "name": "Beaverlodge",
         "offsetgroup": "Beaverlodge",
         "orientation": "v",
         "showlegend": true,
         "textposition": "auto",
         "type": "bar",
         "x": [
          2005,
          2006,
          2007,
          2008,
          2009,
          2010,
          2011,
          2012,
          2013,
          2014,
          2015,
          2016,
          2017,
          2018,
          2019,
          2020
         ],
         "xaxis": "x",
         "y": [
          4086,
          4326,
          4509,
          4602,
          4740,
          4740,
          4923,
          5065,
          5281,
          5519,
          5552,
          5415,
          5461,
          5675,
          5514,
          5463
         ],
         "yaxis": "y"
        },
        {
         "alignmentgroup": "True",
         "hovertemplate": "Municipality=Lamont County<br>Year=%{x}<br>Registration_Count=%{y}<extra></extra>",
         "legendgroup": "Lamont County",
         "marker": {
          "color": "#FF97FF",
          "pattern": {
           "shape": ""
          }
         },
         "name": "Lamont County",
         "offsetgroup": "Lamont County",
         "orientation": "v",
         "showlegend": true,
         "textposition": "auto",
         "type": "bar",
         "x": [
          2005,
          2006,
          2007,
          2008,
          2009,
          2010,
          2011,
          2012,
          2013,
          2014,
          2015,
          2016,
          2017,
          2018,
          2019,
          2020
         ],
         "xaxis": "x",
         "y": [
          967,
          979,
          1031,
          1040,
          1075,
          1075,
          1113,
          590,
          1174,
          1171,
          636,
          603,
          607,
          608,
          578,
          605
         ],
         "yaxis": "y"
        },
        {
         "alignmentgroup": "True",
         "hovertemplate": "Municipality=Yellowhead County<br>Year=%{x}<br>Registration_Count=%{y}<extra></extra>",
         "legendgroup": "Yellowhead County",
         "marker": {
          "color": "#FECB52",
          "pattern": {
           "shape": ""
          }
         },
         "name": "Yellowhead County",
         "offsetgroup": "Yellowhead County",
         "orientation": "v",
         "showlegend": true,
         "textposition": "auto",
         "type": "bar",
         "x": [
          2005,
          2006,
          2007,
          2008,
          2009,
          2010,
          2011,
          2012,
          2013,
          2014,
          2015,
          2016,
          2017,
          2018,
          2019,
          2020
         ],
         "xaxis": "x",
         "y": [
          5736,
          5866,
          6135,
          6191,
          6425,
          6425,
          8128,
          8960,
          9399,
          9882,
          9994,
          9840,
          10040,
          10262,
          10114,
          10278
         ],
         "yaxis": "y"
        }
       ],
       "layout": {
        "autosize": true,
        "barmode": "relative",
        "legend": {
         "title": {
          "text": "Municipality"
         },
         "tracegroupgap": 0
        },
        "margin": {
         "t": 60
        },
        "template": {
         "data": {
          "bar": [
           {
            "error_x": {
             "color": "#2a3f5f"
            },
            "error_y": {
             "color": "#2a3f5f"
            },
            "marker": {
             "line": {
              "color": "#E5ECF6",
              "width": 0.5
             },
             "pattern": {
              "fillmode": "overlay",
              "size": 10,
              "solidity": 0.2
             }
            },
            "type": "bar"
           }
          ],
          "barpolar": [
           {
            "marker": {
             "line": {
              "color": "#E5ECF6",
              "width": 0.5
             },
             "pattern": {
              "fillmode": "overlay",
              "size": 10,
              "solidity": 0.2
             }
            },
            "type": "barpolar"
           }
          ],
          "carpet": [
           {
            "aaxis": {
             "endlinecolor": "#2a3f5f",
             "gridcolor": "white",
             "linecolor": "white",
             "minorgridcolor": "white",
             "startlinecolor": "#2a3f5f"
            },
            "baxis": {
             "endlinecolor": "#2a3f5f",
             "gridcolor": "white",
             "linecolor": "white",
             "minorgridcolor": "white",
             "startlinecolor": "#2a3f5f"
            },
            "type": "carpet"
           }
          ],
          "choropleth": [
           {
            "colorbar": {
             "outlinewidth": 0,
             "ticks": ""
            },
            "type": "choropleth"
           }
          ],
          "contour": [
           {
            "colorbar": {
             "outlinewidth": 0,
             "ticks": ""
            },
            "colorscale": [
             [
              0,
              "#0d0887"
             ],
             [
              0.1111111111111111,
              "#46039f"
             ],
             [
              0.2222222222222222,
              "#7201a8"
             ],
             [
              0.3333333333333333,
              "#9c179e"
             ],
             [
              0.4444444444444444,
              "#bd3786"
             ],
             [
              0.5555555555555556,
              "#d8576b"
             ],
             [
              0.6666666666666666,
              "#ed7953"
             ],
             [
              0.7777777777777778,
              "#fb9f3a"
             ],
             [
              0.8888888888888888,
              "#fdca26"
             ],
             [
              1,
              "#f0f921"
             ]
            ],
            "type": "contour"
           }
          ],
          "contourcarpet": [
           {
            "colorbar": {
             "outlinewidth": 0,
             "ticks": ""
            },
            "type": "contourcarpet"
           }
          ],
          "heatmap": [
           {
            "colorbar": {
             "outlinewidth": 0,
             "ticks": ""
            },
            "colorscale": [
             [
              0,
              "#0d0887"
             ],
             [
              0.1111111111111111,
              "#46039f"
             ],
             [
              0.2222222222222222,
              "#7201a8"
             ],
             [
              0.3333333333333333,
              "#9c179e"
             ],
             [
              0.4444444444444444,
              "#bd3786"
             ],
             [
              0.5555555555555556,
              "#d8576b"
             ],
             [
              0.6666666666666666,
              "#ed7953"
             ],
             [
              0.7777777777777778,
              "#fb9f3a"
             ],
             [
              0.8888888888888888,
              "#fdca26"
             ],
             [
              1,
              "#f0f921"
             ]
            ],
            "type": "heatmap"
           }
          ],
          "heatmapgl": [
           {
            "colorbar": {
             "outlinewidth": 0,
             "ticks": ""
            },
            "colorscale": [
             [
              0,
              "#0d0887"
             ],
             [
              0.1111111111111111,
              "#46039f"
             ],
             [
              0.2222222222222222,
              "#7201a8"
             ],
             [
              0.3333333333333333,
              "#9c179e"
             ],
             [
              0.4444444444444444,
              "#bd3786"
             ],
             [
              0.5555555555555556,
              "#d8576b"
             ],
             [
              0.6666666666666666,
              "#ed7953"
             ],
             [
              0.7777777777777778,
              "#fb9f3a"
             ],
             [
              0.8888888888888888,
              "#fdca26"
             ],
             [
              1,
              "#f0f921"
             ]
            ],
            "type": "heatmapgl"
           }
          ],
          "histogram": [
           {
            "marker": {
             "pattern": {
              "fillmode": "overlay",
              "size": 10,
              "solidity": 0.2
             }
            },
            "type": "histogram"
           }
          ],
          "histogram2d": [
           {
            "colorbar": {
             "outlinewidth": 0,
             "ticks": ""
            },
            "colorscale": [
             [
              0,
              "#0d0887"
             ],
             [
              0.1111111111111111,
              "#46039f"
             ],
             [
              0.2222222222222222,
              "#7201a8"
             ],
             [
              0.3333333333333333,
              "#9c179e"
             ],
             [
              0.4444444444444444,
              "#bd3786"
             ],
             [
              0.5555555555555556,
              "#d8576b"
             ],
             [
              0.6666666666666666,
              "#ed7953"
             ],
             [
              0.7777777777777778,
              "#fb9f3a"
             ],
             [
              0.8888888888888888,
              "#fdca26"
             ],
             [
              1,
              "#f0f921"
             ]
            ],
            "type": "histogram2d"
           }
          ],
          "histogram2dcontour": [
           {
            "colorbar": {
             "outlinewidth": 0,
             "ticks": ""
            },
            "colorscale": [
             [
              0,
              "#0d0887"
             ],
             [
              0.1111111111111111,
              "#46039f"
             ],
             [
              0.2222222222222222,
              "#7201a8"
             ],
             [
              0.3333333333333333,
              "#9c179e"
             ],
             [
              0.4444444444444444,
              "#bd3786"
             ],
             [
              0.5555555555555556,
              "#d8576b"
             ],
             [
              0.6666666666666666,
              "#ed7953"
             ],
             [
              0.7777777777777778,
              "#fb9f3a"
             ],
             [
              0.8888888888888888,
              "#fdca26"
             ],
             [
              1,
              "#f0f921"
             ]
            ],
            "type": "histogram2dcontour"
           }
          ],
          "mesh3d": [
           {
            "colorbar": {
             "outlinewidth": 0,
             "ticks": ""
            },
            "type": "mesh3d"
           }
          ],
          "parcoords": [
           {
            "line": {
             "colorbar": {
              "outlinewidth": 0,
              "ticks": ""
             }
            },
            "type": "parcoords"
           }
          ],
          "pie": [
           {
            "automargin": true,
            "type": "pie"
           }
          ],
          "scatter": [
           {
            "fillpattern": {
             "fillmode": "overlay",
             "size": 10,
             "solidity": 0.2
            },
            "type": "scatter"
           }
          ],
          "scatter3d": [
           {
            "line": {
             "colorbar": {
              "outlinewidth": 0,
              "ticks": ""
             }
            },
            "marker": {
             "colorbar": {
              "outlinewidth": 0,
              "ticks": ""
             }
            },
            "type": "scatter3d"
           }
          ],
          "scattercarpet": [
           {
            "marker": {
             "colorbar": {
              "outlinewidth": 0,
              "ticks": ""
             }
            },
            "type": "scattercarpet"
           }
          ],
          "scattergeo": [
           {
            "marker": {
             "colorbar": {
              "outlinewidth": 0,
              "ticks": ""
             }
            },
            "type": "scattergeo"
           }
          ],
          "scattergl": [
           {
            "marker": {
             "colorbar": {
              "outlinewidth": 0,
              "ticks": ""
             }
            },
            "type": "scattergl"
           }
          ],
          "scattermapbox": [
           {
            "marker": {
             "colorbar": {
              "outlinewidth": 0,
              "ticks": ""
             }
            },
            "type": "scattermapbox"
           }
          ],
          "scatterpolar": [
           {
            "marker": {
             "colorbar": {
              "outlinewidth": 0,
              "ticks": ""
             }
            },
            "type": "scatterpolar"
           }
          ],
          "scatterpolargl": [
           {
            "marker": {
             "colorbar": {
              "outlinewidth": 0,
              "ticks": ""
             }
            },
            "type": "scatterpolargl"
           }
          ],
          "scatterternary": [
           {
            "marker": {
             "colorbar": {
              "outlinewidth": 0,
              "ticks": ""
             }
            },
            "type": "scatterternary"
           }
          ],
          "surface": [
           {
            "colorbar": {
             "outlinewidth": 0,
             "ticks": ""
            },
            "colorscale": [
             [
              0,
              "#0d0887"
             ],
             [
              0.1111111111111111,
              "#46039f"
             ],
             [
              0.2222222222222222,
              "#7201a8"
             ],
             [
              0.3333333333333333,
              "#9c179e"
             ],
             [
              0.4444444444444444,
              "#bd3786"
             ],
             [
              0.5555555555555556,
              "#d8576b"
             ],
             [
              0.6666666666666666,
              "#ed7953"
             ],
             [
              0.7777777777777778,
              "#fb9f3a"
             ],
             [
              0.8888888888888888,
              "#fdca26"
             ],
             [
              1,
              "#f0f921"
             ]
            ],
            "type": "surface"
           }
          ],
          "table": [
           {
            "cells": {
             "fill": {
              "color": "#EBF0F8"
             },
             "line": {
              "color": "white"
             }
            },
            "header": {
             "fill": {
              "color": "#C8D4E3"
             },
             "line": {
              "color": "white"
             }
            },
            "type": "table"
           }
          ]
         },
         "layout": {
          "annotationdefaults": {
           "arrowcolor": "#2a3f5f",
           "arrowhead": 0,
           "arrowwidth": 1
          },
          "autotypenumbers": "strict",
          "coloraxis": {
           "colorbar": {
            "outlinewidth": 0,
            "ticks": ""
           }
          },
          "colorscale": {
           "diverging": [
            [
             0,
             "#8e0152"
            ],
            [
             0.1,
             "#c51b7d"
            ],
            [
             0.2,
             "#de77ae"
            ],
            [
             0.3,
             "#f1b6da"
            ],
            [
             0.4,
             "#fde0ef"
            ],
            [
             0.5,
             "#f7f7f7"
            ],
            [
             0.6,
             "#e6f5d0"
            ],
            [
             0.7,
             "#b8e186"
            ],
            [
             0.8,
             "#7fbc41"
            ],
            [
             0.9,
             "#4d9221"
            ],
            [
             1,
             "#276419"
            ]
           ],
           "sequential": [
            [
             0,
             "#0d0887"
            ],
            [
             0.1111111111111111,
             "#46039f"
            ],
            [
             0.2222222222222222,
             "#7201a8"
            ],
            [
             0.3333333333333333,
             "#9c179e"
            ],
            [
             0.4444444444444444,
             "#bd3786"
            ],
            [
             0.5555555555555556,
             "#d8576b"
            ],
            [
             0.6666666666666666,
             "#ed7953"
            ],
            [
             0.7777777777777778,
             "#fb9f3a"
            ],
            [
             0.8888888888888888,
             "#fdca26"
            ],
            [
             1,
             "#f0f921"
            ]
           ],
           "sequentialminus": [
            [
             0,
             "#0d0887"
            ],
            [
             0.1111111111111111,
             "#46039f"
            ],
            [
             0.2222222222222222,
             "#7201a8"
            ],
            [
             0.3333333333333333,
             "#9c179e"
            ],
            [
             0.4444444444444444,
             "#bd3786"
            ],
            [
             0.5555555555555556,
             "#d8576b"
            ],
            [
             0.6666666666666666,
             "#ed7953"
            ],
            [
             0.7777777777777778,
             "#fb9f3a"
            ],
            [
             0.8888888888888888,
             "#fdca26"
            ],
            [
             1,
             "#f0f921"
            ]
           ]
          },
          "colorway": [
           "#636efa",
           "#EF553B",
           "#00cc96",
           "#ab63fa",
           "#FFA15A",
           "#19d3f3",
           "#FF6692",
           "#B6E880",
           "#FF97FF",
           "#FECB52"
          ],
          "font": {
           "color": "#2a3f5f"
          },
          "geo": {
           "bgcolor": "white",
           "lakecolor": "white",
           "landcolor": "#E5ECF6",
           "showlakes": true,
           "showland": true,
           "subunitcolor": "white"
          },
          "hoverlabel": {
           "align": "left"
          },
          "hovermode": "closest",
          "mapbox": {
           "style": "light"
          },
          "paper_bgcolor": "white",
          "plot_bgcolor": "#E5ECF6",
          "polar": {
           "angularaxis": {
            "gridcolor": "white",
            "linecolor": "white",
            "ticks": ""
           },
           "bgcolor": "#E5ECF6",
           "radialaxis": {
            "gridcolor": "white",
            "linecolor": "white",
            "ticks": ""
           }
          },
          "scene": {
           "xaxis": {
            "backgroundcolor": "#E5ECF6",
            "gridcolor": "white",
            "gridwidth": 2,
            "linecolor": "white",
            "showbackground": true,
            "ticks": "",
            "zerolinecolor": "white"
           },
           "yaxis": {
            "backgroundcolor": "#E5ECF6",
            "gridcolor": "white",
            "gridwidth": 2,
            "linecolor": "white",
            "showbackground": true,
            "ticks": "",
            "zerolinecolor": "white"
           },
           "zaxis": {
            "backgroundcolor": "#E5ECF6",
            "gridcolor": "white",
            "gridwidth": 2,
            "linecolor": "white",
            "showbackground": true,
            "ticks": "",
            "zerolinecolor": "white"
           }
          },
          "shapedefaults": {
           "line": {
            "color": "#2a3f5f"
           }
          },
          "ternary": {
           "aaxis": {
            "gridcolor": "white",
            "linecolor": "white",
            "ticks": ""
           },
           "baxis": {
            "gridcolor": "white",
            "linecolor": "white",
            "ticks": ""
           },
           "bgcolor": "#E5ECF6",
           "caxis": {
            "gridcolor": "white",
            "linecolor": "white",
            "ticks": ""
           }
          },
          "title": {
           "x": 0.05
          },
          "xaxis": {
           "automargin": true,
           "gridcolor": "white",
           "linecolor": "white",
           "ticks": "",
           "title": {
            "standoff": 15
           },
           "zerolinecolor": "white",
           "zerolinewidth": 2
          },
          "yaxis": {
           "automargin": true,
           "gridcolor": "white",
           "linecolor": "white",
           "ticks": "",
           "title": {
            "standoff": 15
           },
           "zerolinecolor": "white",
           "zerolinewidth": 2
          }
         }
        },
        "xaxis": {
         "anchor": "y",
         "autorange": true,
         "domain": [
          0,
          1
         ],
         "range": [
          2004.5,
          2020.5
         ],
         "title": {
          "text": "Year"
         },
         "type": "linear"
        },
        "yaxis": {
         "anchor": "x",
         "autorange": true,
         "domain": [
          0,
          1
         ],
         "range": [
          0,
          2607356.8421052634
         ],
         "title": {
          "text": "Registration_Count"
         },
         "type": "linear"
        }
       }
      },
      "image/png": "[encoded data removed]",
      "text/html": [
       "<div>                            <div id=\"ac40235d-6741-4061-9efe-bffc972ca044\" class=\"plotly-graph-div\" style=\"height:525px; width:100%;\"></div>            <script type=\"text/javascript\">                require([\"plotly\"], function(Plotly) {                    window.PLOTLYENV=window.PLOTLYENV || {};                                    if (document.getElementById(\"ac40235d-6741-4061-9efe-bffc972ca044\")) {                    Plotly.newPlot(                        \"ac40235d-6741-4061-9efe-bffc972ca044\",                        [{\"alignmentgroup\":\"True\",\"hovertemplate\":\"Municipality=Red Deer\\u003cbr\\u003eYear=%{x}\\u003cbr\\u003eRegistration_Count=%{y}\\u003cextra\\u003e\\u003c\\u002fextra\\u003e\",\"legendgroup\":\"Red Deer\",\"marker\":{\"color\":\"#636efa\",\"pattern\":{\"shape\":\"\"}},\"name\":\"Red Deer\",\"offsetgroup\":\"Red Deer\",\"orientation\":\"v\",\"showlegend\":true,\"textposition\":\"auto\",\"x\":[2005,2006,2007,2008,2009,2010,2011,2012,2013,2014,2015,2016,2017,2018,2019,2020],\"xaxis\":\"x\",\"y\":[69394,73309,77226,78857,79679,79679,83466,86641,89627,93030,92096,86902,85220,85721,83801,84098],\"yaxis\":\"y\",\"type\":\"bar\"},{\"alignmentgroup\":\"True\",\"hovertemplate\":\"Municipality=Fort Saskatchewan\\u003cbr\\u003eYear=%{x}\\u003cbr\\u003eRegistration_Count=%{y}\\u003cextra\\u003e\\u003c\\u002fextra\\u003e\",\"legendgroup\":\"Fort Saskatchewan\",\"marker\":{\"color\":\"#EF553B\",\"pattern\":{\"shape\":\"\"}},\"name\":\"Fort Saskatchewan\",\"offsetgroup\":\"Fort Saskatchewan\",\"orientation\":\"v\",\"showlegend\":true,\"textposition\":\"auto\",\"x\":[2005,2006,2007,2008,2009,2010,2011,2012,2013,2014,2015,2016,2017,2018,2019,2020],\"xaxis\":\"x\",\"y\":[14909,15631,16841,17514,19124,19124,20073,20691,21513,22517,23324,23466,23652,24389,24681,25313],\"yaxis\":\"y\",\"type\":\"bar\"},{\"alignmentgroup\":\"True\",\"hovertemplate\":\"Municipality=Edmonton\\u003cbr\\u003eYear=%{x}\\u003cbr\\u003eRegistration_Count=%{y}\\u003cextra\\u003e\\u003c\\u002fextra\\u003e\",\"legendgroup\":\"Edmonton\",\"marker\":{\"color\":\"#00cc96\",\"pattern\":{\"shape\":\"\"}},\"name\":\"Edmonton\",\"offsetgroup\":\"Edmonton\",\"orientation\":\"v\",\"showlegend\":true,\"textposition\":\"auto\",\"x\":[2005,2006,2007,2008,2009,2010,2011,2012,2013,2014,2015,2016,2017,2018,2019,2020],\"xaxis\":\"x\",\"y\":[492890,524847,554714,567745,585765,585765,602783,629350,656563,685437,694584,679558,690375,707769,704657,712934],\"yaxis\":\"y\",\"type\":\"bar\"},{\"alignmentgroup\":\"True\",\"hovertemplate\":\"Municipality=Lethbridge\\u003cbr\\u003eYear=%{x}\\u003cbr\\u003eRegistration_Count=%{y}\\u003cextra\\u003e\\u003c\\u002fextra\\u003e\",\"legendgroup\":\"Lethbridge\",\"marker\":{\"color\":\"#ab63fa\",\"pattern\":{\"shape\":\"\"}},\"name\":\"Lethbridge\",\"offsetgroup\":\"Lethbridge\",\"orientation\":\"v\",\"showlegend\":true,\"textposition\":\"auto\",\"x\":[2005,2006,2007,2008,2009,2010,2011,2012,2013,2014,2015,2016,2017,2018,2019,2020],\"xaxis\":\"x\",\"y\":[60133,63433,67641,70104,72486,72486,74064,75670,77446,80013,81494,81615,80797,82195,81915,82863],\"yaxis\":\"y\",\"type\":\"bar\"},{\"alignmentgroup\":\"True\",\"hovertemplate\":\"Municipality=Newell County\\u003cbr\\u003eYear=%{x}\\u003cbr\\u003eRegistration_Count=%{y}\\u003cextra\\u003e\\u003c\\u002fextra\\u003e\",\"legendgroup\":\"Newell County\",\"marker\":{\"color\":\"#FFA15A\",\"pattern\":{\"shape\":\"\"}},\"name\":\"Newell County\",\"offsetgroup\":\"Newell County\",\"orientation\":\"v\",\"showlegend\":true,\"textposition\":\"auto\",\"x\":[2005,2006,2007,2008,2009,2010,2011,2012,2013,2014,2015,2016,2017,2018,2019,2020],\"xaxis\":\"x\",\"y\":[2943,3032,3116,3203,3180,3180,3393,3506,3522,3631,3729,3650,3617,3668,3652,3654],\"yaxis\":\"y\",\"type\":\"bar\"},{\"alignmentgroup\":\"True\",\"hovertemplate\":\"Municipality=Caroline\\u003cbr\\u003eYear=%{x}\\u003cbr\\u003eRegistration_Count=%{y}\\u003cextra\\u003e\\u003c\\u002fextra\\u003e\",\"legendgroup\":\"Caroline\",\"marker\":{\"color\":\"#19d3f3\",\"pattern\":{\"shape\":\"\"}},\"name\":\"Caroline\",\"offsetgroup\":\"Caroline\",\"orientation\":\"v\",\"showlegend\":true,\"textposition\":\"auto\",\"x\":[2005,2006,2007,2008,2009,2010,2011,2012,2013,2014,2015,2016,2017,2018,2019,2020],\"xaxis\":\"x\",\"y\":[2091,2227,2387,2409,2480,2480,2545,2601,2586,2626,2678,2613,2584,2649,2659,2703],\"yaxis\":\"y\",\"type\":\"bar\"},{\"alignmentgroup\":\"True\",\"hovertemplate\":\"Municipality=Airdrie\\u003cbr\\u003eYear=%{x}\\u003cbr\\u003eRegistration_Count=%{y}\\u003cextra\\u003e\\u003c\\u002fextra\\u003e\",\"legendgroup\":\"Airdrie\",\"marker\":{\"color\":\"#FF6692\",\"pattern\":{\"shape\":\"\"}},\"name\":\"Airdrie\",\"offsetgroup\":\"Airdrie\",\"orientation\":\"v\",\"showlegend\":true,\"textposition\":\"auto\",\"x\":[2005,2006,2007,2008,2009,2010,2011,2012,2013,2014,2015,2016,2017,2018,2019,2020],\"xaxis\":\"x\",\"y\":[24609,27288,30095,32293,36368,36368,38999,42381,46233,50069,52552,53988,55749,56348,56471,58437],\"yaxis\":\"y\",\"type\":\"bar\"},{\"alignmentgroup\":\"True\",\"hovertemplate\":\"Municipality=Medicine Hat\\u003cbr\\u003eYear=%{x}\\u003cbr\\u003eRegistration_Count=%{y}\\u003cextra\\u003e\\u003c\\u002fextra\\u003e\",\"legendgroup\":\"Medicine Hat\",\"marker\":{\"color\":\"#B6E880\",\"pattern\":{\"shape\":\"\"}},\"name\":\"Medicine Hat\",\"offsetgroup\":\"Medicine Hat\",\"orientation\":\"v\",\"showlegend\":true,\"textposition\":\"auto\",\"x\":[2005,2006,2007,2008,2009,2010,2011,2012,2013,2014,2015,2016,2017,2018,2019,2020],\"xaxis\":\"x\",\"y\":[49411,51960,54275,55828,55662,55662,57383,58493,59498,60988,60995,60173,59515,60465,59821,60072],\"yaxis\":\"y\",\"type\":\"bar\"},{\"alignmentgroup\":\"True\",\"hovertemplate\":\"Municipality=Taber, M.D.\\u003cbr\\u003eYear=%{x}\\u003cbr\\u003eRegistration_Count=%{y}\\u003cextra\\u003e\\u003c\\u002fextra\\u003e\",\"legendgroup\":\"Taber, M.D.\",\"marker\":{\"color\":\"#FF97FF\",\"pattern\":{\"shape\":\"\"}},\"name\":\"Taber, M.D.\",\"offsetgroup\":\"Taber, M.D.\",\"orientation\":\"v\",\"showlegend\":true,\"textposition\":\"auto\",\"x\":[2005,2006,2007,2008,2009,2010,2011,2012,2013,2014,2015,2016,2017,2018,2019,2020],\"xaxis\":\"x\",\"y\":[2311,2337,2480,2570,2715,2715,2822,2876,2943,3056,3038,2991,3046,3086,3119,3081],\"yaxis\":\"y\",\"type\":\"bar\"},{\"alignmentgroup\":\"True\",\"hovertemplate\":\"Municipality=Foothills County\\u003cbr\\u003eYear=%{x}\\u003cbr\\u003eRegistration_Count=%{y}\\u003cextra\\u003e\\u003c\\u002fextra\\u003e\",\"legendgroup\":\"Foothills County\",\"marker\":{\"color\":\"#FECB52\",\"pattern\":{\"shape\":\"\"}},\"name\":\"Foothills County\",\"offsetgroup\":\"Foothills County\",\"orientation\":\"v\",\"showlegend\":true,\"textposition\":\"auto\",\"x\":[2005,2006,2007,2008,2009,2010,2011,2012,2013,2014,2015,2016,2017,2018,2019,2020],\"xaxis\":\"x\",\"y\":[10169,10729,11550,12150,12643,12643,13038,13367,13756,14367,14732,15346,15305,15353,15074,15132],\"yaxis\":\"y\",\"type\":\"bar\"},{\"alignmentgroup\":\"True\",\"hovertemplate\":\"Municipality=Calgary\\u003cbr\\u003eYear=%{x}\\u003cbr\\u003eRegistration_Count=%{y}\\u003cextra\\u003e\\u003c\\u002fextra\\u003e\",\"legendgroup\":\"Calgary\",\"marker\":{\"color\":\"#636efa\",\"pattern\":{\"shape\":\"\"}},\"name\":\"Calgary\",\"offsetgroup\":\"Calgary\",\"orientation\":\"v\",\"showlegend\":true,\"textposition\":\"auto\",\"x\":[2005,2006,2007,2008,2009,2010,2011,2012,2013,2014,2015,2016,2017,2018,2019,2020],\"xaxis\":\"x\",\"y\":[743767,789347,829030,843825,867376,867376,895357,934296,972193,1005109,1007399,990144,1000567,1021618,1015104,1006510],\"yaxis\":\"y\",\"type\":\"bar\"},{\"alignmentgroup\":\"True\",\"hovertemplate\":\"Municipality=Northern Sunrise County\\u003cbr\\u003eYear=%{x}\\u003cbr\\u003eRegistration_Count=%{y}\\u003cextra\\u003e\\u003c\\u002fextra\\u003e\",\"legendgroup\":\"Northern Sunrise County\",\"marker\":{\"color\":\"#EF553B\",\"pattern\":{\"shape\":\"\"}},\"name\":\"Northern Sunrise County\",\"offsetgroup\":\"Northern Sunrise County\",\"orientation\":\"v\",\"showlegend\":true,\"textposition\":\"auto\",\"x\":[2005,2006,2007,2008,2009,2010,2011,2012,2013,2014,2015,2016,2017,2018,2019,2020],\"xaxis\":\"x\",\"y\":[508,540,576,568,616,616,627,655,696,727,731,727,718,685,674,691],\"yaxis\":\"y\",\"type\":\"bar\"},{\"alignmentgroup\":\"True\",\"hovertemplate\":\"Municipality=Grande Prairie\\u003cbr\\u003eYear=%{x}\\u003cbr\\u003eRegistration_Count=%{y}\\u003cextra\\u003e\\u003c\\u002fextra\\u003e\",\"legendgroup\":\"Grande Prairie\",\"marker\":{\"color\":\"#00cc96\",\"pattern\":{\"shape\":\"\"}},\"name\":\"Grande Prairie\",\"offsetgroup\":\"Grande Prairie\",\"orientation\":\"v\",\"showlegend\":true,\"textposition\":\"auto\",\"x\":[2005,2006,2007,2008,2009,2010,2011,2012,2013,2014,2015,2016,2017,2018,2019,2020],\"xaxis\":\"x\",\"y\":[46120,50480,52439,53918,55384,55384,59298,58514,59379,62542,60912,58216,59514,62153,60866,59869],\"yaxis\":\"y\",\"type\":\"bar\"},{\"alignmentgroup\":\"True\",\"hovertemplate\":\"Municipality=Brazeau County\\u003cbr\\u003eYear=%{x}\\u003cbr\\u003eRegistration_Count=%{y}\\u003cextra\\u003e\\u003c\\u002fextra\\u003e\",\"legendgroup\":\"Brazeau County\",\"marker\":{\"color\":\"#ab63fa\",\"pattern\":{\"shape\":\"\"}},\"name\":\"Brazeau County\",\"offsetgroup\":\"Brazeau County\",\"orientation\":\"v\",\"showlegend\":true,\"textposition\":\"auto\",\"x\":[2005,2006,2007,2008,2009,2010,2011,2012,2013,2014,2015,2016,2017,2018,2019,2020],\"xaxis\":\"x\",\"y\":[1525,1612,1729,1739,1804,1804,1872,1984,2029,2112,2050,1970,1951,1939,1898,1895],\"yaxis\":\"y\",\"type\":\"bar\"},{\"alignmentgroup\":\"True\",\"hovertemplate\":\"Municipality=Parkland County\\u003cbr\\u003eYear=%{x}\\u003cbr\\u003eRegistration_Count=%{y}\\u003cextra\\u003e\\u003c\\u002fextra\\u003e\",\"legendgroup\":\"Parkland County\",\"marker\":{\"color\":\"#FFA15A\",\"pattern\":{\"shape\":\"\"}},\"name\":\"Parkland County\",\"offsetgroup\":\"Parkland County\",\"orientation\":\"v\",\"showlegend\":true,\"textposition\":\"auto\",\"x\":[2005,2006,2007,2008,2009,2010,2011,2012,2013,2014,2015,2016,2017,2018,2019,2020],\"xaxis\":\"x\",\"y\":[7318,8587,9382,9740,10011,10011,10512,10660,11941,12822,12908,19894,22034,23687,24214,24428],\"yaxis\":\"y\",\"type\":\"bar\"},{\"alignmentgroup\":\"True\",\"hovertemplate\":\"Municipality=Strathcona County\\u003cbr\\u003eYear=%{x}\\u003cbr\\u003eRegistration_Count=%{y}\\u003cextra\\u003e\\u003c\\u002fextra\\u003e\",\"legendgroup\":\"Strathcona County\",\"marker\":{\"color\":\"#19d3f3\",\"pattern\":{\"shape\":\"\"}},\"name\":\"Strathcona County\",\"offsetgroup\":\"Strathcona County\",\"orientation\":\"v\",\"showlegend\":true,\"textposition\":\"auto\",\"x\":[2005,2006,2007,2008,2009,2010,2011,2012,2013,2014,2015,2016,2017,2018,2019,2020],\"xaxis\":\"x\",\"y\":[68391,72184,76554,79727,82926,82926,84596,86854,89638,92071,92801,91469,91885,92864,91364,92286],\"yaxis\":\"y\",\"type\":\"bar\"},{\"alignmentgroup\":\"True\",\"hovertemplate\":\"Municipality=Sturgeon County\\u003cbr\\u003eYear=%{x}\\u003cbr\\u003eRegistration_Count=%{y}\\u003cextra\\u003e\\u003c\\u002fextra\\u003e\",\"legendgroup\":\"Sturgeon County\",\"marker\":{\"color\":\"#FF6692\",\"pattern\":{\"shape\":\"\"}},\"name\":\"Sturgeon County\",\"offsetgroup\":\"Sturgeon County\",\"orientation\":\"v\",\"showlegend\":true,\"textposition\":\"auto\",\"x\":[2005,2006,2007,2008,2009,2010,2011,2012,2013,2014,2015,2016,2017,2018,2019,2020],\"xaxis\":\"x\",\"y\":[3118,3273,3438,3607,8830,8830,11036,13582,18411,20023,20566,20598,20935,21207,21094,21479],\"yaxis\":\"y\",\"type\":\"bar\"},{\"alignmentgroup\":\"True\",\"hovertemplate\":\"Municipality=St. Albert\\u003cbr\\u003eYear=%{x}\\u003cbr\\u003eRegistration_Count=%{y}\\u003cextra\\u003e\\u003c\\u002fextra\\u003e\",\"legendgroup\":\"St. Albert\",\"marker\":{\"color\":\"#B6E880\",\"pattern\":{\"shape\":\"\"}},\"name\":\"St. Albert\",\"offsetgroup\":\"St. Albert\",\"orientation\":\"v\",\"showlegend\":true,\"textposition\":\"auto\",\"x\":[2005,2006,2007,2008,2009,2010,2011,2012,2013,2014,2015,2016,2017,2018,2019,2020],\"xaxis\":\"x\",\"y\":[46297,48774,51332,52387,49195,49195,49572,50424,51944,53578,54445,55202,54088,55330,54621,55279],\"yaxis\":\"y\",\"type\":\"bar\"},{\"alignmentgroup\":\"True\",\"hovertemplate\":\"Municipality=Canmore\\u003cbr\\u003eYear=%{x}\\u003cbr\\u003eRegistration_Count=%{y}\\u003cextra\\u003e\\u003c\\u002fextra\\u003e\",\"legendgroup\":\"Canmore\",\"marker\":{\"color\":\"#FF97FF\",\"pattern\":{\"shape\":\"\"}},\"name\":\"Canmore\",\"offsetgroup\":\"Canmore\",\"orientation\":\"v\",\"showlegend\":true,\"textposition\":\"auto\",\"x\":[2005,2006,2007,2008,2009,2010,2011,2012,2013,2014,2015,2016,2017,2018,2019,2020],\"xaxis\":\"x\",\"y\":[9147,9726,10285,10412,10738,10738,10902,11395,11998,12468,12873,12803,12994,13222,13205,13292],\"yaxis\":\"y\",\"type\":\"bar\"},{\"alignmentgroup\":\"True\",\"hovertemplate\":\"Municipality=Grande Prairie County No. 1\\u003cbr\\u003eYear=%{x}\\u003cbr\\u003eRegistration_Count=%{y}\\u003cextra\\u003e\\u003c\\u002fextra\\u003e\",\"legendgroup\":\"Grande Prairie County No. 1\",\"marker\":{\"color\":\"#FECB52\",\"pattern\":{\"shape\":\"\"}},\"name\":\"Grande Prairie County No. 1\",\"offsetgroup\":\"Grande Prairie County No. 1\",\"orientation\":\"v\",\"showlegend\":true,\"textposition\":\"auto\",\"x\":[2005,2006,2007,2008,2009,2010,2011,2012,2013,2014,2015,2016,2017,2018,2019,2020],\"xaxis\":\"x\",\"y\":[3973,4408,4764,4794,5354,5354,5902,10329,13116,14265,14340,14006,14664,14867,14775,15058],\"yaxis\":\"y\",\"type\":\"bar\"},{\"alignmentgroup\":\"True\",\"hovertemplate\":\"Municipality=Cold Lake\\u003cbr\\u003eYear=%{x}\\u003cbr\\u003eRegistration_Count=%{y}\\u003cextra\\u003e\\u003c\\u002fextra\\u003e\",\"legendgroup\":\"Cold Lake\",\"marker\":{\"color\":\"#636efa\",\"pattern\":{\"shape\":\"\"}},\"name\":\"Cold Lake\",\"offsetgroup\":\"Cold Lake\",\"orientation\":\"v\",\"showlegend\":true,\"textposition\":\"auto\",\"x\":[2005,2006,2007,2008,2009,2010,2011,2012,2013,2014,2015,2016,2017,2018,2019,2020],\"xaxis\":\"x\",\"y\":[11410,12143,12841,13574,14693,14693,15380,16104,17146,17333,17269,16721,16686,16916,16563,16691],\"yaxis\":\"y\",\"type\":\"bar\"},{\"alignmentgroup\":\"True\",\"hovertemplate\":\"Municipality=Bonnyville No. 87\\u003cbr\\u003eYear=%{x}\\u003cbr\\u003eRegistration_Count=%{y}\\u003cextra\\u003e\\u003c\\u002fextra\\u003e\",\"legendgroup\":\"Bonnyville No. 87\",\"marker\":{\"color\":\"#EF553B\",\"pattern\":{\"shape\":\"\"}},\"name\":\"Bonnyville No. 87\",\"offsetgroup\":\"Bonnyville No. 87\",\"orientation\":\"v\",\"showlegend\":true,\"textposition\":\"auto\",\"x\":[2005,2006,2007,2008,2009,2010,2011,2012,2013,2014,2015,2016,2017,2018,2019,2020],\"xaxis\":\"x\",\"y\":[2393,2513,2696,2830,3010,3010,3168,3316,3572,3723,3592,3474,3451,3505,3447,3495],\"yaxis\":\"y\",\"type\":\"bar\"},{\"alignmentgroup\":\"True\",\"hovertemplate\":\"Municipality=St. Paul County No. 19\\u003cbr\\u003eYear=%{x}\\u003cbr\\u003eRegistration_Count=%{y}\\u003cextra\\u003e\\u003c\\u002fextra\\u003e\",\"legendgroup\":\"St. Paul County No. 19\",\"marker\":{\"color\":\"#00cc96\",\"pattern\":{\"shape\":\"\"}},\"name\":\"St. Paul County No. 19\",\"offsetgroup\":\"St. Paul County No. 19\",\"orientation\":\"v\",\"showlegend\":true,\"textposition\":\"auto\",\"x\":[2005,2006,2007,2008,2009,2010,2011,2012,2013,2014,2015,2016,2017,2018,2019,2020],\"xaxis\":\"x\",\"y\":[3596,4476,3928,3960,4203,4203,4366,4447,4606,4646,4650,4490,4473,4552,4263,4479],\"yaxis\":\"y\",\"type\":\"bar\"},{\"alignmentgroup\":\"True\",\"hovertemplate\":\"Municipality=Peace No. 135\\u003cbr\\u003eYear=%{x}\\u003cbr\\u003eRegistration_Count=%{y}\\u003cextra\\u003e\\u003c\\u002fextra\\u003e\",\"legendgroup\":\"Peace No. 135\",\"marker\":{\"color\":\"#ab63fa\",\"pattern\":{\"shape\":\"\"}},\"name\":\"Peace No. 135\",\"offsetgroup\":\"Peace No. 135\",\"orientation\":\"v\",\"showlegend\":true,\"textposition\":\"auto\",\"x\":[2005,2006,2007,2008,2009,2010,2011,2012,2013,2014,2015,2016,2017,2018,2019,2020],\"xaxis\":\"x\",\"y\":[334,335,356,386,391,391,413,433,430,450,425,425,432,445,410,436],\"yaxis\":\"y\",\"type\":\"bar\"},{\"alignmentgroup\":\"True\",\"hovertemplate\":\"Municipality=Wood Buffalo\\u003cbr\\u003eYear=%{x}\\u003cbr\\u003eRegistration_Count=%{y}\\u003cextra\\u003e\\u003c\\u002fextra\\u003e\",\"legendgroup\":\"Wood Buffalo\",\"marker\":{\"color\":\"#FFA15A\",\"pattern\":{\"shape\":\"\"}},\"name\":\"Wood Buffalo\",\"offsetgroup\":\"Wood Buffalo\",\"orientation\":\"v\",\"showlegend\":true,\"textposition\":\"auto\",\"x\":[2005,2006,2007,2008,2009,2010,2011,2012,2013,2014,2015,2016,2017,2018,2019,2020],\"xaxis\":\"x\",\"y\":[39380,43179,48802,53889,59820,59820,62304,66528,70162,71163,67720,65494,64349,64988,64342,64436],\"yaxis\":\"y\",\"type\":\"bar\"},{\"alignmentgroup\":\"True\",\"hovertemplate\":\"Municipality=Bruderheim\\u003cbr\\u003eYear=%{x}\\u003cbr\\u003eRegistration_Count=%{y}\\u003cextra\\u003e\\u003c\\u002fextra\\u003e\",\"legendgroup\":\"Bruderheim\",\"marker\":{\"color\":\"#19d3f3\",\"pattern\":{\"shape\":\"\"}},\"name\":\"Bruderheim\",\"offsetgroup\":\"Bruderheim\",\"orientation\":\"v\",\"showlegend\":true,\"textposition\":\"auto\",\"x\":[2005,2006,2007,2008,2009,2010,2011,2012,2013,2014,2015,2016,2017,2018,2019,2020],\"xaxis\":\"x\",\"y\":[1415,1455,1533,1516,1583,1583,1590,1593,1689,1742,1757,1728,1727,1761,1754,1784],\"yaxis\":\"y\",\"type\":\"bar\"},{\"alignmentgroup\":\"True\",\"hovertemplate\":\"Municipality=Leduc County\\u003cbr\\u003eYear=%{x}\\u003cbr\\u003eRegistration_Count=%{y}\\u003cextra\\u003e\\u003c\\u002fextra\\u003e\",\"legendgroup\":\"Leduc County\",\"marker\":{\"color\":\"#FF6692\",\"pattern\":{\"shape\":\"\"}},\"name\":\"Leduc County\",\"offsetgroup\":\"Leduc County\",\"orientation\":\"v\",\"showlegend\":true,\"textposition\":\"auto\",\"x\":[2005,2006,2007,2008,2009,2010,2011,2012,2013,2014,2015,2016,2017,2018,2019,2020],\"xaxis\":\"x\",\"y\":[7639,7700,7551,7853,7869,7869,12165,13206,13969,14829,14786,15086,15601,19062,18336,17888],\"yaxis\":\"y\",\"type\":\"bar\"},{\"alignmentgroup\":\"True\",\"hovertemplate\":\"Municipality=Beaverlodge\\u003cbr\\u003eYear=%{x}\\u003cbr\\u003eRegistration_Count=%{y}\\u003cextra\\u003e\\u003c\\u002fextra\\u003e\",\"legendgroup\":\"Beaverlodge\",\"marker\":{\"color\":\"#B6E880\",\"pattern\":{\"shape\":\"\"}},\"name\":\"Beaverlodge\",\"offsetgroup\":\"Beaverlodge\",\"orientation\":\"v\",\"showlegend\":true,\"textposition\":\"auto\",\"x\":[2005,2006,2007,2008,2009,2010,2011,2012,2013,2014,2015,2016,2017,2018,2019,2020],\"xaxis\":\"x\",\"y\":[4086,4326,4509,4602,4740,4740,4923,5065,5281,5519,5552,5415,5461,5675,5514,5463],\"yaxis\":\"y\",\"type\":\"bar\"},{\"alignmentgroup\":\"True\",\"hovertemplate\":\"Municipality=Lamont County\\u003cbr\\u003eYear=%{x}\\u003cbr\\u003eRegistration_Count=%{y}\\u003cextra\\u003e\\u003c\\u002fextra\\u003e\",\"legendgroup\":\"Lamont County\",\"marker\":{\"color\":\"#FF97FF\",\"pattern\":{\"shape\":\"\"}},\"name\":\"Lamont County\",\"offsetgroup\":\"Lamont County\",\"orientation\":\"v\",\"showlegend\":true,\"textposition\":\"auto\",\"x\":[2005,2006,2007,2008,2009,2010,2011,2012,2013,2014,2015,2016,2017,2018,2019,2020],\"xaxis\":\"x\",\"y\":[967,979,1031,1040,1075,1075,1113,590,1174,1171,636,603,607,608,578,605],\"yaxis\":\"y\",\"type\":\"bar\"},{\"alignmentgroup\":\"True\",\"hovertemplate\":\"Municipality=Yellowhead County\\u003cbr\\u003eYear=%{x}\\u003cbr\\u003eRegistration_Count=%{y}\\u003cextra\\u003e\\u003c\\u002fextra\\u003e\",\"legendgroup\":\"Yellowhead County\",\"marker\":{\"color\":\"#FECB52\",\"pattern\":{\"shape\":\"\"}},\"name\":\"Yellowhead County\",\"offsetgroup\":\"Yellowhead County\",\"orientation\":\"v\",\"showlegend\":true,\"textposition\":\"auto\",\"x\":[2005,2006,2007,2008,2009,2010,2011,2012,2013,2014,2015,2016,2017,2018,2019,2020],\"xaxis\":\"x\",\"y\":[5736,5866,6135,6191,6425,6425,8128,8960,9399,9882,9994,9840,10040,10262,10114,10278],\"yaxis\":\"y\",\"type\":\"bar\"}],                        {\"template\":{\"data\":{\"histogram2dcontour\":[{\"type\":\"histogram2dcontour\",\"colorbar\":{\"outlinewidth\":0,\"ticks\":\"\"},\"colorscale\":[[0.0,\"#0d0887\"],[0.1111111111111111,\"#46039f\"],[0.2222222222222222,\"#7201a8\"],[0.3333333333333333,\"#9c179e\"],[0.4444444444444444,\"#bd3786\"],[0.5555555555555556,\"#d8576b\"],[0.6666666666666666,\"#ed7953\"],[0.7777777777777778,\"#fb9f3a\"],[0.8888888888888888,\"#fdca26\"],[1.0,\"#f0f921\"]]}],\"choropleth\":[{\"type\":\"choropleth\",\"colorbar\":{\"outlinewidth\":0,\"ticks\":\"\"}}],\"histogram2d\":[{\"type\":\"histogram2d\",\"colorbar\":{\"outlinewidth\":0,\"ticks\":\"\"},\"colorscale\":[[0.0,\"#0d0887\"],[0.1111111111111111,\"#46039f\"],[0.2222222222222222,\"#7201a8\"],[0.3333333333333333,\"#9c179e\"],[0.4444444444444444,\"#bd3786\"],[0.5555555555555556,\"#d8576b\"],[0.6666666666666666,\"#ed7953\"],[0.7777777777777778,\"#fb9f3a\"],[0.8888888888888888,\"#fdca26\"],[1.0,\"#f0f921\"]]}],\"heatmap\":[{\"type\":\"heatmap\",\"colorbar\":{\"outlinewidth\":0,\"ticks\":\"\"},\"colorscale\":[[0.0,\"#0d0887\"],[0.1111111111111111,\"#46039f\"],[0.2222222222222222,\"#7201a8\"],[0.3333333333333333,\"#9c179e\"],[0.4444444444444444,\"#bd3786\"],[0.5555555555555556,\"#d8576b\"],[0.6666666666666666,\"#ed7953\"],[0.7777777777777778,\"#fb9f3a\"],[0.8888888888888888,\"#fdca26\"],[1.0,\"#f0f921\"]]}],\"heatmapgl\":[{\"type\":\"heatmapgl\",\"colorbar\":{\"outlinewidth\":0,\"ticks\":\"\"},\"colorscale\":[[0.0,\"#0d0887\"],[0.1111111111111111,\"#46039f\"],[0.2222222222222222,\"#7201a8\"],[0.3333333333333333,\"#9c179e\"],[0.4444444444444444,\"#bd3786\"],[0.5555555555555556,\"#d8576b\"],[0.6666666666666666,\"#ed7953\"],[0.7777777777777778,\"#fb9f3a\"],[0.8888888888888888,\"#fdca26\"],[1.0,\"#f0f921\"]]}],\"contourcarpet\":[{\"type\":\"contourcarpet\",\"colorbar\":{\"outlinewidth\":0,\"ticks\":\"\"}}],\"contour\":[{\"type\":\"contour\",\"colorbar\":{\"outlinewidth\":0,\"ticks\":\"\"},\"colorscale\":[[0.0,\"#0d0887\"],[0.1111111111111111,\"#46039f\"],[0.2222222222222222,\"#7201a8\"],[0.3333333333333333,\"#9c179e\"],[0.4444444444444444,\"#bd3786\"],[0.5555555555555556,\"#d8576b\"],[0.6666666666666666,\"#ed7953\"],[0.7777777777777778,\"#fb9f3a\"],[0.8888888888888888,\"#fdca26\"],[1.0,\"#f0f921\"]]}],\"surface\":[{\"type\":\"surface\",\"colorbar\":{\"outlinewidth\":0,\"ticks\":\"\"},\"colorscale\":[[0.0,\"#0d0887\"],[0.1111111111111111,\"#46039f\"],[0.2222222222222222,\"#7201a8\"],[0.3333333333333333,\"#9c179e\"],[0.4444444444444444,\"#bd3786\"],[0.5555555555555556,\"#d8576b\"],[0.6666666666666666,\"#ed7953\"],[0.7777777777777778,\"#fb9f3a\"],[0.8888888888888888,\"#fdca26\"],[1.0,\"#f0f921\"]]}],\"mesh3d\":[{\"type\":\"mesh3d\",\"colorbar\":{\"outlinewidth\":0,\"ticks\":\"\"}}],\"scatter\":[{\"fillpattern\":{\"fillmode\":\"overlay\",\"size\":10,\"solidity\":0.2},\"type\":\"scatter\"}],\"parcoords\":[{\"type\":\"parcoords\",\"line\":{\"colorbar\":{\"outlinewidth\":0,\"ticks\":\"\"}}}],\"scatterpolargl\":[{\"type\":\"scatterpolargl\",\"marker\":{\"colorbar\":{\"outlinewidth\":0,\"ticks\":\"\"}}}],\"bar\":[{\"error_x\":{\"color\":\"#2a3f5f\"},\"error_y\":{\"color\":\"#2a3f5f\"},\"marker\":{\"line\":{\"color\":\"#E5ECF6\",\"width\":0.5},\"pattern\":{\"fillmode\":\"overlay\",\"size\":10,\"solidity\":0.2}},\"type\":\"bar\"}],\"scattergeo\":[{\"type\":\"scattergeo\",\"marker\":{\"colorbar\":{\"outlinewidth\":0,\"ticks\":\"\"}}}],\"scatterpolar\":[{\"type\":\"scatterpolar\",\"marker\":{\"colorbar\":{\"outlinewidth\":0,\"ticks\":\"\"}}}],\"histogram\":[{\"marker\":{\"pattern\":{\"fillmode\":\"overlay\",\"size\":10,\"solidity\":0.2}},\"type\":\"histogram\"}],\"scattergl\":[{\"type\":\"scattergl\",\"marker\":{\"colorbar\":{\"outlinewidth\":0,\"ticks\":\"\"}}}],\"scatter3d\":[{\"type\":\"scatter3d\",\"line\":{\"colorbar\":{\"outlinewidth\":0,\"ticks\":\"\"}},\"marker\":{\"colorbar\":{\"outlinewidth\":0,\"ticks\":\"\"}}}],\"scattermapbox\":[{\"type\":\"scattermapbox\",\"marker\":{\"colorbar\":{\"outlinewidth\":0,\"ticks\":\"\"}}}],\"scatterternary\":[{\"type\":\"scatterternary\",\"marker\":{\"colorbar\":{\"outlinewidth\":0,\"ticks\":\"\"}}}],\"scattercarpet\":[{\"type\":\"scattercarpet\",\"marker\":{\"colorbar\":{\"outlinewidth\":0,\"ticks\":\"\"}}}],\"carpet\":[{\"aaxis\":{\"endlinecolor\":\"#2a3f5f\",\"gridcolor\":\"white\",\"linecolor\":\"white\",\"minorgridcolor\":\"white\",\"startlinecolor\":\"#2a3f5f\"},\"baxis\":{\"endlinecolor\":\"#2a3f5f\",\"gridcolor\":\"white\",\"linecolor\":\"white\",\"minorgridcolor\":\"white\",\"startlinecolor\":\"#2a3f5f\"},\"type\":\"carpet\"}],\"table\":[{\"cells\":{\"fill\":{\"color\":\"#EBF0F8\"},\"line\":{\"color\":\"white\"}},\"header\":{\"fill\":{\"color\":\"#C8D4E3\"},\"line\":{\"color\":\"white\"}},\"type\":\"table\"}],\"barpolar\":[{\"marker\":{\"line\":{\"color\":\"#E5ECF6\",\"width\":0.5},\"pattern\":{\"fillmode\":\"overlay\",\"size\":10,\"solidity\":0.2}},\"type\":\"barpolar\"}],\"pie\":[{\"automargin\":true,\"type\":\"pie\"}]},\"layout\":{\"autotypenumbers\":\"strict\",\"colorway\":[\"#636efa\",\"#EF553B\",\"#00cc96\",\"#ab63fa\",\"#FFA15A\",\"#19d3f3\",\"#FF6692\",\"#B6E880\",\"#FF97FF\",\"#FECB52\"],\"font\":{\"color\":\"#2a3f5f\"},\"hovermode\":\"closest\",\"hoverlabel\":{\"align\":\"left\"},\"paper_bgcolor\":\"white\",\"plot_bgcolor\":\"#E5ECF6\",\"polar\":{\"bgcolor\":\"#E5ECF6\",\"angularaxis\":{\"gridcolor\":\"white\",\"linecolor\":\"white\",\"ticks\":\"\"},\"radialaxis\":{\"gridcolor\":\"white\",\"linecolor\":\"white\",\"ticks\":\"\"}},\"ternary\":{\"bgcolor\":\"#E5ECF6\",\"aaxis\":{\"gridcolor\":\"white\",\"linecolor\":\"white\",\"ticks\":\"\"},\"baxis\":{\"gridcolor\":\"white\",\"linecolor\":\"white\",\"ticks\":\"\"},\"caxis\":{\"gridcolor\":\"white\",\"linecolor\":\"white\",\"ticks\":\"\"}},\"coloraxis\":{\"colorbar\":{\"outlinewidth\":0,\"ticks\":\"\"}},\"colorscale\":{\"sequential\":[[0.0,\"#0d0887\"],[0.1111111111111111,\"#46039f\"],[0.2222222222222222,\"#7201a8\"],[0.3333333333333333,\"#9c179e\"],[0.4444444444444444,\"#bd3786\"],[0.5555555555555556,\"#d8576b\"],[0.6666666666666666,\"#ed7953\"],[0.7777777777777778,\"#fb9f3a\"],[0.8888888888888888,\"#fdca26\"],[1.0,\"#f0f921\"]],\"sequentialminus\":[[0.0,\"#0d0887\"],[0.1111111111111111,\"#46039f\"],[0.2222222222222222,\"#7201a8\"],[0.3333333333333333,\"#9c179e\"],[0.4444444444444444,\"#bd3786\"],[0.5555555555555556,\"#d8576b\"],[0.6666666666666666,\"#ed7953\"],[0.7777777777777778,\"#fb9f3a\"],[0.8888888888888888,\"#fdca26\"],[1.0,\"#f0f921\"]],\"diverging\":[[0,\"#8e0152\"],[0.1,\"#c51b7d\"],[0.2,\"#de77ae\"],[0.3,\"#f1b6da\"],[0.4,\"#fde0ef\"],[0.5,\"#f7f7f7\"],[0.6,\"#e6f5d0\"],[0.7,\"#b8e186\"],[0.8,\"#7fbc41\"],[0.9,\"#4d9221\"],[1,\"#276419\"]]},\"xaxis\":{\"gridcolor\":\"white\",\"linecolor\":\"white\",\"ticks\":\"\",\"title\":{\"standoff\":15},\"zerolinecolor\":\"white\",\"automargin\":true,\"zerolinewidth\":2},\"yaxis\":{\"gridcolor\":\"white\",\"linecolor\":\"white\",\"ticks\":\"\",\"title\":{\"standoff\":15},\"zerolinecolor\":\"white\",\"automargin\":true,\"zerolinewidth\":2},\"scene\":{\"xaxis\":{\"backgroundcolor\":\"#E5ECF6\",\"gridcolor\":\"white\",\"linecolor\":\"white\",\"showbackground\":true,\"ticks\":\"\",\"zerolinecolor\":\"white\",\"gridwidth\":2},\"yaxis\":{\"backgroundcolor\":\"#E5ECF6\",\"gridcolor\":\"white\",\"linecolor\":\"white\",\"showbackground\":true,\"ticks\":\"\",\"zerolinecolor\":\"white\",\"gridwidth\":2},\"zaxis\":{\"backgroundcolor\":\"#E5ECF6\",\"gridcolor\":\"white\",\"linecolor\":\"white\",\"showbackground\":true,\"ticks\":\"\",\"zerolinecolor\":\"white\",\"gridwidth\":2}},\"shapedefaults\":{\"line\":{\"color\":\"#2a3f5f\"}},\"annotationdefaults\":{\"arrowcolor\":\"#2a3f5f\",\"arrowhead\":0,\"arrowwidth\":1},\"geo\":{\"bgcolor\":\"white\",\"landcolor\":\"#E5ECF6\",\"subunitcolor\":\"white\",\"showland\":true,\"showlakes\":true,\"lakecolor\":\"white\"},\"title\":{\"x\":0.05},\"mapbox\":{\"style\":\"light\"}}},\"xaxis\":{\"anchor\":\"y\",\"domain\":[0.0,1.0],\"title\":{\"text\":\"Year\"}},\"yaxis\":{\"anchor\":\"x\",\"domain\":[0.0,1.0],\"title\":{\"text\":\"Registration_Count\"}},\"legend\":{\"title\":{\"text\":\"Municipality\"},\"tracegroupgap\":0},\"margin\":{\"t\":60},\"barmode\":\"relative\"},                        {\"responsive\": true}                    ).then(function(){\n",
       "                            \n",
       "var gd = document.getElementById('ac40235d-6741-4061-9efe-bffc972ca044');\n",
       "var x = new MutationObserver(function (mutations, observer) {{\n",
       "        var display = window.getComputedStyle(gd).display;\n",
       "        if (!display || display === 'none') {{\n",
       "            console.log([gd, 'removed!']);\n",
       "            Plotly.purge(gd);\n",
       "            observer.disconnect();\n",
       "        }}\n",
       "}});\n",
       "\n",
       "// Listen for the removal of the full notebook cells\n",
       "var notebookContainer = gd.closest('#notebook-container');\n",
       "if (notebookContainer) {{\n",
       "    x.observe(notebookContainer, {childList: true});\n",
       "}}\n",
       "\n",
       "// Listen for the clearing of the current output cell\n",
       "var outputEl = gd.closest('.output');\n",
       "if (outputEl) {{\n",
       "    x.observe(outputEl, {childList: true});\n",
       "}}\n",
       "\n",
       "                        })                };                });            </script>        </div>"
      ]
     },
     "metadata": {},
     "output_type": "display_data"
    }
   ],
   "source": [
    "fig = px.bar(total_reg, x='Year', y='Registration_Count',\n",
    "             hover_data=['Registration_Count'], color='Municipality')\n",
    "fig.show()"
   ]
  },
  {
   "cell_type": "code",
   "execution_count": 224,
   "id": "a6278f77-9c51-4e3d-a6fb-c6e6a50c35ad",
   "metadata": {},
   "outputs": [
    {
     "data": {
      "application/vnd.plotly.v1+json": {
       "config": {
        "plotlyServerURL": "https://plot.ly"
       },
       "data": [
        {
         "branchvalues": "total",
         "domain": {
          "x": [
           0,
           1
          ],
          "y": [
           0,
           1
          ]
         },
         "hovertemplate": "labels=%{label}<br>Registration_Count=%{value}<br>parent=%{parent}<br>id=%{id}<extra></extra>",
         "ids": [
          "Alberta/2005/Airdrie",
          "Alberta/2006/Airdrie",
          "Alberta/2007/Airdrie",
          "Alberta/2008/Airdrie",
          "Alberta/2009/Airdrie",
          "Alberta/2010/Airdrie",
          "Alberta/2011/Airdrie",
          "Alberta/2012/Airdrie",
          "Alberta/2013/Airdrie",
          "Alberta/2014/Airdrie",
          "Alberta/2015/Airdrie",
          "Alberta/2016/Airdrie",
          "Alberta/2017/Airdrie",
          "Alberta/2018/Airdrie",
          "Alberta/2019/Airdrie",
          "Alberta/2020/Airdrie",
          "Alberta/2005/Beaverlodge",
          "Alberta/2006/Beaverlodge",
          "Alberta/2007/Beaverlodge",
          "Alberta/2008/Beaverlodge",
          "Alberta/2009/Beaverlodge",
          "Alberta/2010/Beaverlodge",
          "Alberta/2011/Beaverlodge",
          "Alberta/2012/Beaverlodge",
          "Alberta/2013/Beaverlodge",
          "Alberta/2014/Beaverlodge",
          "Alberta/2015/Beaverlodge",
          "Alberta/2016/Beaverlodge",
          "Alberta/2017/Beaverlodge",
          "Alberta/2018/Beaverlodge",
          "Alberta/2019/Beaverlodge",
          "Alberta/2020/Beaverlodge",
          "Alberta/2005/Bonnyville No. 87",
          "Alberta/2006/Bonnyville No. 87",
          "Alberta/2007/Bonnyville No. 87",
          "Alberta/2008/Bonnyville No. 87",
          "Alberta/2009/Bonnyville No. 87",
          "Alberta/2010/Bonnyville No. 87",
          "Alberta/2011/Bonnyville No. 87",
          "Alberta/2012/Bonnyville No. 87",
          "Alberta/2013/Bonnyville No. 87",
          "Alberta/2014/Bonnyville No. 87",
          "Alberta/2015/Bonnyville No. 87",
          "Alberta/2016/Bonnyville No. 87",
          "Alberta/2017/Bonnyville No. 87",
          "Alberta/2018/Bonnyville No. 87",
          "Alberta/2019/Bonnyville No. 87",
          "Alberta/2020/Bonnyville No. 87",
          "Alberta/2005/Brazeau County",
          "Alberta/2006/Brazeau County",
          "Alberta/2007/Brazeau County",
          "Alberta/2008/Brazeau County",
          "Alberta/2009/Brazeau County",
          "Alberta/2010/Brazeau County",
          "Alberta/2011/Brazeau County",
          "Alberta/2012/Brazeau County",
          "Alberta/2013/Brazeau County",
          "Alberta/2014/Brazeau County",
          "Alberta/2015/Brazeau County",
          "Alberta/2016/Brazeau County",
          "Alberta/2017/Brazeau County",
          "Alberta/2018/Brazeau County",
          "Alberta/2019/Brazeau County",
          "Alberta/2020/Brazeau County",
          "Alberta/2005/Bruderheim",
          "Alberta/2006/Bruderheim",
          "Alberta/2007/Bruderheim",
          "Alberta/2008/Bruderheim",
          "Alberta/2009/Bruderheim",
          "Alberta/2010/Bruderheim",
          "Alberta/2011/Bruderheim",
          "Alberta/2012/Bruderheim",
          "Alberta/2013/Bruderheim",
          "Alberta/2014/Bruderheim",
          "Alberta/2015/Bruderheim",
          "Alberta/2016/Bruderheim",
          "Alberta/2017/Bruderheim",
          "Alberta/2018/Bruderheim",
          "Alberta/2019/Bruderheim",
          "Alberta/2020/Bruderheim",
          "Alberta/2005/Calgary",
          "Alberta/2006/Calgary",
          "Alberta/2007/Calgary",
          "Alberta/2008/Calgary",
          "Alberta/2009/Calgary",
          "Alberta/2010/Calgary",
          "Alberta/2011/Calgary",
          "Alberta/2012/Calgary",
          "Alberta/2013/Calgary",
          "Alberta/2014/Calgary",
          "Alberta/2015/Calgary",
          "Alberta/2016/Calgary",
          "Alberta/2017/Calgary",
          "Alberta/2018/Calgary",
          "Alberta/2019/Calgary",
          "Alberta/2020/Calgary",
          "Alberta/2005/Canmore",
          "Alberta/2006/Canmore",
          "Alberta/2007/Canmore",
          "Alberta/2008/Canmore",
          "Alberta/2009/Canmore",
          "Alberta/2010/Canmore",
          "Alberta/2011/Canmore",
          "Alberta/2012/Canmore",
          "Alberta/2013/Canmore",
          "Alberta/2014/Canmore",
          "Alberta/2015/Canmore",
          "Alberta/2016/Canmore",
          "Alberta/2017/Canmore",
          "Alberta/2018/Canmore",
          "Alberta/2019/Canmore",
          "Alberta/2020/Canmore",
          "Alberta/2005/Caroline",
          "Alberta/2006/Caroline",
          "Alberta/2007/Caroline",
          "Alberta/2008/Caroline",
          "Alberta/2009/Caroline",
          "Alberta/2010/Caroline",
          "Alberta/2011/Caroline",
          "Alberta/2012/Caroline",
          "Alberta/2013/Caroline",
          "Alberta/2014/Caroline",
          "Alberta/2015/Caroline",
          "Alberta/2016/Caroline",
          "Alberta/2017/Caroline",
          "Alberta/2018/Caroline",
          "Alberta/2019/Caroline",
          "Alberta/2020/Caroline",
          "Alberta/2005/Cold Lake",
          "Alberta/2006/Cold Lake",
          "Alberta/2007/Cold Lake",
          "Alberta/2008/Cold Lake",
          "Alberta/2009/Cold Lake",
          "Alberta/2010/Cold Lake",
          "Alberta/2011/Cold Lake",
          "Alberta/2012/Cold Lake",
          "Alberta/2013/Cold Lake",
          "Alberta/2014/Cold Lake",
          "Alberta/2015/Cold Lake",
          "Alberta/2016/Cold Lake",
          "Alberta/2017/Cold Lake",
          "Alberta/2018/Cold Lake",
          "Alberta/2019/Cold Lake",
          "Alberta/2020/Cold Lake",
          "Alberta/2005/Edmonton",
          "Alberta/2006/Edmonton",
          "Alberta/2007/Edmonton",
          "Alberta/2008/Edmonton",
          "Alberta/2009/Edmonton",
          "Alberta/2010/Edmonton",
          "Alberta/2011/Edmonton",
          "Alberta/2012/Edmonton",
          "Alberta/2013/Edmonton",
          "Alberta/2014/Edmonton",
          "Alberta/2015/Edmonton",
          "Alberta/2016/Edmonton",
          "Alberta/2017/Edmonton",
          "Alberta/2018/Edmonton",
          "Alberta/2019/Edmonton",
          "Alberta/2020/Edmonton",
          "Alberta/2005/Foothills County",
          "Alberta/2006/Foothills County",
          "Alberta/2007/Foothills County",
          "Alberta/2008/Foothills County",
          "Alberta/2009/Foothills County",
          "Alberta/2010/Foothills County",
          "Alberta/2011/Foothills County",
          "Alberta/2012/Foothills County",
          "Alberta/2013/Foothills County",
          "Alberta/2014/Foothills County",
          "Alberta/2015/Foothills County",
          "Alberta/2016/Foothills County",
          "Alberta/2017/Foothills County",
          "Alberta/2018/Foothills County",
          "Alberta/2019/Foothills County",
          "Alberta/2020/Foothills County",
          "Alberta/2005/Fort Saskatchewan",
          "Alberta/2006/Fort Saskatchewan",
          "Alberta/2007/Fort Saskatchewan",
          "Alberta/2008/Fort Saskatchewan",
          "Alberta/2009/Fort Saskatchewan",
          "Alberta/2010/Fort Saskatchewan",
          "Alberta/2011/Fort Saskatchewan",
          "Alberta/2012/Fort Saskatchewan",
          "Alberta/2013/Fort Saskatchewan",
          "Alberta/2014/Fort Saskatchewan",
          "Alberta/2015/Fort Saskatchewan",
          "Alberta/2016/Fort Saskatchewan",
          "Alberta/2017/Fort Saskatchewan",
          "Alberta/2018/Fort Saskatchewan",
          "Alberta/2019/Fort Saskatchewan",
          "Alberta/2020/Fort Saskatchewan",
          "Alberta/2005/Grande Prairie",
          "Alberta/2006/Grande Prairie",
          "Alberta/2007/Grande Prairie",
          "Alberta/2008/Grande Prairie",
          "Alberta/2009/Grande Prairie",
          "Alberta/2010/Grande Prairie",
          "Alberta/2011/Grande Prairie",
          "Alberta/2012/Grande Prairie",
          "Alberta/2013/Grande Prairie",
          "Alberta/2014/Grande Prairie",
          "Alberta/2015/Grande Prairie",
          "Alberta/2016/Grande Prairie",
          "Alberta/2017/Grande Prairie",
          "Alberta/2018/Grande Prairie",
          "Alberta/2019/Grande Prairie",
          "Alberta/2020/Grande Prairie",
          "Alberta/2005/Grande Prairie County No. 1",
          "Alberta/2006/Grande Prairie County No. 1",
          "Alberta/2007/Grande Prairie County No. 1",
          "Alberta/2008/Grande Prairie County No. 1",
          "Alberta/2009/Grande Prairie County No. 1",
          "Alberta/2010/Grande Prairie County No. 1",
          "Alberta/2011/Grande Prairie County No. 1",
          "Alberta/2012/Grande Prairie County No. 1",
          "Alberta/2013/Grande Prairie County No. 1",
          "Alberta/2014/Grande Prairie County No. 1",
          "Alberta/2015/Grande Prairie County No. 1",
          "Alberta/2016/Grande Prairie County No. 1",
          "Alberta/2017/Grande Prairie County No. 1",
          "Alberta/2018/Grande Prairie County No. 1",
          "Alberta/2019/Grande Prairie County No. 1",
          "Alberta/2020/Grande Prairie County No. 1",
          "Alberta/2005/Lamont County",
          "Alberta/2006/Lamont County",
          "Alberta/2007/Lamont County",
          "Alberta/2008/Lamont County",
          "Alberta/2009/Lamont County",
          "Alberta/2010/Lamont County",
          "Alberta/2011/Lamont County",
          "Alberta/2012/Lamont County",
          "Alberta/2013/Lamont County",
          "Alberta/2014/Lamont County",
          "Alberta/2015/Lamont County",
          "Alberta/2016/Lamont County",
          "Alberta/2017/Lamont County",
          "Alberta/2018/Lamont County",
          "Alberta/2019/Lamont County",
          "Alberta/2020/Lamont County",
          "Alberta/2005/Leduc County",
          "Alberta/2006/Leduc County",
          "Alberta/2007/Leduc County",
          "Alberta/2008/Leduc County",
          "Alberta/2009/Leduc County",
          "Alberta/2010/Leduc County",
          "Alberta/2011/Leduc County",
          "Alberta/2012/Leduc County",
          "Alberta/2013/Leduc County",
          "Alberta/2014/Leduc County",
          "Alberta/2015/Leduc County",
          "Alberta/2016/Leduc County",
          "Alberta/2017/Leduc County",
          "Alberta/2018/Leduc County",
          "Alberta/2019/Leduc County",
          "Alberta/2020/Leduc County",
          "Alberta/2005/Lethbridge",
          "Alberta/2006/Lethbridge",
          "Alberta/2007/Lethbridge",
          "Alberta/2008/Lethbridge",
          "Alberta/2009/Lethbridge",
          "Alberta/2010/Lethbridge",
          "Alberta/2011/Lethbridge",
          "Alberta/2012/Lethbridge",
          "Alberta/2013/Lethbridge",
          "Alberta/2014/Lethbridge",
          "Alberta/2015/Lethbridge",
          "Alberta/2016/Lethbridge",
          "Alberta/2017/Lethbridge",
          "Alberta/2018/Lethbridge",
          "Alberta/2019/Lethbridge",
          "Alberta/2020/Lethbridge",
          "Alberta/2005/Medicine Hat",
          "Alberta/2006/Medicine Hat",
          "Alberta/2007/Medicine Hat",
          "Alberta/2008/Medicine Hat",
          "Alberta/2009/Medicine Hat",
          "Alberta/2010/Medicine Hat",
          "Alberta/2011/Medicine Hat",
          "Alberta/2012/Medicine Hat",
          "Alberta/2013/Medicine Hat",
          "Alberta/2014/Medicine Hat",
          "Alberta/2015/Medicine Hat",
          "Alberta/2016/Medicine Hat",
          "Alberta/2017/Medicine Hat",
          "Alberta/2018/Medicine Hat",
          "Alberta/2019/Medicine Hat",
          "Alberta/2020/Medicine Hat",
          "Alberta/2005/Newell County",
          "Alberta/2006/Newell County",
          "Alberta/2007/Newell County",
          "Alberta/2008/Newell County",
          "Alberta/2009/Newell County",
          "Alberta/2010/Newell County",
          "Alberta/2011/Newell County",
          "Alberta/2012/Newell County",
          "Alberta/2013/Newell County",
          "Alberta/2014/Newell County",
          "Alberta/2015/Newell County",
          "Alberta/2016/Newell County",
          "Alberta/2017/Newell County",
          "Alberta/2018/Newell County",
          "Alberta/2019/Newell County",
          "Alberta/2020/Newell County",
          "Alberta/2005/Northern Sunrise County",
          "Alberta/2006/Northern Sunrise County",
          "Alberta/2007/Northern Sunrise County",
          "Alberta/2008/Northern Sunrise County",
          "Alberta/2009/Northern Sunrise County",
          "Alberta/2010/Northern Sunrise County",
          "Alberta/2011/Northern Sunrise County",
          "Alberta/2012/Northern Sunrise County",
          "Alberta/2013/Northern Sunrise County",
          "Alberta/2014/Northern Sunrise County",
          "Alberta/2015/Northern Sunrise County",
          "Alberta/2016/Northern Sunrise County",
          "Alberta/2017/Northern Sunrise County",
          "Alberta/2018/Northern Sunrise County",
          "Alberta/2019/Northern Sunrise County",
          "Alberta/2020/Northern Sunrise County",
          "Alberta/2005/Parkland County",
          "Alberta/2006/Parkland County",
          "Alberta/2007/Parkland County",
          "Alberta/2008/Parkland County",
          "Alberta/2009/Parkland County",
          "Alberta/2010/Parkland County",
          "Alberta/2011/Parkland County",
          "Alberta/2012/Parkland County",
          "Alberta/2013/Parkland County",
          "Alberta/2014/Parkland County",
          "Alberta/2015/Parkland County",
          "Alberta/2016/Parkland County",
          "Alberta/2017/Parkland County",
          "Alberta/2018/Parkland County",
          "Alberta/2019/Parkland County",
          "Alberta/2020/Parkland County",
          "Alberta/2005/Peace No. 135",
          "Alberta/2006/Peace No. 135",
          "Alberta/2007/Peace No. 135",
          "Alberta/2008/Peace No. 135",
          "Alberta/2009/Peace No. 135",
          "Alberta/2010/Peace No. 135",
          "Alberta/2011/Peace No. 135",
          "Alberta/2012/Peace No. 135",
          "Alberta/2013/Peace No. 135",
          "Alberta/2014/Peace No. 135",
          "Alberta/2015/Peace No. 135",
          "Alberta/2016/Peace No. 135",
          "Alberta/2017/Peace No. 135",
          "Alberta/2018/Peace No. 135",
          "Alberta/2019/Peace No. 135",
          "Alberta/2020/Peace No. 135",
          "Alberta/2005/Red Deer",
          "Alberta/2006/Red Deer",
          "Alberta/2007/Red Deer",
          "Alberta/2008/Red Deer",
          "Alberta/2009/Red Deer",
          "Alberta/2010/Red Deer",
          "Alberta/2011/Red Deer",
          "Alberta/2012/Red Deer",
          "Alberta/2013/Red Deer",
          "Alberta/2014/Red Deer",
          "Alberta/2015/Red Deer",
          "Alberta/2016/Red Deer",
          "Alberta/2017/Red Deer",
          "Alberta/2018/Red Deer",
          "Alberta/2019/Red Deer",
          "Alberta/2020/Red Deer",
          "Alberta/2005/St. Albert",
          "Alberta/2006/St. Albert",
          "Alberta/2007/St. Albert",
          "Alberta/2008/St. Albert",
          "Alberta/2009/St. Albert",
          "Alberta/2010/St. Albert",
          "Alberta/2011/St. Albert",
          "Alberta/2012/St. Albert",
          "Alberta/2013/St. Albert",
          "Alberta/2014/St. Albert",
          "Alberta/2015/St. Albert",
          "Alberta/2016/St. Albert",
          "Alberta/2017/St. Albert",
          "Alberta/2018/St. Albert",
          "Alberta/2019/St. Albert",
          "Alberta/2020/St. Albert",
          "Alberta/2005/St. Paul County No. 19",
          "Alberta/2006/St. Paul County No. 19",
          "Alberta/2007/St. Paul County No. 19",
          "Alberta/2008/St. Paul County No. 19",
          "Alberta/2009/St. Paul County No. 19",
          "Alberta/2010/St. Paul County No. 19",
          "Alberta/2011/St. Paul County No. 19",
          "Alberta/2012/St. Paul County No. 19",
          "Alberta/2013/St. Paul County No. 19",
          "Alberta/2014/St. Paul County No. 19",
          "Alberta/2015/St. Paul County No. 19",
          "Alberta/2016/St. Paul County No. 19",
          "Alberta/2017/St. Paul County No. 19",
          "Alberta/2018/St. Paul County No. 19",
          "Alberta/2019/St. Paul County No. 19",
          "Alberta/2020/St. Paul County No. 19",
          "Alberta/2005/Strathcona County",
          "Alberta/2006/Strathcona County",
          "Alberta/2007/Strathcona County",
          "Alberta/2008/Strathcona County",
          "Alberta/2009/Strathcona County",
          "Alberta/2010/Strathcona County",
          "Alberta/2011/Strathcona County",
          "Alberta/2012/Strathcona County",
          "Alberta/2013/Strathcona County",
          "Alberta/2014/Strathcona County",
          "Alberta/2015/Strathcona County",
          "Alberta/2016/Strathcona County",
          "Alberta/2017/Strathcona County",
          "Alberta/2018/Strathcona County",
          "Alberta/2019/Strathcona County",
          "Alberta/2020/Strathcona County",
          "Alberta/2005/Sturgeon County",
          "Alberta/2006/Sturgeon County",
          "Alberta/2007/Sturgeon County",
          "Alberta/2008/Sturgeon County",
          "Alberta/2009/Sturgeon County",
          "Alberta/2010/Sturgeon County",
          "Alberta/2011/Sturgeon County",
          "Alberta/2012/Sturgeon County",
          "Alberta/2013/Sturgeon County",
          "Alberta/2014/Sturgeon County",
          "Alberta/2015/Sturgeon County",
          "Alberta/2016/Sturgeon County",
          "Alberta/2017/Sturgeon County",
          "Alberta/2018/Sturgeon County",
          "Alberta/2019/Sturgeon County",
          "Alberta/2020/Sturgeon County",
          "Alberta/2005/Taber, M.D.",
          "Alberta/2006/Taber, M.D.",
          "Alberta/2007/Taber, M.D.",
          "Alberta/2008/Taber, M.D.",
          "Alberta/2009/Taber, M.D.",
          "Alberta/2010/Taber, M.D.",
          "Alberta/2011/Taber, M.D.",
          "Alberta/2012/Taber, M.D.",
          "Alberta/2013/Taber, M.D.",
          "Alberta/2014/Taber, M.D.",
          "Alberta/2015/Taber, M.D.",
          "Alberta/2016/Taber, M.D.",
          "Alberta/2017/Taber, M.D.",
          "Alberta/2018/Taber, M.D.",
          "Alberta/2019/Taber, M.D.",
          "Alberta/2020/Taber, M.D.",
          "Alberta/2005/Wood Buffalo",
          "Alberta/2006/Wood Buffalo",
          "Alberta/2007/Wood Buffalo",
          "Alberta/2008/Wood Buffalo",
          "Alberta/2009/Wood Buffalo",
          "Alberta/2010/Wood Buffalo",
          "Alberta/2011/Wood Buffalo",
          "Alberta/2012/Wood Buffalo",
          "Alberta/2013/Wood Buffalo",
          "Alberta/2014/Wood Buffalo",
          "Alberta/2015/Wood Buffalo",
          "Alberta/2016/Wood Buffalo",
          "Alberta/2017/Wood Buffalo",
          "Alberta/2018/Wood Buffalo",
          "Alberta/2019/Wood Buffalo",
          "Alberta/2020/Wood Buffalo",
          "Alberta/2005/Yellowhead County",
          "Alberta/2006/Yellowhead County",
          "Alberta/2007/Yellowhead County",
          "Alberta/2008/Yellowhead County",
          "Alberta/2009/Yellowhead County",
          "Alberta/2010/Yellowhead County",
          "Alberta/2011/Yellowhead County",
          "Alberta/2012/Yellowhead County",
          "Alberta/2013/Yellowhead County",
          "Alberta/2014/Yellowhead County",
          "Alberta/2015/Yellowhead County",
          "Alberta/2016/Yellowhead County",
          "Alberta/2017/Yellowhead County",
          "Alberta/2018/Yellowhead County",
          "Alberta/2019/Yellowhead County",
          "Alberta/2020/Yellowhead County",
          "Alberta/2005",
          "Alberta/2006",
          "Alberta/2007",
          "Alberta/2008",
          "Alberta/2009",
          "Alberta/2010",
          "Alberta/2011",
          "Alberta/2012",
          "Alberta/2013",
          "Alberta/2014",
          "Alberta/2015",
          "Alberta/2016",
          "Alberta/2017",
          "Alberta/2018",
          "Alberta/2019",
          "Alberta/2020",
          "Alberta"
         ],
         "labels": [
          "Airdrie",
          "Airdrie",
          "Airdrie",
          "Airdrie",
          "Airdrie",
          "Airdrie",
          "Airdrie",
          "Airdrie",
          "Airdrie",
          "Airdrie",
          "Airdrie",
          "Airdrie",
          "Airdrie",
          "Airdrie",
          "Airdrie",
          "Airdrie",
          "Beaverlodge",
          "Beaverlodge",
          "Beaverlodge",
          "Beaverlodge",
          "Beaverlodge",
          "Beaverlodge",
          "Beaverlodge",
          "Beaverlodge",
          "Beaverlodge",
          "Beaverlodge",
          "Beaverlodge",
          "Beaverlodge",
          "Beaverlodge",
          "Beaverlodge",
          "Beaverlodge",
          "Beaverlodge",
          "Bonnyville No. 87",
          "Bonnyville No. 87",
          "Bonnyville No. 87",
          "Bonnyville No. 87",
          "Bonnyville No. 87",
          "Bonnyville No. 87",
          "Bonnyville No. 87",
          "Bonnyville No. 87",
          "Bonnyville No. 87",
          "Bonnyville No. 87",
          "Bonnyville No. 87",
          "Bonnyville No. 87",
          "Bonnyville No. 87",
          "Bonnyville No. 87",
          "Bonnyville No. 87",
          "Bonnyville No. 87",
          "Brazeau County",
          "Brazeau County",
          "Brazeau County",
          "Brazeau County",
          "Brazeau County",
          "Brazeau County",
          "Brazeau County",
          "Brazeau County",
          "Brazeau County",
          "Brazeau County",
          "Brazeau County",
          "Brazeau County",
          "Brazeau County",
          "Brazeau County",
          "Brazeau County",
          "Brazeau County",
          "Bruderheim",
          "Bruderheim",
          "Bruderheim",
          "Bruderheim",
          "Bruderheim",
          "Bruderheim",
          "Bruderheim",
          "Bruderheim",
          "Bruderheim",
          "Bruderheim",
          "Bruderheim",
          "Bruderheim",
          "Bruderheim",
          "Bruderheim",
          "Bruderheim",
          "Bruderheim",
          "Calgary",
          "Calgary",
          "Calgary",
          "Calgary",
          "Calgary",
          "Calgary",
          "Calgary",
          "Calgary",
          "Calgary",
          "Calgary",
          "Calgary",
          "Calgary",
          "Calgary",
          "Calgary",
          "Calgary",
          "Calgary",
          "Canmore",
          "Canmore",
          "Canmore",
          "Canmore",
          "Canmore",
          "Canmore",
          "Canmore",
          "Canmore",
          "Canmore",
          "Canmore",
          "Canmore",
          "Canmore",
          "Canmore",
          "Canmore",
          "Canmore",
          "Canmore",
          "Caroline",
          "Caroline",
          "Caroline",
          "Caroline",
          "Caroline",
          "Caroline",
          "Caroline",
          "Caroline",
          "Caroline",
          "Caroline",
          "Caroline",
          "Caroline",
          "Caroline",
          "Caroline",
          "Caroline",
          "Caroline",
          "Cold Lake",
          "Cold Lake",
          "Cold Lake",
          "Cold Lake",
          "Cold Lake",
          "Cold Lake",
          "Cold Lake",
          "Cold Lake",
          "Cold Lake",
          "Cold Lake",
          "Cold Lake",
          "Cold Lake",
          "Cold Lake",
          "Cold Lake",
          "Cold Lake",
          "Cold Lake",
          "Edmonton",
          "Edmonton",
          "Edmonton",
          "Edmonton",
          "Edmonton",
          "Edmonton",
          "Edmonton",
          "Edmonton",
          "Edmonton",
          "Edmonton",
          "Edmonton",
          "Edmonton",
          "Edmonton",
          "Edmonton",
          "Edmonton",
          "Edmonton",
          "Foothills County",
          "Foothills County",
          "Foothills County",
          "Foothills County",
          "Foothills County",
          "Foothills County",
          "Foothills County",
          "Foothills County",
          "Foothills County",
          "Foothills County",
          "Foothills County",
          "Foothills County",
          "Foothills County",
          "Foothills County",
          "Foothills County",
          "Foothills County",
          "Fort Saskatchewan",
          "Fort Saskatchewan",
          "Fort Saskatchewan",
          "Fort Saskatchewan",
          "Fort Saskatchewan",
          "Fort Saskatchewan",
          "Fort Saskatchewan",
          "Fort Saskatchewan",
          "Fort Saskatchewan",
          "Fort Saskatchewan",
          "Fort Saskatchewan",
          "Fort Saskatchewan",
          "Fort Saskatchewan",
          "Fort Saskatchewan",
          "Fort Saskatchewan",
          "Fort Saskatchewan",
          "Grande Prairie",
          "Grande Prairie",
          "Grande Prairie",
          "Grande Prairie",
          "Grande Prairie",
          "Grande Prairie",
          "Grande Prairie",
          "Grande Prairie",
          "Grande Prairie",
          "Grande Prairie",
          "Grande Prairie",
          "Grande Prairie",
          "Grande Prairie",
          "Grande Prairie",
          "Grande Prairie",
          "Grande Prairie",
          "Grande Prairie County No. 1",
          "Grande Prairie County No. 1",
          "Grande Prairie County No. 1",
          "Grande Prairie County No. 1",
          "Grande Prairie County No. 1",
          "Grande Prairie County No. 1",
          "Grande Prairie County No. 1",
          "Grande Prairie County No. 1",
          "Grande Prairie County No. 1",
          "Grande Prairie County No. 1",
          "Grande Prairie County No. 1",
          "Grande Prairie County No. 1",
          "Grande Prairie County No. 1",
          "Grande Prairie County No. 1",
          "Grande Prairie County No. 1",
          "Grande Prairie County No. 1",
          "Lamont County",
          "Lamont County",
          "Lamont County",
          "Lamont County",
          "Lamont County",
          "Lamont County",
          "Lamont County",
          "Lamont County",
          "Lamont County",
          "Lamont County",
          "Lamont County",
          "Lamont County",
          "Lamont County",
          "Lamont County",
          "Lamont County",
          "Lamont County",
          "Leduc County",
          "Leduc County",
          "Leduc County",
          "Leduc County",
          "Leduc County",
          "Leduc County",
          "Leduc County",
          "Leduc County",
          "Leduc County",
          "Leduc County",
          "Leduc County",
          "Leduc County",
          "Leduc County",
          "Leduc County",
          "Leduc County",
          "Leduc County",
          "Lethbridge",
          "Lethbridge",
          "Lethbridge",
          "Lethbridge",
          "Lethbridge",
          "Lethbridge",
          "Lethbridge",
          "Lethbridge",
          "Lethbridge",
          "Lethbridge",
          "Lethbridge",
          "Lethbridge",
          "Lethbridge",
          "Lethbridge",
          "Lethbridge",
          "Lethbridge",
          "Medicine Hat",
          "Medicine Hat",
          "Medicine Hat",
          "Medicine Hat",
          "Medicine Hat",
          "Medicine Hat",
          "Medicine Hat",
          "Medicine Hat",
          "Medicine Hat",
          "Medicine Hat",
          "Medicine Hat",
          "Medicine Hat",
          "Medicine Hat",
          "Medicine Hat",
          "Medicine Hat",
          "Medicine Hat",
          "Newell County",
          "Newell County",
          "Newell County",
          "Newell County",
          "Newell County",
          "Newell County",
          "Newell County",
          "Newell County",
          "Newell County",
          "Newell County",
          "Newell County",
          "Newell County",
          "Newell County",
          "Newell County",
          "Newell County",
          "Newell County",
          "Northern Sunrise County",
          "Northern Sunrise County",
          "Northern Sunrise County",
          "Northern Sunrise County",
          "Northern Sunrise County",
          "Northern Sunrise County",
          "Northern Sunrise County",
          "Northern Sunrise County",
          "Northern Sunrise County",
          "Northern Sunrise County",
          "Northern Sunrise County",
          "Northern Sunrise County",
          "Northern Sunrise County",
          "Northern Sunrise County",
          "Northern Sunrise County",
          "Northern Sunrise County",
          "Parkland County",
          "Parkland County",
          "Parkland County",
          "Parkland County",
          "Parkland County",
          "Parkland County",
          "Parkland County",
          "Parkland County",
          "Parkland County",
          "Parkland County",
          "Parkland County",
          "Parkland County",
          "Parkland County",
          "Parkland County",
          "Parkland County",
          "Parkland County",
          "Peace No. 135",
          "Peace No. 135",
          "Peace No. 135",
          "Peace No. 135",
          "Peace No. 135",
          "Peace No. 135",
          "Peace No. 135",
          "Peace No. 135",
          "Peace No. 135",
          "Peace No. 135",
          "Peace No. 135",
          "Peace No. 135",
          "Peace No. 135",
          "Peace No. 135",
          "Peace No. 135",
          "Peace No. 135",
          "Red Deer",
          "Red Deer",
          "Red Deer",
          "Red Deer",
          "Red Deer",
          "Red Deer",
          "Red Deer",
          "Red Deer",
          "Red Deer",
          "Red Deer",
          "Red Deer",
          "Red Deer",
          "Red Deer",
          "Red Deer",
          "Red Deer",
          "Red Deer",
          "St. Albert",
          "St. Albert",
          "St. Albert",
          "St. Albert",
          "St. Albert",
          "St. Albert",
          "St. Albert",
          "St. Albert",
          "St. Albert",
          "St. Albert",
          "St. Albert",
          "St. Albert",
          "St. Albert",
          "St. Albert",
          "St. Albert",
          "St. Albert",
          "St. Paul County No. 19",
          "St. Paul County No. 19",
          "St. Paul County No. 19",
          "St. Paul County No. 19",
          "St. Paul County No. 19",
          "St. Paul County No. 19",
          "St. Paul County No. 19",
          "St. Paul County No. 19",
          "St. Paul County No. 19",
          "St. Paul County No. 19",
          "St. Paul County No. 19",
          "St. Paul County No. 19",
          "St. Paul County No. 19",
          "St. Paul County No. 19",
          "St. Paul County No. 19",
          "St. Paul County No. 19",
          "Strathcona County",
          "Strathcona County",
          "Strathcona County",
          "Strathcona County",
          "Strathcona County",
          "Strathcona County",
          "Strathcona County",
          "Strathcona County",
          "Strathcona County",
          "Strathcona County",
          "Strathcona County",
          "Strathcona County",
          "Strathcona County",
          "Strathcona County",
          "Strathcona County",
          "Strathcona County",
          "Sturgeon County",
          "Sturgeon County",
          "Sturgeon County",
          "Sturgeon County",
          "Sturgeon County",
          "Sturgeon County",
          "Sturgeon County",
          "Sturgeon County",
          "Sturgeon County",
          "Sturgeon County",
          "Sturgeon County",
          "Sturgeon County",
          "Sturgeon County",
          "Sturgeon County",
          "Sturgeon County",
          "Sturgeon County",
          "Taber, M.D.",
          "Taber, M.D.",
          "Taber, M.D.",
          "Taber, M.D.",
          "Taber, M.D.",
          "Taber, M.D.",
          "Taber, M.D.",
          "Taber, M.D.",
          "Taber, M.D.",
          "Taber, M.D.",
          "Taber, M.D.",
          "Taber, M.D.",
          "Taber, M.D.",
          "Taber, M.D.",
          "Taber, M.D.",
          "Taber, M.D.",
          "Wood Buffalo",
          "Wood Buffalo",
          "Wood Buffalo",
          "Wood Buffalo",
          "Wood Buffalo",
          "Wood Buffalo",
          "Wood Buffalo",
          "Wood Buffalo",
          "Wood Buffalo",
          "Wood Buffalo",
          "Wood Buffalo",
          "Wood Buffalo",
          "Wood Buffalo",
          "Wood Buffalo",
          "Wood Buffalo",
          "Wood Buffalo",
          "Yellowhead County",
          "Yellowhead County",
          "Yellowhead County",
          "Yellowhead County",
          "Yellowhead County",
          "Yellowhead County",
          "Yellowhead County",
          "Yellowhead County",
          "Yellowhead County",
          "Yellowhead County",
          "Yellowhead County",
          "Yellowhead County",
          "Yellowhead County",
          "Yellowhead County",
          "Yellowhead County",
          "Yellowhead County",
          "2005",
          "2006",
          "2007",
          "2008",
          "2009",
          "2010",
          "2011",
          "2012",
          "2013",
          "2014",
          "2015",
          "2016",
          "2017",
          "2018",
          "2019",
          "2020",
          "Alberta"
         ],
         "name": "",
         "parents": [
          "Alberta/2005",
          "Alberta/2006",
          "Alberta/2007",
          "Alberta/2008",
          "Alberta/2009",
          "Alberta/2010",
          "Alberta/2011",
          "Alberta/2012",
          "Alberta/2013",
          "Alberta/2014",
          "Alberta/2015",
          "Alberta/2016",
          "Alberta/2017",
          "Alberta/2018",
          "Alberta/2019",
          "Alberta/2020",
          "Alberta/2005",
          "Alberta/2006",
          "Alberta/2007",
          "Alberta/2008",
          "Alberta/2009",
          "Alberta/2010",
          "Alberta/2011",
          "Alberta/2012",
          "Alberta/2013",
          "Alberta/2014",
          "Alberta/2015",
          "Alberta/2016",
          "Alberta/2017",
          "Alberta/2018",
          "Alberta/2019",
          "Alberta/2020",
          "Alberta/2005",
          "Alberta/2006",
          "Alberta/2007",
          "Alberta/2008",
          "Alberta/2009",
          "Alberta/2010",
          "Alberta/2011",
          "Alberta/2012",
          "Alberta/2013",
          "Alberta/2014",
          "Alberta/2015",
          "Alberta/2016",
          "Alberta/2017",
          "Alberta/2018",
          "Alberta/2019",
          "Alberta/2020",
          "Alberta/2005",
          "Alberta/2006",
          "Alberta/2007",
          "Alberta/2008",
          "Alberta/2009",
          "Alberta/2010",
          "Alberta/2011",
          "Alberta/2012",
          "Alberta/2013",
          "Alberta/2014",
          "Alberta/2015",
          "Alberta/2016",
          "Alberta/2017",
          "Alberta/2018",
          "Alberta/2019",
          "Alberta/2020",
          "Alberta/2005",
          "Alberta/2006",
          "Alberta/2007",
          "Alberta/2008",
          "Alberta/2009",
          "Alberta/2010",
          "Alberta/2011",
          "Alberta/2012",
          "Alberta/2013",
          "Alberta/2014",
          "Alberta/2015",
          "Alberta/2016",
          "Alberta/2017",
          "Alberta/2018",
          "Alberta/2019",
          "Alberta/2020",
          "Alberta/2005",
          "Alberta/2006",
          "Alberta/2007",
          "Alberta/2008",
          "Alberta/2009",
          "Alberta/2010",
          "Alberta/2011",
          "Alberta/2012",
          "Alberta/2013",
          "Alberta/2014",
          "Alberta/2015",
          "Alberta/2016",
          "Alberta/2017",
          "Alberta/2018",
          "Alberta/2019",
          "Alberta/2020",
          "Alberta/2005",
          "Alberta/2006",
          "Alberta/2007",
          "Alberta/2008",
          "Alberta/2009",
          "Alberta/2010",
          "Alberta/2011",
          "Alberta/2012",
          "Alberta/2013",
          "Alberta/2014",
          "Alberta/2015",
          "Alberta/2016",
          "Alberta/2017",
          "Alberta/2018",
          "Alberta/2019",
          "Alberta/2020",
          "Alberta/2005",
          "Alberta/2006",
          "Alberta/2007",
          "Alberta/2008",
          "Alberta/2009",
          "Alberta/2010",
          "Alberta/2011",
          "Alberta/2012",
          "Alberta/2013",
          "Alberta/2014",
          "Alberta/2015",
          "Alberta/2016",
          "Alberta/2017",
          "Alberta/2018",
          "Alberta/2019",
          "Alberta/2020",
          "Alberta/2005",
          "Alberta/2006",
          "Alberta/2007",
          "Alberta/2008",
          "Alberta/2009",
          "Alberta/2010",
          "Alberta/2011",
          "Alberta/2012",
          "Alberta/2013",
          "Alberta/2014",
          "Alberta/2015",
          "Alberta/2016",
          "Alberta/2017",
          "Alberta/2018",
          "Alberta/2019",
          "Alberta/2020",
          "Alberta/2005",
          "Alberta/2006",
          "Alberta/2007",
          "Alberta/2008",
          "Alberta/2009",
          "Alberta/2010",
          "Alberta/2011",
          "Alberta/2012",
          "Alberta/2013",
          "Alberta/2014",
          "Alberta/2015",
          "Alberta/2016",
          "Alberta/2017",
          "Alberta/2018",
          "Alberta/2019",
          "Alberta/2020",
          "Alberta/2005",
          "Alberta/2006",
          "Alberta/2007",
          "Alberta/2008",
          "Alberta/2009",
          "Alberta/2010",
          "Alberta/2011",
          "Alberta/2012",
          "Alberta/2013",
          "Alberta/2014",
          "Alberta/2015",
          "Alberta/2016",
          "Alberta/2017",
          "Alberta/2018",
          "Alberta/2019",
          "Alberta/2020",
          "Alberta/2005",
          "Alberta/2006",
          "Alberta/2007",
          "Alberta/2008",
          "Alberta/2009",
          "Alberta/2010",
          "Alberta/2011",
          "Alberta/2012",
          "Alberta/2013",
          "Alberta/2014",
          "Alberta/2015",
          "Alberta/2016",
          "Alberta/2017",
          "Alberta/2018",
          "Alberta/2019",
          "Alberta/2020",
          "Alberta/2005",
          "Alberta/2006",
          "Alberta/2007",
          "Alberta/2008",
          "Alberta/2009",
          "Alberta/2010",
          "Alberta/2011",
          "Alberta/2012",
          "Alberta/2013",
          "Alberta/2014",
          "Alberta/2015",
          "Alberta/2016",
          "Alberta/2017",
          "Alberta/2018",
          "Alberta/2019",
          "Alberta/2020",
          "Alberta/2005",
          "Alberta/2006",
          "Alberta/2007",
          "Alberta/2008",
          "Alberta/2009",
          "Alberta/2010",
          "Alberta/2011",
          "Alberta/2012",
          "Alberta/2013",
          "Alberta/2014",
          "Alberta/2015",
          "Alberta/2016",
          "Alberta/2017",
          "Alberta/2018",
          "Alberta/2019",
          "Alberta/2020",
          "Alberta/2005",
          "Alberta/2006",
          "Alberta/2007",
          "Alberta/2008",
          "Alberta/2009",
          "Alberta/2010",
          "Alberta/2011",
          "Alberta/2012",
          "Alberta/2013",
          "Alberta/2014",
          "Alberta/2015",
          "Alberta/2016",
          "Alberta/2017",
          "Alberta/2018",
          "Alberta/2019",
          "Alberta/2020",
          "Alberta/2005",
          "Alberta/2006",
          "Alberta/2007",
          "Alberta/2008",
          "Alberta/2009",
          "Alberta/2010",
          "Alberta/2011",
          "Alberta/2012",
          "Alberta/2013",
          "Alberta/2014",
          "Alberta/2015",
          "Alberta/2016",
          "Alberta/2017",
          "Alberta/2018",
          "Alberta/2019",
          "Alberta/2020",
          "Alberta/2005",
          "Alberta/2006",
          "Alberta/2007",
          "Alberta/2008",
          "Alberta/2009",
          "Alberta/2010",
          "Alberta/2011",
          "Alberta/2012",
          "Alberta/2013",
          "Alberta/2014",
          "Alberta/2015",
          "Alberta/2016",
          "Alberta/2017",
          "Alberta/2018",
          "Alberta/2019",
          "Alberta/2020",
          "Alberta/2005",
          "Alberta/2006",
          "Alberta/2007",
          "Alberta/2008",
          "Alberta/2009",
          "Alberta/2010",
          "Alberta/2011",
          "Alberta/2012",
          "Alberta/2013",
          "Alberta/2014",
          "Alberta/2015",
          "Alberta/2016",
          "Alberta/2017",
          "Alberta/2018",
          "Alberta/2019",
          "Alberta/2020",
          "Alberta/2005",
          "Alberta/2006",
          "Alberta/2007",
          "Alberta/2008",
          "Alberta/2009",
          "Alberta/2010",
          "Alberta/2011",
          "Alberta/2012",
          "Alberta/2013",
          "Alberta/2014",
          "Alberta/2015",
          "Alberta/2016",
          "Alberta/2017",
          "Alberta/2018",
          "Alberta/2019",
          "Alberta/2020",
          "Alberta/2005",
          "Alberta/2006",
          "Alberta/2007",
          "Alberta/2008",
          "Alberta/2009",
          "Alberta/2010",
          "Alberta/2011",
          "Alberta/2012",
          "Alberta/2013",
          "Alberta/2014",
          "Alberta/2015",
          "Alberta/2016",
          "Alberta/2017",
          "Alberta/2018",
          "Alberta/2019",
          "Alberta/2020",
          "Alberta/2005",
          "Alberta/2006",
          "Alberta/2007",
          "Alberta/2008",
          "Alberta/2009",
          "Alberta/2010",
          "Alberta/2011",
          "Alberta/2012",
          "Alberta/2013",
          "Alberta/2014",
          "Alberta/2015",
          "Alberta/2016",
          "Alberta/2017",
          "Alberta/2018",
          "Alberta/2019",
          "Alberta/2020",
          "Alberta/2005",
          "Alberta/2006",
          "Alberta/2007",
          "Alberta/2008",
          "Alberta/2009",
          "Alberta/2010",
          "Alberta/2011",
          "Alberta/2012",
          "Alberta/2013",
          "Alberta/2014",
          "Alberta/2015",
          "Alberta/2016",
          "Alberta/2017",
          "Alberta/2018",
          "Alberta/2019",
          "Alberta/2020",
          "Alberta/2005",
          "Alberta/2006",
          "Alberta/2007",
          "Alberta/2008",
          "Alberta/2009",
          "Alberta/2010",
          "Alberta/2011",
          "Alberta/2012",
          "Alberta/2013",
          "Alberta/2014",
          "Alberta/2015",
          "Alberta/2016",
          "Alberta/2017",
          "Alberta/2018",
          "Alberta/2019",
          "Alberta/2020",
          "Alberta/2005",
          "Alberta/2006",
          "Alberta/2007",
          "Alberta/2008",
          "Alberta/2009",
          "Alberta/2010",
          "Alberta/2011",
          "Alberta/2012",
          "Alberta/2013",
          "Alberta/2014",
          "Alberta/2015",
          "Alberta/2016",
          "Alberta/2017",
          "Alberta/2018",
          "Alberta/2019",
          "Alberta/2020",
          "Alberta/2005",
          "Alberta/2006",
          "Alberta/2007",
          "Alberta/2008",
          "Alberta/2009",
          "Alberta/2010",
          "Alberta/2011",
          "Alberta/2012",
          "Alberta/2013",
          "Alberta/2014",
          "Alberta/2015",
          "Alberta/2016",
          "Alberta/2017",
          "Alberta/2018",
          "Alberta/2019",
          "Alberta/2020",
          "Alberta/2005",
          "Alberta/2006",
          "Alberta/2007",
          "Alberta/2008",
          "Alberta/2009",
          "Alberta/2010",
          "Alberta/2011",
          "Alberta/2012",
          "Alberta/2013",
          "Alberta/2014",
          "Alberta/2015",
          "Alberta/2016",
          "Alberta/2017",
          "Alberta/2018",
          "Alberta/2019",
          "Alberta/2020",
          "Alberta/2005",
          "Alberta/2006",
          "Alberta/2007",
          "Alberta/2008",
          "Alberta/2009",
          "Alberta/2010",
          "Alberta/2011",
          "Alberta/2012",
          "Alberta/2013",
          "Alberta/2014",
          "Alberta/2015",
          "Alberta/2016",
          "Alberta/2017",
          "Alberta/2018",
          "Alberta/2019",
          "Alberta/2020",
          "Alberta/2005",
          "Alberta/2006",
          "Alberta/2007",
          "Alberta/2008",
          "Alberta/2009",
          "Alberta/2010",
          "Alberta/2011",
          "Alberta/2012",
          "Alberta/2013",
          "Alberta/2014",
          "Alberta/2015",
          "Alberta/2016",
          "Alberta/2017",
          "Alberta/2018",
          "Alberta/2019",
          "Alberta/2020",
          "Alberta/2005",
          "Alberta/2006",
          "Alberta/2007",
          "Alberta/2008",
          "Alberta/2009",
          "Alberta/2010",
          "Alberta/2011",
          "Alberta/2012",
          "Alberta/2013",
          "Alberta/2014",
          "Alberta/2015",
          "Alberta/2016",
          "Alberta/2017",
          "Alberta/2018",
          "Alberta/2019",
          "Alberta/2020",
          "Alberta/2005",
          "Alberta/2006",
          "Alberta/2007",
          "Alberta/2008",
          "Alberta/2009",
          "Alberta/2010",
          "Alberta/2011",
          "Alberta/2012",
          "Alberta/2013",
          "Alberta/2014",
          "Alberta/2015",
          "Alberta/2016",
          "Alberta/2017",
          "Alberta/2018",
          "Alberta/2019",
          "Alberta/2020",
          "Alberta",
          "Alberta",
          "Alberta",
          "Alberta",
          "Alberta",
          "Alberta",
          "Alberta",
          "Alberta",
          "Alberta",
          "Alberta",
          "Alberta",
          "Alberta",
          "Alberta",
          "Alberta",
          "Alberta",
          "Alberta",
          ""
         ],
         "root": {
          "color": "lightgrey"
         },
         "type": "treemap",
         "values": [
          24609,
          27288,
          30095,
          32293,
          36368,
          36368,
          38999,
          42381,
          46233,
          50069,
          52552,
          53988,
          55749,
          56348,
          56471,
          58437,
          4086,
          4326,
          4509,
          4602,
          4740,
          4740,
          4923,
          5065,
          5281,
          5519,
          5552,
          5415,
          5461,
          5675,
          5514,
          5463,
          2393,
          2513,
          2696,
          2830,
          3010,
          3010,
          3168,
          3316,
          3572,
          3723,
          3592,
          3474,
          3451,
          3505,
          3447,
          3495,
          1525,
          1612,
          1729,
          1739,
          1804,
          1804,
          1872,
          1984,
          2029,
          2112,
          2050,
          1970,
          1951,
          1939,
          1898,
          1895,
          1415,
          1455,
          1533,
          1516,
          1583,
          1583,
          1590,
          1593,
          1689,
          1742,
          1757,
          1728,
          1727,
          1761,
          1754,
          1784,
          743767,
          789347,
          829030,
          843825,
          867376,
          867376,
          895357,
          934296,
          972193,
          1005109,
          1007399,
          990144,
          1000567,
          1021618,
          1015104,
          1006510,
          9147,
          9726,
          10285,
          10412,
          10738,
          10738,
          10902,
          11395,
          11998,
          12468,
          12873,
          12803,
          12994,
          13222,
          13205,
          13292,
          2091,
          2227,
          2387,
          2409,
          2480,
          2480,
          2545,
          2601,
          2586,
          2626,
          2678,
          2613,
          2584,
          2649,
          2659,
          2703,
          11410,
          12143,
          12841,
          13574,
          14693,
          14693,
          15380,
          16104,
          17146,
          17333,
          17269,
          16721,
          16686,
          16916,
          16563,
          16691,
          492890,
          524847,
          554714,
          567745,
          585765,
          585765,
          602783,
          629350,
          656563,
          685437,
          694584,
          679558,
          690375,
          707769,
          704657,
          712934,
          10169,
          10729,
          11550,
          12150,
          12643,
          12643,
          13038,
          13367,
          13756,
          14367,
          14732,
          15346,
          15305,
          15353,
          15074,
          15132,
          14909,
          15631,
          16841,
          17514,
          19124,
          19124,
          20073,
          20691,
          21513,
          22517,
          23324,
          23466,
          23652,
          24389,
          24681,
          25313,
          46120,
          50480,
          52439,
          53918,
          55384,
          55384,
          59298,
          58514,
          59379,
          62542,
          60912,
          58216,
          59514,
          62153,
          60866,
          59869,
          3973,
          4408,
          4764,
          4794,
          5354,
          5354,
          5902,
          10329,
          13116,
          14265,
          14340,
          14006,
          14664,
          14867,
          14775,
          15058,
          967,
          979,
          1031,
          1040,
          1075,
          1075,
          1113,
          590,
          1174,
          1171,
          636,
          603,
          607,
          608,
          578,
          605,
          7639,
          7700,
          7551,
          7853,
          7869,
          7869,
          12165,
          13206,
          13969,
          14829,
          14786,
          15086,
          15601,
          19062,
          18336,
          17888,
          60133,
          63433,
          67641,
          70104,
          72486,
          72486,
          74064,
          75670,
          77446,
          80013,
          81494,
          81615,
          80797,
          82195,
          81915,
          82863,
          49411,
          51960,
          54275,
          55828,
          55662,
          55662,
          57383,
          58493,
          59498,
          60988,
          60995,
          60173,
          59515,
          60465,
          59821,
          60072,
          2943,
          3032,
          3116,
          3203,
          3180,
          3180,
          3393,
          3506,
          3522,
          3631,
          3729,
          3650,
          3617,
          3668,
          3652,
          3654,
          508,
          540,
          576,
          568,
          616,
          616,
          627,
          655,
          696,
          727,
          731,
          727,
          718,
          685,
          674,
          691,
          7318,
          8587,
          9382,
          9740,
          10011,
          10011,
          10512,
          10660,
          11941,
          12822,
          12908,
          19894,
          22034,
          23687,
          24214,
          24428,
          334,
          335,
          356,
          386,
          391,
          391,
          413,
          433,
          430,
          450,
          425,
          425,
          432,
          445,
          410,
          436,
          69394,
          73309,
          77226,
          78857,
          79679,
          79679,
          83466,
          86641,
          89627,
          93030,
          92096,
          86902,
          85220,
          85721,
          83801,
          84098,
          46297,
          48774,
          51332,
          52387,
          49195,
          49195,
          49572,
          50424,
          51944,
          53578,
          54445,
          55202,
          54088,
          55330,
          54621,
          55279,
          3596,
          4476,
          3928,
          3960,
          4203,
          4203,
          4366,
          4447,
          4606,
          4646,
          4650,
          4490,
          4473,
          4552,
          4263,
          4479,
          68391,
          72184,
          76554,
          79727,
          82926,
          82926,
          84596,
          86854,
          89638,
          92071,
          92801,
          91469,
          91885,
          92864,
          91364,
          92286,
          3118,
          3273,
          3438,
          3607,
          8830,
          8830,
          11036,
          13582,
          18411,
          20023,
          20566,
          20598,
          20935,
          21207,
          21094,
          21479,
          2311,
          2337,
          2480,
          2570,
          2715,
          2715,
          2822,
          2876,
          2943,
          3056,
          3038,
          2991,
          3046,
          3086,
          3119,
          3081,
          39380,
          43179,
          48802,
          53889,
          59820,
          59820,
          62304,
          66528,
          70162,
          71163,
          67720,
          65494,
          64349,
          64988,
          64342,
          64436,
          5736,
          5866,
          6135,
          6191,
          6425,
          6425,
          8128,
          8960,
          9399,
          9882,
          9994,
          9840,
          10040,
          10262,
          10114,
          10278,
          1735980,
          1846696,
          1949236,
          1999231,
          2066145,
          2066145,
          2141790,
          2234511,
          2332460,
          2421909,
          2434628,
          2398607,
          2422037,
          2476989,
          2458986,
          2464629,
          35449979
         ]
        }
       ],
       "layout": {
        "autosize": true,
        "legend": {
         "tracegroupgap": 0
        },
        "margin": {
         "b": 25,
         "l": 25,
         "r": 25,
         "t": 50
        },
        "template": {
         "data": {
          "bar": [
           {
            "error_x": {
             "color": "#2a3f5f"
            },
            "error_y": {
             "color": "#2a3f5f"
            },
            "marker": {
             "line": {
              "color": "#E5ECF6",
              "width": 0.5
             },
             "pattern": {
              "fillmode": "overlay",
              "size": 10,
              "solidity": 0.2
             }
            },
            "type": "bar"
           }
          ],
          "barpolar": [
           {
            "marker": {
             "line": {
              "color": "#E5ECF6",
              "width": 0.5
             },
             "pattern": {
              "fillmode": "overlay",
              "size": 10,
              "solidity": 0.2
             }
            },
            "type": "barpolar"
           }
          ],
          "carpet": [
           {
            "aaxis": {
             "endlinecolor": "#2a3f5f",
             "gridcolor": "white",
             "linecolor": "white",
             "minorgridcolor": "white",
             "startlinecolor": "#2a3f5f"
            },
            "baxis": {
             "endlinecolor": "#2a3f5f",
             "gridcolor": "white",
             "linecolor": "white",
             "minorgridcolor": "white",
             "startlinecolor": "#2a3f5f"
            },
            "type": "carpet"
           }
          ],
          "choropleth": [
           {
            "colorbar": {
             "outlinewidth": 0,
             "ticks": ""
            },
            "type": "choropleth"
           }
          ],
          "contour": [
           {
            "colorbar": {
             "outlinewidth": 0,
             "ticks": ""
            },
            "colorscale": [
             [
              0,
              "#0d0887"
             ],
             [
              0.1111111111111111,
              "#46039f"
             ],
             [
              0.2222222222222222,
              "#7201a8"
             ],
             [
              0.3333333333333333,
              "#9c179e"
             ],
             [
              0.4444444444444444,
              "#bd3786"
             ],
             [
              0.5555555555555556,
              "#d8576b"
             ],
             [
              0.6666666666666666,
              "#ed7953"
             ],
             [
              0.7777777777777778,
              "#fb9f3a"
             ],
             [
              0.8888888888888888,
              "#fdca26"
             ],
             [
              1,
              "#f0f921"
             ]
            ],
            "type": "contour"
           }
          ],
          "contourcarpet": [
           {
            "colorbar": {
             "outlinewidth": 0,
             "ticks": ""
            },
            "type": "contourcarpet"
           }
          ],
          "heatmap": [
           {
            "colorbar": {
             "outlinewidth": 0,
             "ticks": ""
            },
            "colorscale": [
             [
              0,
              "#0d0887"
             ],
             [
              0.1111111111111111,
              "#46039f"
             ],
             [
              0.2222222222222222,
              "#7201a8"
             ],
             [
              0.3333333333333333,
              "#9c179e"
             ],
             [
              0.4444444444444444,
              "#bd3786"
             ],
             [
              0.5555555555555556,
              "#d8576b"
             ],
             [
              0.6666666666666666,
              "#ed7953"
             ],
             [
              0.7777777777777778,
              "#fb9f3a"
             ],
             [
              0.8888888888888888,
              "#fdca26"
             ],
             [
              1,
              "#f0f921"
             ]
            ],
            "type": "heatmap"
           }
          ],
          "heatmapgl": [
           {
            "colorbar": {
             "outlinewidth": 0,
             "ticks": ""
            },
            "colorscale": [
             [
              0,
              "#0d0887"
             ],
             [
              0.1111111111111111,
              "#46039f"
             ],
             [
              0.2222222222222222,
              "#7201a8"
             ],
             [
              0.3333333333333333,
              "#9c179e"
             ],
             [
              0.4444444444444444,
              "#bd3786"
             ],
             [
              0.5555555555555556,
              "#d8576b"
             ],
             [
              0.6666666666666666,
              "#ed7953"
             ],
             [
              0.7777777777777778,
              "#fb9f3a"
             ],
             [
              0.8888888888888888,
              "#fdca26"
             ],
             [
              1,
              "#f0f921"
             ]
            ],
            "type": "heatmapgl"
           }
          ],
          "histogram": [
           {
            "marker": {
             "pattern": {
              "fillmode": "overlay",
              "size": 10,
              "solidity": 0.2
             }
            },
            "type": "histogram"
           }
          ],
          "histogram2d": [
           {
            "colorbar": {
             "outlinewidth": 0,
             "ticks": ""
            },
            "colorscale": [
             [
              0,
              "#0d0887"
             ],
             [
              0.1111111111111111,
              "#46039f"
             ],
             [
              0.2222222222222222,
              "#7201a8"
             ],
             [
              0.3333333333333333,
              "#9c179e"
             ],
             [
              0.4444444444444444,
              "#bd3786"
             ],
             [
              0.5555555555555556,
              "#d8576b"
             ],
             [
              0.6666666666666666,
              "#ed7953"
             ],
             [
              0.7777777777777778,
              "#fb9f3a"
             ],
             [
              0.8888888888888888,
              "#fdca26"
             ],
             [
              1,
              "#f0f921"
             ]
            ],
            "type": "histogram2d"
           }
          ],
          "histogram2dcontour": [
           {
            "colorbar": {
             "outlinewidth": 0,
             "ticks": ""
            },
            "colorscale": [
             [
              0,
              "#0d0887"
             ],
             [
              0.1111111111111111,
              "#46039f"
             ],
             [
              0.2222222222222222,
              "#7201a8"
             ],
             [
              0.3333333333333333,
              "#9c179e"
             ],
             [
              0.4444444444444444,
              "#bd3786"
             ],
             [
              0.5555555555555556,
              "#d8576b"
             ],
             [
              0.6666666666666666,
              "#ed7953"
             ],
             [
              0.7777777777777778,
              "#fb9f3a"
             ],
             [
              0.8888888888888888,
              "#fdca26"
             ],
             [
              1,
              "#f0f921"
             ]
            ],
            "type": "histogram2dcontour"
           }
          ],
          "mesh3d": [
           {
            "colorbar": {
             "outlinewidth": 0,
             "ticks": ""
            },
            "type": "mesh3d"
           }
          ],
          "parcoords": [
           {
            "line": {
             "colorbar": {
              "outlinewidth": 0,
              "ticks": ""
             }
            },
            "type": "parcoords"
           }
          ],
          "pie": [
           {
            "automargin": true,
            "type": "pie"
           }
          ],
          "scatter": [
           {
            "fillpattern": {
             "fillmode": "overlay",
             "size": 10,
             "solidity": 0.2
            },
            "type": "scatter"
           }
          ],
          "scatter3d": [
           {
            "line": {
             "colorbar": {
              "outlinewidth": 0,
              "ticks": ""
             }
            },
            "marker": {
             "colorbar": {
              "outlinewidth": 0,
              "ticks": ""
             }
            },
            "type": "scatter3d"
           }
          ],
          "scattercarpet": [
           {
            "marker": {
             "colorbar": {
              "outlinewidth": 0,
              "ticks": ""
             }
            },
            "type": "scattercarpet"
           }
          ],
          "scattergeo": [
           {
            "marker": {
             "colorbar": {
              "outlinewidth": 0,
              "ticks": ""
             }
            },
            "type": "scattergeo"
           }
          ],
          "scattergl": [
           {
            "marker": {
             "colorbar": {
              "outlinewidth": 0,
              "ticks": ""
             }
            },
            "type": "scattergl"
           }
          ],
          "scattermapbox": [
           {
            "marker": {
             "colorbar": {
              "outlinewidth": 0,
              "ticks": ""
             }
            },
            "type": "scattermapbox"
           }
          ],
          "scatterpolar": [
           {
            "marker": {
             "colorbar": {
              "outlinewidth": 0,
              "ticks": ""
             }
            },
            "type": "scatterpolar"
           }
          ],
          "scatterpolargl": [
           {
            "marker": {
             "colorbar": {
              "outlinewidth": 0,
              "ticks": ""
             }
            },
            "type": "scatterpolargl"
           }
          ],
          "scatterternary": [
           {
            "marker": {
             "colorbar": {
              "outlinewidth": 0,
              "ticks": ""
             }
            },
            "type": "scatterternary"
           }
          ],
          "surface": [
           {
            "colorbar": {
             "outlinewidth": 0,
             "ticks": ""
            },
            "colorscale": [
             [
              0,
              "#0d0887"
             ],
             [
              0.1111111111111111,
              "#46039f"
             ],
             [
              0.2222222222222222,
              "#7201a8"
             ],
             [
              0.3333333333333333,
              "#9c179e"
             ],
             [
              0.4444444444444444,
              "#bd3786"
             ],
             [
              0.5555555555555556,
              "#d8576b"
             ],
             [
              0.6666666666666666,
              "#ed7953"
             ],
             [
              0.7777777777777778,
              "#fb9f3a"
             ],
             [
              0.8888888888888888,
              "#fdca26"
             ],
             [
              1,
              "#f0f921"
             ]
            ],
            "type": "surface"
           }
          ],
          "table": [
           {
            "cells": {
             "fill": {
              "color": "#EBF0F8"
             },
             "line": {
              "color": "white"
             }
            },
            "header": {
             "fill": {
              "color": "#C8D4E3"
             },
             "line": {
              "color": "white"
             }
            },
            "type": "table"
           }
          ]
         },
         "layout": {
          "annotationdefaults": {
           "arrowcolor": "#2a3f5f",
           "arrowhead": 0,
           "arrowwidth": 1
          },
          "autotypenumbers": "strict",
          "coloraxis": {
           "colorbar": {
            "outlinewidth": 0,
            "ticks": ""
           }
          },
          "colorscale": {
           "diverging": [
            [
             0,
             "#8e0152"
            ],
            [
             0.1,
             "#c51b7d"
            ],
            [
             0.2,
             "#de77ae"
            ],
            [
             0.3,
             "#f1b6da"
            ],
            [
             0.4,
             "#fde0ef"
            ],
            [
             0.5,
             "#f7f7f7"
            ],
            [
             0.6,
             "#e6f5d0"
            ],
            [
             0.7,
             "#b8e186"
            ],
            [
             0.8,
             "#7fbc41"
            ],
            [
             0.9,
             "#4d9221"
            ],
            [
             1,
             "#276419"
            ]
           ],
           "sequential": [
            [
             0,
             "#0d0887"
            ],
            [
             0.1111111111111111,
             "#46039f"
            ],
            [
             0.2222222222222222,
             "#7201a8"
            ],
            [
             0.3333333333333333,
             "#9c179e"
            ],
            [
             0.4444444444444444,
             "#bd3786"
            ],
            [
             0.5555555555555556,
             "#d8576b"
            ],
            [
             0.6666666666666666,
             "#ed7953"
            ],
            [
             0.7777777777777778,
             "#fb9f3a"
            ],
            [
             0.8888888888888888,
             "#fdca26"
            ],
            [
             1,
             "#f0f921"
            ]
           ],
           "sequentialminus": [
            [
             0,
             "#0d0887"
            ],
            [
             0.1111111111111111,
             "#46039f"
            ],
            [
             0.2222222222222222,
             "#7201a8"
            ],
            [
             0.3333333333333333,
             "#9c179e"
            ],
            [
             0.4444444444444444,
             "#bd3786"
            ],
            [
             0.5555555555555556,
             "#d8576b"
            ],
            [
             0.6666666666666666,
             "#ed7953"
            ],
            [
             0.7777777777777778,
             "#fb9f3a"
            ],
            [
             0.8888888888888888,
             "#fdca26"
            ],
            [
             1,
             "#f0f921"
            ]
           ]
          },
          "colorway": [
           "#636efa",
           "#EF553B",
           "#00cc96",
           "#ab63fa",
           "#FFA15A",
           "#19d3f3",
           "#FF6692",
           "#B6E880",
           "#FF97FF",
           "#FECB52"
          ],
          "font": {
           "color": "#2a3f5f"
          },
          "geo": {
           "bgcolor": "white",
           "lakecolor": "white",
           "landcolor": "#E5ECF6",
           "showlakes": true,
           "showland": true,
           "subunitcolor": "white"
          },
          "hoverlabel": {
           "align": "left"
          },
          "hovermode": "closest",
          "mapbox": {
           "style": "light"
          },
          "paper_bgcolor": "white",
          "plot_bgcolor": "#E5ECF6",
          "polar": {
           "angularaxis": {
            "gridcolor": "white",
            "linecolor": "white",
            "ticks": ""
           },
           "bgcolor": "#E5ECF6",
           "radialaxis": {
            "gridcolor": "white",
            "linecolor": "white",
            "ticks": ""
           }
          },
          "scene": {
           "xaxis": {
            "backgroundcolor": "#E5ECF6",
            "gridcolor": "white",
            "gridwidth": 2,
            "linecolor": "white",
            "showbackground": true,
            "ticks": "",
            "zerolinecolor": "white"
           },
           "yaxis": {
            "backgroundcolor": "#E5ECF6",
            "gridcolor": "white",
            "gridwidth": 2,
            "linecolor": "white",
            "showbackground": true,
            "ticks": "",
            "zerolinecolor": "white"
           },
           "zaxis": {
            "backgroundcolor": "#E5ECF6",
            "gridcolor": "white",
            "gridwidth": 2,
            "linecolor": "white",
            "showbackground": true,
            "ticks": "",
            "zerolinecolor": "white"
           }
          },
          "shapedefaults": {
           "line": {
            "color": "#2a3f5f"
           }
          },
          "ternary": {
           "aaxis": {
            "gridcolor": "white",
            "linecolor": "white",
            "ticks": ""
           },
           "baxis": {
            "gridcolor": "white",
            "linecolor": "white",
            "ticks": ""
           },
           "bgcolor": "#E5ECF6",
           "caxis": {
            "gridcolor": "white",
            "linecolor": "white",
            "ticks": ""
           }
          },
          "title": {
           "x": 0.05
          },
          "xaxis": {
           "automargin": true,
           "gridcolor": "white",
           "linecolor": "white",
           "ticks": "",
           "title": {
            "standoff": 15
           },
           "zerolinecolor": "white",
           "zerolinewidth": 2
          },
          "yaxis": {
           "automargin": true,
           "gridcolor": "white",
           "linecolor": "white",
           "ticks": "",
           "title": {
            "standoff": 15
           },
           "zerolinecolor": "white",
           "zerolinewidth": 2
          }
         }
        }
       }
      },
      "image/png": "[encoded data removed]",
      "text/html": [
       "<div>                            <div id=\"516bd164-b0c7-4061-86c9-bb3f2f7bc5eb\" class=\"plotly-graph-div\" style=\"height:525px; width:100%;\"></div>            <script type=\"text/javascript\">                require([\"plotly\"], function(Plotly) {                    window.PLOTLYENV=window.PLOTLYENV || {};                                    if (document.getElementById(\"516bd164-b0c7-4061-86c9-bb3f2f7bc5eb\")) {                    Plotly.newPlot(                        \"516bd164-b0c7-4061-86c9-bb3f2f7bc5eb\",                        [{\"branchvalues\":\"total\",\"domain\":{\"x\":[0.0,1.0],\"y\":[0.0,1.0]},\"hovertemplate\":\"labels=%{label}\\u003cbr\\u003eRegistration_Count=%{value}\\u003cbr\\u003eparent=%{parent}\\u003cbr\\u003eid=%{id}\\u003cextra\\u003e\\u003c\\u002fextra\\u003e\",\"ids\":[\"Alberta\\u002f2005\\u002fAirdrie\",\"Alberta\\u002f2006\\u002fAirdrie\",\"Alberta\\u002f2007\\u002fAirdrie\",\"Alberta\\u002f2008\\u002fAirdrie\",\"Alberta\\u002f2009\\u002fAirdrie\",\"Alberta\\u002f2010\\u002fAirdrie\",\"Alberta\\u002f2011\\u002fAirdrie\",\"Alberta\\u002f2012\\u002fAirdrie\",\"Alberta\\u002f2013\\u002fAirdrie\",\"Alberta\\u002f2014\\u002fAirdrie\",\"Alberta\\u002f2015\\u002fAirdrie\",\"Alberta\\u002f2016\\u002fAirdrie\",\"Alberta\\u002f2017\\u002fAirdrie\",\"Alberta\\u002f2018\\u002fAirdrie\",\"Alberta\\u002f2019\\u002fAirdrie\",\"Alberta\\u002f2020\\u002fAirdrie\",\"Alberta\\u002f2005\\u002fBeaverlodge\",\"Alberta\\u002f2006\\u002fBeaverlodge\",\"Alberta\\u002f2007\\u002fBeaverlodge\",\"Alberta\\u002f2008\\u002fBeaverlodge\",\"Alberta\\u002f2009\\u002fBeaverlodge\",\"Alberta\\u002f2010\\u002fBeaverlodge\",\"Alberta\\u002f2011\\u002fBeaverlodge\",\"Alberta\\u002f2012\\u002fBeaverlodge\",\"Alberta\\u002f2013\\u002fBeaverlodge\",\"Alberta\\u002f2014\\u002fBeaverlodge\",\"Alberta\\u002f2015\\u002fBeaverlodge\",\"Alberta\\u002f2016\\u002fBeaverlodge\",\"Alberta\\u002f2017\\u002fBeaverlodge\",\"Alberta\\u002f2018\\u002fBeaverlodge\",\"Alberta\\u002f2019\\u002fBeaverlodge\",\"Alberta\\u002f2020\\u002fBeaverlodge\",\"Alberta\\u002f2005\\u002fBonnyville No. 87\",\"Alberta\\u002f2006\\u002fBonnyville No. 87\",\"Alberta\\u002f2007\\u002fBonnyville No. 87\",\"Alberta\\u002f2008\\u002fBonnyville No. 87\",\"Alberta\\u002f2009\\u002fBonnyville No. 87\",\"Alberta\\u002f2010\\u002fBonnyville No. 87\",\"Alberta\\u002f2011\\u002fBonnyville No. 87\",\"Alberta\\u002f2012\\u002fBonnyville No. 87\",\"Alberta\\u002f2013\\u002fBonnyville No. 87\",\"Alberta\\u002f2014\\u002fBonnyville No. 87\",\"Alberta\\u002f2015\\u002fBonnyville No. 87\",\"Alberta\\u002f2016\\u002fBonnyville No. 87\",\"Alberta\\u002f2017\\u002fBonnyville No. 87\",\"Alberta\\u002f2018\\u002fBonnyville No. 87\",\"Alberta\\u002f2019\\u002fBonnyville No. 87\",\"Alberta\\u002f2020\\u002fBonnyville No. 87\",\"Alberta\\u002f2005\\u002fBrazeau County\",\"Alberta\\u002f2006\\u002fBrazeau County\",\"Alberta\\u002f2007\\u002fBrazeau County\",\"Alberta\\u002f2008\\u002fBrazeau County\",\"Alberta\\u002f2009\\u002fBrazeau County\",\"Alberta\\u002f2010\\u002fBrazeau County\",\"Alberta\\u002f2011\\u002fBrazeau County\",\"Alberta\\u002f2012\\u002fBrazeau County\",\"Alberta\\u002f2013\\u002fBrazeau County\",\"Alberta\\u002f2014\\u002fBrazeau County\",\"Alberta\\u002f2015\\u002fBrazeau County\",\"Alberta\\u002f2016\\u002fBrazeau County\",\"Alberta\\u002f2017\\u002fBrazeau County\",\"Alberta\\u002f2018\\u002fBrazeau County\",\"Alberta\\u002f2019\\u002fBrazeau County\",\"Alberta\\u002f2020\\u002fBrazeau County\",\"Alberta\\u002f2005\\u002fBruderheim\",\"Alberta\\u002f2006\\u002fBruderheim\",\"Alberta\\u002f2007\\u002fBruderheim\",\"Alberta\\u002f2008\\u002fBruderheim\",\"Alberta\\u002f2009\\u002fBruderheim\",\"Alberta\\u002f2010\\u002fBruderheim\",\"Alberta\\u002f2011\\u002fBruderheim\",\"Alberta\\u002f2012\\u002fBruderheim\",\"Alberta\\u002f2013\\u002fBruderheim\",\"Alberta\\u002f2014\\u002fBruderheim\",\"Alberta\\u002f2015\\u002fBruderheim\",\"Alberta\\u002f2016\\u002fBruderheim\",\"Alberta\\u002f2017\\u002fBruderheim\",\"Alberta\\u002f2018\\u002fBruderheim\",\"Alberta\\u002f2019\\u002fBruderheim\",\"Alberta\\u002f2020\\u002fBruderheim\",\"Alberta\\u002f2005\\u002fCalgary\",\"Alberta\\u002f2006\\u002fCalgary\",\"Alberta\\u002f2007\\u002fCalgary\",\"Alberta\\u002f2008\\u002fCalgary\",\"Alberta\\u002f2009\\u002fCalgary\",\"Alberta\\u002f2010\\u002fCalgary\",\"Alberta\\u002f2011\\u002fCalgary\",\"Alberta\\u002f2012\\u002fCalgary\",\"Alberta\\u002f2013\\u002fCalgary\",\"Alberta\\u002f2014\\u002fCalgary\",\"Alberta\\u002f2015\\u002fCalgary\",\"Alberta\\u002f2016\\u002fCalgary\",\"Alberta\\u002f2017\\u002fCalgary\",\"Alberta\\u002f2018\\u002fCalgary\",\"Alberta\\u002f2019\\u002fCalgary\",\"Alberta\\u002f2020\\u002fCalgary\",\"Alberta\\u002f2005\\u002fCanmore\",\"Alberta\\u002f2006\\u002fCanmore\",\"Alberta\\u002f2007\\u002fCanmore\",\"Alberta\\u002f2008\\u002fCanmore\",\"Alberta\\u002f2009\\u002fCanmore\",\"Alberta\\u002f2010\\u002fCanmore\",\"Alberta\\u002f2011\\u002fCanmore\",\"Alberta\\u002f2012\\u002fCanmore\",\"Alberta\\u002f2013\\u002fCanmore\",\"Alberta\\u002f2014\\u002fCanmore\",\"Alberta\\u002f2015\\u002fCanmore\",\"Alberta\\u002f2016\\u002fCanmore\",\"Alberta\\u002f2017\\u002fCanmore\",\"Alberta\\u002f2018\\u002fCanmore\",\"Alberta\\u002f2019\\u002fCanmore\",\"Alberta\\u002f2020\\u002fCanmore\",\"Alberta\\u002f2005\\u002fCaroline\",\"Alberta\\u002f2006\\u002fCaroline\",\"Alberta\\u002f2007\\u002fCaroline\",\"Alberta\\u002f2008\\u002fCaroline\",\"Alberta\\u002f2009\\u002fCaroline\",\"Alberta\\u002f2010\\u002fCaroline\",\"Alberta\\u002f2011\\u002fCaroline\",\"Alberta\\u002f2012\\u002fCaroline\",\"Alberta\\u002f2013\\u002fCaroline\",\"Alberta\\u002f2014\\u002fCaroline\",\"Alberta\\u002f2015\\u002fCaroline\",\"Alberta\\u002f2016\\u002fCaroline\",\"Alberta\\u002f2017\\u002fCaroline\",\"Alberta\\u002f2018\\u002fCaroline\",\"Alberta\\u002f2019\\u002fCaroline\",\"Alberta\\u002f2020\\u002fCaroline\",\"Alberta\\u002f2005\\u002fCold Lake\",\"Alberta\\u002f2006\\u002fCold Lake\",\"Alberta\\u002f2007\\u002fCold Lake\",\"Alberta\\u002f2008\\u002fCold Lake\",\"Alberta\\u002f2009\\u002fCold Lake\",\"Alberta\\u002f2010\\u002fCold Lake\",\"Alberta\\u002f2011\\u002fCold Lake\",\"Alberta\\u002f2012\\u002fCold Lake\",\"Alberta\\u002f2013\\u002fCold Lake\",\"Alberta\\u002f2014\\u002fCold Lake\",\"Alberta\\u002f2015\\u002fCold Lake\",\"Alberta\\u002f2016\\u002fCold Lake\",\"Alberta\\u002f2017\\u002fCold Lake\",\"Alberta\\u002f2018\\u002fCold Lake\",\"Alberta\\u002f2019\\u002fCold Lake\",\"Alberta\\u002f2020\\u002fCold Lake\",\"Alberta\\u002f2005\\u002fEdmonton\",\"Alberta\\u002f2006\\u002fEdmonton\",\"Alberta\\u002f2007\\u002fEdmonton\",\"Alberta\\u002f2008\\u002fEdmonton\",\"Alberta\\u002f2009\\u002fEdmonton\",\"Alberta\\u002f2010\\u002fEdmonton\",\"Alberta\\u002f2011\\u002fEdmonton\",\"Alberta\\u002f2012\\u002fEdmonton\",\"Alberta\\u002f2013\\u002fEdmonton\",\"Alberta\\u002f2014\\u002fEdmonton\",\"Alberta\\u002f2015\\u002fEdmonton\",\"Alberta\\u002f2016\\u002fEdmonton\",\"Alberta\\u002f2017\\u002fEdmonton\",\"Alberta\\u002f2018\\u002fEdmonton\",\"Alberta\\u002f2019\\u002fEdmonton\",\"Alberta\\u002f2020\\u002fEdmonton\",\"Alberta\\u002f2005\\u002fFoothills County\",\"Alberta\\u002f2006\\u002fFoothills County\",\"Alberta\\u002f2007\\u002fFoothills County\",\"Alberta\\u002f2008\\u002fFoothills County\",\"Alberta\\u002f2009\\u002fFoothills County\",\"Alberta\\u002f2010\\u002fFoothills County\",\"Alberta\\u002f2011\\u002fFoothills County\",\"Alberta\\u002f2012\\u002fFoothills County\",\"Alberta\\u002f2013\\u002fFoothills County\",\"Alberta\\u002f2014\\u002fFoothills County\",\"Alberta\\u002f2015\\u002fFoothills County\",\"Alberta\\u002f2016\\u002fFoothills County\",\"Alberta\\u002f2017\\u002fFoothills County\",\"Alberta\\u002f2018\\u002fFoothills County\",\"Alberta\\u002f2019\\u002fFoothills County\",\"Alberta\\u002f2020\\u002fFoothills County\",\"Alberta\\u002f2005\\u002fFort Saskatchewan\",\"Alberta\\u002f2006\\u002fFort Saskatchewan\",\"Alberta\\u002f2007\\u002fFort Saskatchewan\",\"Alberta\\u002f2008\\u002fFort Saskatchewan\",\"Alberta\\u002f2009\\u002fFort Saskatchewan\",\"Alberta\\u002f2010\\u002fFort Saskatchewan\",\"Alberta\\u002f2011\\u002fFort Saskatchewan\",\"Alberta\\u002f2012\\u002fFort Saskatchewan\",\"Alberta\\u002f2013\\u002fFort Saskatchewan\",\"Alberta\\u002f2014\\u002fFort Saskatchewan\",\"Alberta\\u002f2015\\u002fFort Saskatchewan\",\"Alberta\\u002f2016\\u002fFort Saskatchewan\",\"Alberta\\u002f2017\\u002fFort Saskatchewan\",\"Alberta\\u002f2018\\u002fFort Saskatchewan\",\"Alberta\\u002f2019\\u002fFort Saskatchewan\",\"Alberta\\u002f2020\\u002fFort Saskatchewan\",\"Alberta\\u002f2005\\u002fGrande Prairie\",\"Alberta\\u002f2006\\u002fGrande Prairie\",\"Alberta\\u002f2007\\u002fGrande Prairie\",\"Alberta\\u002f2008\\u002fGrande Prairie\",\"Alberta\\u002f2009\\u002fGrande Prairie\",\"Alberta\\u002f2010\\u002fGrande Prairie\",\"Alberta\\u002f2011\\u002fGrande Prairie\",\"Alberta\\u002f2012\\u002fGrande Prairie\",\"Alberta\\u002f2013\\u002fGrande Prairie\",\"Alberta\\u002f2014\\u002fGrande Prairie\",\"Alberta\\u002f2015\\u002fGrande Prairie\",\"Alberta\\u002f2016\\u002fGrande Prairie\",\"Alberta\\u002f2017\\u002fGrande Prairie\",\"Alberta\\u002f2018\\u002fGrande Prairie\",\"Alberta\\u002f2019\\u002fGrande Prairie\",\"Alberta\\u002f2020\\u002fGrande Prairie\",\"Alberta\\u002f2005\\u002fGrande Prairie County No. 1\",\"Alberta\\u002f2006\\u002fGrande Prairie County No. 1\",\"Alberta\\u002f2007\\u002fGrande Prairie County No. 1\",\"Alberta\\u002f2008\\u002fGrande Prairie County No. 1\",\"Alberta\\u002f2009\\u002fGrande Prairie County No. 1\",\"Alberta\\u002f2010\\u002fGrande Prairie County No. 1\",\"Alberta\\u002f2011\\u002fGrande Prairie County No. 1\",\"Alberta\\u002f2012\\u002fGrande Prairie County No. 1\",\"Alberta\\u002f2013\\u002fGrande Prairie County No. 1\",\"Alberta\\u002f2014\\u002fGrande Prairie County No. 1\",\"Alberta\\u002f2015\\u002fGrande Prairie County No. 1\",\"Alberta\\u002f2016\\u002fGrande Prairie County No. 1\",\"Alberta\\u002f2017\\u002fGrande Prairie County No. 1\",\"Alberta\\u002f2018\\u002fGrande Prairie County No. 1\",\"Alberta\\u002f2019\\u002fGrande Prairie County No. 1\",\"Alberta\\u002f2020\\u002fGrande Prairie County No. 1\",\"Alberta\\u002f2005\\u002fLamont County\",\"Alberta\\u002f2006\\u002fLamont County\",\"Alberta\\u002f2007\\u002fLamont County\",\"Alberta\\u002f2008\\u002fLamont County\",\"Alberta\\u002f2009\\u002fLamont County\",\"Alberta\\u002f2010\\u002fLamont County\",\"Alberta\\u002f2011\\u002fLamont County\",\"Alberta\\u002f2012\\u002fLamont County\",\"Alberta\\u002f2013\\u002fLamont County\",\"Alberta\\u002f2014\\u002fLamont County\",\"Alberta\\u002f2015\\u002fLamont County\",\"Alberta\\u002f2016\\u002fLamont County\",\"Alberta\\u002f2017\\u002fLamont County\",\"Alberta\\u002f2018\\u002fLamont County\",\"Alberta\\u002f2019\\u002fLamont County\",\"Alberta\\u002f2020\\u002fLamont County\",\"Alberta\\u002f2005\\u002fLeduc County\",\"Alberta\\u002f2006\\u002fLeduc County\",\"Alberta\\u002f2007\\u002fLeduc County\",\"Alberta\\u002f2008\\u002fLeduc County\",\"Alberta\\u002f2009\\u002fLeduc County\",\"Alberta\\u002f2010\\u002fLeduc County\",\"Alberta\\u002f2011\\u002fLeduc County\",\"Alberta\\u002f2012\\u002fLeduc County\",\"Alberta\\u002f2013\\u002fLeduc County\",\"Alberta\\u002f2014\\u002fLeduc County\",\"Alberta\\u002f2015\\u002fLeduc County\",\"Alberta\\u002f2016\\u002fLeduc County\",\"Alberta\\u002f2017\\u002fLeduc County\",\"Alberta\\u002f2018\\u002fLeduc County\",\"Alberta\\u002f2019\\u002fLeduc County\",\"Alberta\\u002f2020\\u002fLeduc County\",\"Alberta\\u002f2005\\u002fLethbridge\",\"Alberta\\u002f2006\\u002fLethbridge\",\"Alberta\\u002f2007\\u002fLethbridge\",\"Alberta\\u002f2008\\u002fLethbridge\",\"Alberta\\u002f2009\\u002fLethbridge\",\"Alberta\\u002f2010\\u002fLethbridge\",\"Alberta\\u002f2011\\u002fLethbridge\",\"Alberta\\u002f2012\\u002fLethbridge\",\"Alberta\\u002f2013\\u002fLethbridge\",\"Alberta\\u002f2014\\u002fLethbridge\",\"Alberta\\u002f2015\\u002fLethbridge\",\"Alberta\\u002f2016\\u002fLethbridge\",\"Alberta\\u002f2017\\u002fLethbridge\",\"Alberta\\u002f2018\\u002fLethbridge\",\"Alberta\\u002f2019\\u002fLethbridge\",\"Alberta\\u002f2020\\u002fLethbridge\",\"Alberta\\u002f2005\\u002fMedicine Hat\",\"Alberta\\u002f2006\\u002fMedicine Hat\",\"Alberta\\u002f2007\\u002fMedicine Hat\",\"Alberta\\u002f2008\\u002fMedicine Hat\",\"Alberta\\u002f2009\\u002fMedicine Hat\",\"Alberta\\u002f2010\\u002fMedicine Hat\",\"Alberta\\u002f2011\\u002fMedicine Hat\",\"Alberta\\u002f2012\\u002fMedicine Hat\",\"Alberta\\u002f2013\\u002fMedicine Hat\",\"Alberta\\u002f2014\\u002fMedicine Hat\",\"Alberta\\u002f2015\\u002fMedicine Hat\",\"Alberta\\u002f2016\\u002fMedicine Hat\",\"Alberta\\u002f2017\\u002fMedicine Hat\",\"Alberta\\u002f2018\\u002fMedicine Hat\",\"Alberta\\u002f2019\\u002fMedicine Hat\",\"Alberta\\u002f2020\\u002fMedicine Hat\",\"Alberta\\u002f2005\\u002fNewell County\",\"Alberta\\u002f2006\\u002fNewell County\",\"Alberta\\u002f2007\\u002fNewell County\",\"Alberta\\u002f2008\\u002fNewell County\",\"Alberta\\u002f2009\\u002fNewell County\",\"Alberta\\u002f2010\\u002fNewell County\",\"Alberta\\u002f2011\\u002fNewell County\",\"Alberta\\u002f2012\\u002fNewell County\",\"Alberta\\u002f2013\\u002fNewell County\",\"Alberta\\u002f2014\\u002fNewell County\",\"Alberta\\u002f2015\\u002fNewell County\",\"Alberta\\u002f2016\\u002fNewell County\",\"Alberta\\u002f2017\\u002fNewell County\",\"Alberta\\u002f2018\\u002fNewell County\",\"Alberta\\u002f2019\\u002fNewell County\",\"Alberta\\u002f2020\\u002fNewell County\",\"Alberta\\u002f2005\\u002fNorthern Sunrise County\",\"Alberta\\u002f2006\\u002fNorthern Sunrise County\",\"Alberta\\u002f2007\\u002fNorthern Sunrise County\",\"Alberta\\u002f2008\\u002fNorthern Sunrise County\",\"Alberta\\u002f2009\\u002fNorthern Sunrise County\",\"Alberta\\u002f2010\\u002fNorthern Sunrise County\",\"Alberta\\u002f2011\\u002fNorthern Sunrise County\",\"Alberta\\u002f2012\\u002fNorthern Sunrise County\",\"Alberta\\u002f2013\\u002fNorthern Sunrise County\",\"Alberta\\u002f2014\\u002fNorthern Sunrise County\",\"Alberta\\u002f2015\\u002fNorthern Sunrise County\",\"Alberta\\u002f2016\\u002fNorthern Sunrise County\",\"Alberta\\u002f2017\\u002fNorthern Sunrise County\",\"Alberta\\u002f2018\\u002fNorthern Sunrise County\",\"Alberta\\u002f2019\\u002fNorthern Sunrise County\",\"Alberta\\u002f2020\\u002fNorthern Sunrise County\",\"Alberta\\u002f2005\\u002fParkland County\",\"Alberta\\u002f2006\\u002fParkland County\",\"Alberta\\u002f2007\\u002fParkland County\",\"Alberta\\u002f2008\\u002fParkland County\",\"Alberta\\u002f2009\\u002fParkland County\",\"Alberta\\u002f2010\\u002fParkland County\",\"Alberta\\u002f2011\\u002fParkland County\",\"Alberta\\u002f2012\\u002fParkland County\",\"Alberta\\u002f2013\\u002fParkland County\",\"Alberta\\u002f2014\\u002fParkland County\",\"Alberta\\u002f2015\\u002fParkland County\",\"Alberta\\u002f2016\\u002fParkland County\",\"Alberta\\u002f2017\\u002fParkland County\",\"Alberta\\u002f2018\\u002fParkland County\",\"Alberta\\u002f2019\\u002fParkland County\",\"Alberta\\u002f2020\\u002fParkland County\",\"Alberta\\u002f2005\\u002fPeace No. 135\",\"Alberta\\u002f2006\\u002fPeace No. 135\",\"Alberta\\u002f2007\\u002fPeace No. 135\",\"Alberta\\u002f2008\\u002fPeace No. 135\",\"Alberta\\u002f2009\\u002fPeace No. 135\",\"Alberta\\u002f2010\\u002fPeace No. 135\",\"Alberta\\u002f2011\\u002fPeace No. 135\",\"Alberta\\u002f2012\\u002fPeace No. 135\",\"Alberta\\u002f2013\\u002fPeace No. 135\",\"Alberta\\u002f2014\\u002fPeace No. 135\",\"Alberta\\u002f2015\\u002fPeace No. 135\",\"Alberta\\u002f2016\\u002fPeace No. 135\",\"Alberta\\u002f2017\\u002fPeace No. 135\",\"Alberta\\u002f2018\\u002fPeace No. 135\",\"Alberta\\u002f2019\\u002fPeace No. 135\",\"Alberta\\u002f2020\\u002fPeace No. 135\",\"Alberta\\u002f2005\\u002fRed Deer\",\"Alberta\\u002f2006\\u002fRed Deer\",\"Alberta\\u002f2007\\u002fRed Deer\",\"Alberta\\u002f2008\\u002fRed Deer\",\"Alberta\\u002f2009\\u002fRed Deer\",\"Alberta\\u002f2010\\u002fRed Deer\",\"Alberta\\u002f2011\\u002fRed Deer\",\"Alberta\\u002f2012\\u002fRed Deer\",\"Alberta\\u002f2013\\u002fRed Deer\",\"Alberta\\u002f2014\\u002fRed Deer\",\"Alberta\\u002f2015\\u002fRed Deer\",\"Alberta\\u002f2016\\u002fRed Deer\",\"Alberta\\u002f2017\\u002fRed Deer\",\"Alberta\\u002f2018\\u002fRed Deer\",\"Alberta\\u002f2019\\u002fRed Deer\",\"Alberta\\u002f2020\\u002fRed Deer\",\"Alberta\\u002f2005\\u002fSt. Albert\",\"Alberta\\u002f2006\\u002fSt. Albert\",\"Alberta\\u002f2007\\u002fSt. Albert\",\"Alberta\\u002f2008\\u002fSt. Albert\",\"Alberta\\u002f2009\\u002fSt. Albert\",\"Alberta\\u002f2010\\u002fSt. Albert\",\"Alberta\\u002f2011\\u002fSt. Albert\",\"Alberta\\u002f2012\\u002fSt. Albert\",\"Alberta\\u002f2013\\u002fSt. Albert\",\"Alberta\\u002f2014\\u002fSt. Albert\",\"Alberta\\u002f2015\\u002fSt. Albert\",\"Alberta\\u002f2016\\u002fSt. Albert\",\"Alberta\\u002f2017\\u002fSt. Albert\",\"Alberta\\u002f2018\\u002fSt. Albert\",\"Alberta\\u002f2019\\u002fSt. Albert\",\"Alberta\\u002f2020\\u002fSt. Albert\",\"Alberta\\u002f2005\\u002fSt. Paul County No. 19\",\"Alberta\\u002f2006\\u002fSt. Paul County No. 19\",\"Alberta\\u002f2007\\u002fSt. Paul County No. 19\",\"Alberta\\u002f2008\\u002fSt. Paul County No. 19\",\"Alberta\\u002f2009\\u002fSt. Paul County No. 19\",\"Alberta\\u002f2010\\u002fSt. Paul County No. 19\",\"Alberta\\u002f2011\\u002fSt. Paul County No. 19\",\"Alberta\\u002f2012\\u002fSt. Paul County No. 19\",\"Alberta\\u002f2013\\u002fSt. Paul County No. 19\",\"Alberta\\u002f2014\\u002fSt. Paul County No. 19\",\"Alberta\\u002f2015\\u002fSt. Paul County No. 19\",\"Alberta\\u002f2016\\u002fSt. Paul County No. 19\",\"Alberta\\u002f2017\\u002fSt. Paul County No. 19\",\"Alberta\\u002f2018\\u002fSt. Paul County No. 19\",\"Alberta\\u002f2019\\u002fSt. Paul County No. 19\",\"Alberta\\u002f2020\\u002fSt. Paul County No. 19\",\"Alberta\\u002f2005\\u002fStrathcona County\",\"Alberta\\u002f2006\\u002fStrathcona County\",\"Alberta\\u002f2007\\u002fStrathcona County\",\"Alberta\\u002f2008\\u002fStrathcona County\",\"Alberta\\u002f2009\\u002fStrathcona County\",\"Alberta\\u002f2010\\u002fStrathcona County\",\"Alberta\\u002f2011\\u002fStrathcona County\",\"Alberta\\u002f2012\\u002fStrathcona County\",\"Alberta\\u002f2013\\u002fStrathcona County\",\"Alberta\\u002f2014\\u002fStrathcona County\",\"Alberta\\u002f2015\\u002fStrathcona County\",\"Alberta\\u002f2016\\u002fStrathcona County\",\"Alberta\\u002f2017\\u002fStrathcona County\",\"Alberta\\u002f2018\\u002fStrathcona County\",\"Alberta\\u002f2019\\u002fStrathcona County\",\"Alberta\\u002f2020\\u002fStrathcona County\",\"Alberta\\u002f2005\\u002fSturgeon County\",\"Alberta\\u002f2006\\u002fSturgeon County\",\"Alberta\\u002f2007\\u002fSturgeon County\",\"Alberta\\u002f2008\\u002fSturgeon County\",\"Alberta\\u002f2009\\u002fSturgeon County\",\"Alberta\\u002f2010\\u002fSturgeon County\",\"Alberta\\u002f2011\\u002fSturgeon County\",\"Alberta\\u002f2012\\u002fSturgeon County\",\"Alberta\\u002f2013\\u002fSturgeon County\",\"Alberta\\u002f2014\\u002fSturgeon County\",\"Alberta\\u002f2015\\u002fSturgeon County\",\"Alberta\\u002f2016\\u002fSturgeon County\",\"Alberta\\u002f2017\\u002fSturgeon County\",\"Alberta\\u002f2018\\u002fSturgeon County\",\"Alberta\\u002f2019\\u002fSturgeon County\",\"Alberta\\u002f2020\\u002fSturgeon County\",\"Alberta\\u002f2005\\u002fTaber, M.D.\",\"Alberta\\u002f2006\\u002fTaber, M.D.\",\"Alberta\\u002f2007\\u002fTaber, M.D.\",\"Alberta\\u002f2008\\u002fTaber, M.D.\",\"Alberta\\u002f2009\\u002fTaber, M.D.\",\"Alberta\\u002f2010\\u002fTaber, M.D.\",\"Alberta\\u002f2011\\u002fTaber, M.D.\",\"Alberta\\u002f2012\\u002fTaber, M.D.\",\"Alberta\\u002f2013\\u002fTaber, M.D.\",\"Alberta\\u002f2014\\u002fTaber, M.D.\",\"Alberta\\u002f2015\\u002fTaber, M.D.\",\"Alberta\\u002f2016\\u002fTaber, M.D.\",\"Alberta\\u002f2017\\u002fTaber, M.D.\",\"Alberta\\u002f2018\\u002fTaber, M.D.\",\"Alberta\\u002f2019\\u002fTaber, M.D.\",\"Alberta\\u002f2020\\u002fTaber, M.D.\",\"Alberta\\u002f2005\\u002fWood Buffalo\",\"Alberta\\u002f2006\\u002fWood Buffalo\",\"Alberta\\u002f2007\\u002fWood Buffalo\",\"Alberta\\u002f2008\\u002fWood Buffalo\",\"Alberta\\u002f2009\\u002fWood Buffalo\",\"Alberta\\u002f2010\\u002fWood Buffalo\",\"Alberta\\u002f2011\\u002fWood Buffalo\",\"Alberta\\u002f2012\\u002fWood Buffalo\",\"Alberta\\u002f2013\\u002fWood Buffalo\",\"Alberta\\u002f2014\\u002fWood Buffalo\",\"Alberta\\u002f2015\\u002fWood Buffalo\",\"Alberta\\u002f2016\\u002fWood Buffalo\",\"Alberta\\u002f2017\\u002fWood Buffalo\",\"Alberta\\u002f2018\\u002fWood Buffalo\",\"Alberta\\u002f2019\\u002fWood Buffalo\",\"Alberta\\u002f2020\\u002fWood Buffalo\",\"Alberta\\u002f2005\\u002fYellowhead County\",\"Alberta\\u002f2006\\u002fYellowhead County\",\"Alberta\\u002f2007\\u002fYellowhead County\",\"Alberta\\u002f2008\\u002fYellowhead County\",\"Alberta\\u002f2009\\u002fYellowhead County\",\"Alberta\\u002f2010\\u002fYellowhead County\",\"Alberta\\u002f2011\\u002fYellowhead County\",\"Alberta\\u002f2012\\u002fYellowhead County\",\"Alberta\\u002f2013\\u002fYellowhead County\",\"Alberta\\u002f2014\\u002fYellowhead County\",\"Alberta\\u002f2015\\u002fYellowhead County\",\"Alberta\\u002f2016\\u002fYellowhead County\",\"Alberta\\u002f2017\\u002fYellowhead County\",\"Alberta\\u002f2018\\u002fYellowhead County\",\"Alberta\\u002f2019\\u002fYellowhead County\",\"Alberta\\u002f2020\\u002fYellowhead County\",\"Alberta\\u002f2005\",\"Alberta\\u002f2006\",\"Alberta\\u002f2007\",\"Alberta\\u002f2008\",\"Alberta\\u002f2009\",\"Alberta\\u002f2010\",\"Alberta\\u002f2011\",\"Alberta\\u002f2012\",\"Alberta\\u002f2013\",\"Alberta\\u002f2014\",\"Alberta\\u002f2015\",\"Alberta\\u002f2016\",\"Alberta\\u002f2017\",\"Alberta\\u002f2018\",\"Alberta\\u002f2019\",\"Alberta\\u002f2020\",\"Alberta\"],\"labels\":[\"Airdrie\",\"Airdrie\",\"Airdrie\",\"Airdrie\",\"Airdrie\",\"Airdrie\",\"Airdrie\",\"Airdrie\",\"Airdrie\",\"Airdrie\",\"Airdrie\",\"Airdrie\",\"Airdrie\",\"Airdrie\",\"Airdrie\",\"Airdrie\",\"Beaverlodge\",\"Beaverlodge\",\"Beaverlodge\",\"Beaverlodge\",\"Beaverlodge\",\"Beaverlodge\",\"Beaverlodge\",\"Beaverlodge\",\"Beaverlodge\",\"Beaverlodge\",\"Beaverlodge\",\"Beaverlodge\",\"Beaverlodge\",\"Beaverlodge\",\"Beaverlodge\",\"Beaverlodge\",\"Bonnyville No. 87\",\"Bonnyville No. 87\",\"Bonnyville No. 87\",\"Bonnyville No. 87\",\"Bonnyville No. 87\",\"Bonnyville No. 87\",\"Bonnyville No. 87\",\"Bonnyville No. 87\",\"Bonnyville No. 87\",\"Bonnyville No. 87\",\"Bonnyville No. 87\",\"Bonnyville No. 87\",\"Bonnyville No. 87\",\"Bonnyville No. 87\",\"Bonnyville No. 87\",\"Bonnyville No. 87\",\"Brazeau County\",\"Brazeau County\",\"Brazeau County\",\"Brazeau County\",\"Brazeau County\",\"Brazeau County\",\"Brazeau County\",\"Brazeau County\",\"Brazeau County\",\"Brazeau County\",\"Brazeau County\",\"Brazeau County\",\"Brazeau County\",\"Brazeau County\",\"Brazeau County\",\"Brazeau County\",\"Bruderheim\",\"Bruderheim\",\"Bruderheim\",\"Bruderheim\",\"Bruderheim\",\"Bruderheim\",\"Bruderheim\",\"Bruderheim\",\"Bruderheim\",\"Bruderheim\",\"Bruderheim\",\"Bruderheim\",\"Bruderheim\",\"Bruderheim\",\"Bruderheim\",\"Bruderheim\",\"Calgary\",\"Calgary\",\"Calgary\",\"Calgary\",\"Calgary\",\"Calgary\",\"Calgary\",\"Calgary\",\"Calgary\",\"Calgary\",\"Calgary\",\"Calgary\",\"Calgary\",\"Calgary\",\"Calgary\",\"Calgary\",\"Canmore\",\"Canmore\",\"Canmore\",\"Canmore\",\"Canmore\",\"Canmore\",\"Canmore\",\"Canmore\",\"Canmore\",\"Canmore\",\"Canmore\",\"Canmore\",\"Canmore\",\"Canmore\",\"Canmore\",\"Canmore\",\"Caroline\",\"Caroline\",\"Caroline\",\"Caroline\",\"Caroline\",\"Caroline\",\"Caroline\",\"Caroline\",\"Caroline\",\"Caroline\",\"Caroline\",\"Caroline\",\"Caroline\",\"Caroline\",\"Caroline\",\"Caroline\",\"Cold Lake\",\"Cold Lake\",\"Cold Lake\",\"Cold Lake\",\"Cold Lake\",\"Cold Lake\",\"Cold Lake\",\"Cold Lake\",\"Cold Lake\",\"Cold Lake\",\"Cold Lake\",\"Cold Lake\",\"Cold Lake\",\"Cold Lake\",\"Cold Lake\",\"Cold Lake\",\"Edmonton\",\"Edmonton\",\"Edmonton\",\"Edmonton\",\"Edmonton\",\"Edmonton\",\"Edmonton\",\"Edmonton\",\"Edmonton\",\"Edmonton\",\"Edmonton\",\"Edmonton\",\"Edmonton\",\"Edmonton\",\"Edmonton\",\"Edmonton\",\"Foothills County\",\"Foothills County\",\"Foothills County\",\"Foothills County\",\"Foothills County\",\"Foothills County\",\"Foothills County\",\"Foothills County\",\"Foothills County\",\"Foothills County\",\"Foothills County\",\"Foothills County\",\"Foothills County\",\"Foothills County\",\"Foothills County\",\"Foothills County\",\"Fort Saskatchewan\",\"Fort Saskatchewan\",\"Fort Saskatchewan\",\"Fort Saskatchewan\",\"Fort Saskatchewan\",\"Fort Saskatchewan\",\"Fort Saskatchewan\",\"Fort Saskatchewan\",\"Fort Saskatchewan\",\"Fort Saskatchewan\",\"Fort Saskatchewan\",\"Fort Saskatchewan\",\"Fort Saskatchewan\",\"Fort Saskatchewan\",\"Fort Saskatchewan\",\"Fort Saskatchewan\",\"Grande Prairie\",\"Grande Prairie\",\"Grande Prairie\",\"Grande Prairie\",\"Grande Prairie\",\"Grande Prairie\",\"Grande Prairie\",\"Grande Prairie\",\"Grande Prairie\",\"Grande Prairie\",\"Grande Prairie\",\"Grande Prairie\",\"Grande Prairie\",\"Grande Prairie\",\"Grande Prairie\",\"Grande Prairie\",\"Grande Prairie County No. 1\",\"Grande Prairie County No. 1\",\"Grande Prairie County No. 1\",\"Grande Prairie County No. 1\",\"Grande Prairie County No. 1\",\"Grande Prairie County No. 1\",\"Grande Prairie County No. 1\",\"Grande Prairie County No. 1\",\"Grande Prairie County No. 1\",\"Grande Prairie County No. 1\",\"Grande Prairie County No. 1\",\"Grande Prairie County No. 1\",\"Grande Prairie County No. 1\",\"Grande Prairie County No. 1\",\"Grande Prairie County No. 1\",\"Grande Prairie County No. 1\",\"Lamont County\",\"Lamont County\",\"Lamont County\",\"Lamont County\",\"Lamont County\",\"Lamont County\",\"Lamont County\",\"Lamont County\",\"Lamont County\",\"Lamont County\",\"Lamont County\",\"Lamont County\",\"Lamont County\",\"Lamont County\",\"Lamont County\",\"Lamont County\",\"Leduc County\",\"Leduc County\",\"Leduc County\",\"Leduc County\",\"Leduc County\",\"Leduc County\",\"Leduc County\",\"Leduc County\",\"Leduc County\",\"Leduc County\",\"Leduc County\",\"Leduc County\",\"Leduc County\",\"Leduc County\",\"Leduc County\",\"Leduc County\",\"Lethbridge\",\"Lethbridge\",\"Lethbridge\",\"Lethbridge\",\"Lethbridge\",\"Lethbridge\",\"Lethbridge\",\"Lethbridge\",\"Lethbridge\",\"Lethbridge\",\"Lethbridge\",\"Lethbridge\",\"Lethbridge\",\"Lethbridge\",\"Lethbridge\",\"Lethbridge\",\"Medicine Hat\",\"Medicine Hat\",\"Medicine Hat\",\"Medicine Hat\",\"Medicine Hat\",\"Medicine Hat\",\"Medicine Hat\",\"Medicine Hat\",\"Medicine Hat\",\"Medicine Hat\",\"Medicine Hat\",\"Medicine Hat\",\"Medicine Hat\",\"Medicine Hat\",\"Medicine Hat\",\"Medicine Hat\",\"Newell County\",\"Newell County\",\"Newell County\",\"Newell County\",\"Newell County\",\"Newell County\",\"Newell County\",\"Newell County\",\"Newell County\",\"Newell County\",\"Newell County\",\"Newell County\",\"Newell County\",\"Newell County\",\"Newell County\",\"Newell County\",\"Northern Sunrise County\",\"Northern Sunrise County\",\"Northern Sunrise County\",\"Northern Sunrise County\",\"Northern Sunrise County\",\"Northern Sunrise County\",\"Northern Sunrise County\",\"Northern Sunrise County\",\"Northern Sunrise County\",\"Northern Sunrise County\",\"Northern Sunrise County\",\"Northern Sunrise County\",\"Northern Sunrise County\",\"Northern Sunrise County\",\"Northern Sunrise County\",\"Northern Sunrise County\",\"Parkland County\",\"Parkland County\",\"Parkland County\",\"Parkland County\",\"Parkland County\",\"Parkland County\",\"Parkland County\",\"Parkland County\",\"Parkland County\",\"Parkland County\",\"Parkland County\",\"Parkland County\",\"Parkland County\",\"Parkland County\",\"Parkland County\",\"Parkland County\",\"Peace No. 135\",\"Peace No. 135\",\"Peace No. 135\",\"Peace No. 135\",\"Peace No. 135\",\"Peace No. 135\",\"Peace No. 135\",\"Peace No. 135\",\"Peace No. 135\",\"Peace No. 135\",\"Peace No. 135\",\"Peace No. 135\",\"Peace No. 135\",\"Peace No. 135\",\"Peace No. 135\",\"Peace No. 135\",\"Red Deer\",\"Red Deer\",\"Red Deer\",\"Red Deer\",\"Red Deer\",\"Red Deer\",\"Red Deer\",\"Red Deer\",\"Red Deer\",\"Red Deer\",\"Red Deer\",\"Red Deer\",\"Red Deer\",\"Red Deer\",\"Red Deer\",\"Red Deer\",\"St. Albert\",\"St. Albert\",\"St. Albert\",\"St. Albert\",\"St. Albert\",\"St. Albert\",\"St. Albert\",\"St. Albert\",\"St. Albert\",\"St. Albert\",\"St. Albert\",\"St. Albert\",\"St. Albert\",\"St. Albert\",\"St. Albert\",\"St. Albert\",\"St. Paul County No. 19\",\"St. Paul County No. 19\",\"St. Paul County No. 19\",\"St. Paul County No. 19\",\"St. Paul County No. 19\",\"St. Paul County No. 19\",\"St. Paul County No. 19\",\"St. Paul County No. 19\",\"St. Paul County No. 19\",\"St. Paul County No. 19\",\"St. Paul County No. 19\",\"St. Paul County No. 19\",\"St. Paul County No. 19\",\"St. Paul County No. 19\",\"St. Paul County No. 19\",\"St. Paul County No. 19\",\"Strathcona County\",\"Strathcona County\",\"Strathcona County\",\"Strathcona County\",\"Strathcona County\",\"Strathcona County\",\"Strathcona County\",\"Strathcona County\",\"Strathcona County\",\"Strathcona County\",\"Strathcona County\",\"Strathcona County\",\"Strathcona County\",\"Strathcona County\",\"Strathcona County\",\"Strathcona County\",\"Sturgeon County\",\"Sturgeon County\",\"Sturgeon County\",\"Sturgeon County\",\"Sturgeon County\",\"Sturgeon County\",\"Sturgeon County\",\"Sturgeon County\",\"Sturgeon County\",\"Sturgeon County\",\"Sturgeon County\",\"Sturgeon County\",\"Sturgeon County\",\"Sturgeon County\",\"Sturgeon County\",\"Sturgeon County\",\"Taber, M.D.\",\"Taber, M.D.\",\"Taber, M.D.\",\"Taber, M.D.\",\"Taber, M.D.\",\"Taber, M.D.\",\"Taber, M.D.\",\"Taber, M.D.\",\"Taber, M.D.\",\"Taber, M.D.\",\"Taber, M.D.\",\"Taber, M.D.\",\"Taber, M.D.\",\"Taber, M.D.\",\"Taber, M.D.\",\"Taber, M.D.\",\"Wood Buffalo\",\"Wood Buffalo\",\"Wood Buffalo\",\"Wood Buffalo\",\"Wood Buffalo\",\"Wood Buffalo\",\"Wood Buffalo\",\"Wood Buffalo\",\"Wood Buffalo\",\"Wood Buffalo\",\"Wood Buffalo\",\"Wood Buffalo\",\"Wood Buffalo\",\"Wood Buffalo\",\"Wood Buffalo\",\"Wood Buffalo\",\"Yellowhead County\",\"Yellowhead County\",\"Yellowhead County\",\"Yellowhead County\",\"Yellowhead County\",\"Yellowhead County\",\"Yellowhead County\",\"Yellowhead County\",\"Yellowhead County\",\"Yellowhead County\",\"Yellowhead County\",\"Yellowhead County\",\"Yellowhead County\",\"Yellowhead County\",\"Yellowhead County\",\"Yellowhead County\",\"2005\",\"2006\",\"2007\",\"2008\",\"2009\",\"2010\",\"2011\",\"2012\",\"2013\",\"2014\",\"2015\",\"2016\",\"2017\",\"2018\",\"2019\",\"2020\",\"Alberta\"],\"name\":\"\",\"parents\":[\"Alberta\\u002f2005\",\"Alberta\\u002f2006\",\"Alberta\\u002f2007\",\"Alberta\\u002f2008\",\"Alberta\\u002f2009\",\"Alberta\\u002f2010\",\"Alberta\\u002f2011\",\"Alberta\\u002f2012\",\"Alberta\\u002f2013\",\"Alberta\\u002f2014\",\"Alberta\\u002f2015\",\"Alberta\\u002f2016\",\"Alberta\\u002f2017\",\"Alberta\\u002f2018\",\"Alberta\\u002f2019\",\"Alberta\\u002f2020\",\"Alberta\\u002f2005\",\"Alberta\\u002f2006\",\"Alberta\\u002f2007\",\"Alberta\\u002f2008\",\"Alberta\\u002f2009\",\"Alberta\\u002f2010\",\"Alberta\\u002f2011\",\"Alberta\\u002f2012\",\"Alberta\\u002f2013\",\"Alberta\\u002f2014\",\"Alberta\\u002f2015\",\"Alberta\\u002f2016\",\"Alberta\\u002f2017\",\"Alberta\\u002f2018\",\"Alberta\\u002f2019\",\"Alberta\\u002f2020\",\"Alberta\\u002f2005\",\"Alberta\\u002f2006\",\"Alberta\\u002f2007\",\"Alberta\\u002f2008\",\"Alberta\\u002f2009\",\"Alberta\\u002f2010\",\"Alberta\\u002f2011\",\"Alberta\\u002f2012\",\"Alberta\\u002f2013\",\"Alberta\\u002f2014\",\"Alberta\\u002f2015\",\"Alberta\\u002f2016\",\"Alberta\\u002f2017\",\"Alberta\\u002f2018\",\"Alberta\\u002f2019\",\"Alberta\\u002f2020\",\"Alberta\\u002f2005\",\"Alberta\\u002f2006\",\"Alberta\\u002f2007\",\"Alberta\\u002f2008\",\"Alberta\\u002f2009\",\"Alberta\\u002f2010\",\"Alberta\\u002f2011\",\"Alberta\\u002f2012\",\"Alberta\\u002f2013\",\"Alberta\\u002f2014\",\"Alberta\\u002f2015\",\"Alberta\\u002f2016\",\"Alberta\\u002f2017\",\"Alberta\\u002f2018\",\"Alberta\\u002f2019\",\"Alberta\\u002f2020\",\"Alberta\\u002f2005\",\"Alberta\\u002f2006\",\"Alberta\\u002f2007\",\"Alberta\\u002f2008\",\"Alberta\\u002f2009\",\"Alberta\\u002f2010\",\"Alberta\\u002f2011\",\"Alberta\\u002f2012\",\"Alberta\\u002f2013\",\"Alberta\\u002f2014\",\"Alberta\\u002f2015\",\"Alberta\\u002f2016\",\"Alberta\\u002f2017\",\"Alberta\\u002f2018\",\"Alberta\\u002f2019\",\"Alberta\\u002f2020\",\"Alberta\\u002f2005\",\"Alberta\\u002f2006\",\"Alberta\\u002f2007\",\"Alberta\\u002f2008\",\"Alberta\\u002f2009\",\"Alberta\\u002f2010\",\"Alberta\\u002f2011\",\"Alberta\\u002f2012\",\"Alberta\\u002f2013\",\"Alberta\\u002f2014\",\"Alberta\\u002f2015\",\"Alberta\\u002f2016\",\"Alberta\\u002f2017\",\"Alberta\\u002f2018\",\"Alberta\\u002f2019\",\"Alberta\\u002f2020\",\"Alberta\\u002f2005\",\"Alberta\\u002f2006\",\"Alberta\\u002f2007\",\"Alberta\\u002f2008\",\"Alberta\\u002f2009\",\"Alberta\\u002f2010\",\"Alberta\\u002f2011\",\"Alberta\\u002f2012\",\"Alberta\\u002f2013\",\"Alberta\\u002f2014\",\"Alberta\\u002f2015\",\"Alberta\\u002f2016\",\"Alberta\\u002f2017\",\"Alberta\\u002f2018\",\"Alberta\\u002f2019\",\"Alberta\\u002f2020\",\"Alberta\\u002f2005\",\"Alberta\\u002f2006\",\"Alberta\\u002f2007\",\"Alberta\\u002f2008\",\"Alberta\\u002f2009\",\"Alberta\\u002f2010\",\"Alberta\\u002f2011\",\"Alberta\\u002f2012\",\"Alberta\\u002f2013\",\"Alberta\\u002f2014\",\"Alberta\\u002f2015\",\"Alberta\\u002f2016\",\"Alberta\\u002f2017\",\"Alberta\\u002f2018\",\"Alberta\\u002f2019\",\"Alberta\\u002f2020\",\"Alberta\\u002f2005\",\"Alberta\\u002f2006\",\"Alberta\\u002f2007\",\"Alberta\\u002f2008\",\"Alberta\\u002f2009\",\"Alberta\\u002f2010\",\"Alberta\\u002f2011\",\"Alberta\\u002f2012\",\"Alberta\\u002f2013\",\"Alberta\\u002f2014\",\"Alberta\\u002f2015\",\"Alberta\\u002f2016\",\"Alberta\\u002f2017\",\"Alberta\\u002f2018\",\"Alberta\\u002f2019\",\"Alberta\\u002f2020\",\"Alberta\\u002f2005\",\"Alberta\\u002f2006\",\"Alberta\\u002f2007\",\"Alberta\\u002f2008\",\"Alberta\\u002f2009\",\"Alberta\\u002f2010\",\"Alberta\\u002f2011\",\"Alberta\\u002f2012\",\"Alberta\\u002f2013\",\"Alberta\\u002f2014\",\"Alberta\\u002f2015\",\"Alberta\\u002f2016\",\"Alberta\\u002f2017\",\"Alberta\\u002f2018\",\"Alberta\\u002f2019\",\"Alberta\\u002f2020\",\"Alberta\\u002f2005\",\"Alberta\\u002f2006\",\"Alberta\\u002f2007\",\"Alberta\\u002f2008\",\"Alberta\\u002f2009\",\"Alberta\\u002f2010\",\"Alberta\\u002f2011\",\"Alberta\\u002f2012\",\"Alberta\\u002f2013\",\"Alberta\\u002f2014\",\"Alberta\\u002f2015\",\"Alberta\\u002f2016\",\"Alberta\\u002f2017\",\"Alberta\\u002f2018\",\"Alberta\\u002f2019\",\"Alberta\\u002f2020\",\"Alberta\\u002f2005\",\"Alberta\\u002f2006\",\"Alberta\\u002f2007\",\"Alberta\\u002f2008\",\"Alberta\\u002f2009\",\"Alberta\\u002f2010\",\"Alberta\\u002f2011\",\"Alberta\\u002f2012\",\"Alberta\\u002f2013\",\"Alberta\\u002f2014\",\"Alberta\\u002f2015\",\"Alberta\\u002f2016\",\"Alberta\\u002f2017\",\"Alberta\\u002f2018\",\"Alberta\\u002f2019\",\"Alberta\\u002f2020\",\"Alberta\\u002f2005\",\"Alberta\\u002f2006\",\"Alberta\\u002f2007\",\"Alberta\\u002f2008\",\"Alberta\\u002f2009\",\"Alberta\\u002f2010\",\"Alberta\\u002f2011\",\"Alberta\\u002f2012\",\"Alberta\\u002f2013\",\"Alberta\\u002f2014\",\"Alberta\\u002f2015\",\"Alberta\\u002f2016\",\"Alberta\\u002f2017\",\"Alberta\\u002f2018\",\"Alberta\\u002f2019\",\"Alberta\\u002f2020\",\"Alberta\\u002f2005\",\"Alberta\\u002f2006\",\"Alberta\\u002f2007\",\"Alberta\\u002f2008\",\"Alberta\\u002f2009\",\"Alberta\\u002f2010\",\"Alberta\\u002f2011\",\"Alberta\\u002f2012\",\"Alberta\\u002f2013\",\"Alberta\\u002f2014\",\"Alberta\\u002f2015\",\"Alberta\\u002f2016\",\"Alberta\\u002f2017\",\"Alberta\\u002f2018\",\"Alberta\\u002f2019\",\"Alberta\\u002f2020\",\"Alberta\\u002f2005\",\"Alberta\\u002f2006\",\"Alberta\\u002f2007\",\"Alberta\\u002f2008\",\"Alberta\\u002f2009\",\"Alberta\\u002f2010\",\"Alberta\\u002f2011\",\"Alberta\\u002f2012\",\"Alberta\\u002f2013\",\"Alberta\\u002f2014\",\"Alberta\\u002f2015\",\"Alberta\\u002f2016\",\"Alberta\\u002f2017\",\"Alberta\\u002f2018\",\"Alberta\\u002f2019\",\"Alberta\\u002f2020\",\"Alberta\\u002f2005\",\"Alberta\\u002f2006\",\"Alberta\\u002f2007\",\"Alberta\\u002f2008\",\"Alberta\\u002f2009\",\"Alberta\\u002f2010\",\"Alberta\\u002f2011\",\"Alberta\\u002f2012\",\"Alberta\\u002f2013\",\"Alberta\\u002f2014\",\"Alberta\\u002f2015\",\"Alberta\\u002f2016\",\"Alberta\\u002f2017\",\"Alberta\\u002f2018\",\"Alberta\\u002f2019\",\"Alberta\\u002f2020\",\"Alberta\\u002f2005\",\"Alberta\\u002f2006\",\"Alberta\\u002f2007\",\"Alberta\\u002f2008\",\"Alberta\\u002f2009\",\"Alberta\\u002f2010\",\"Alberta\\u002f2011\",\"Alberta\\u002f2012\",\"Alberta\\u002f2013\",\"Alberta\\u002f2014\",\"Alberta\\u002f2015\",\"Alberta\\u002f2016\",\"Alberta\\u002f2017\",\"Alberta\\u002f2018\",\"Alberta\\u002f2019\",\"Alberta\\u002f2020\",\"Alberta\\u002f2005\",\"Alberta\\u002f2006\",\"Alberta\\u002f2007\",\"Alberta\\u002f2008\",\"Alberta\\u002f2009\",\"Alberta\\u002f2010\",\"Alberta\\u002f2011\",\"Alberta\\u002f2012\",\"Alberta\\u002f2013\",\"Alberta\\u002f2014\",\"Alberta\\u002f2015\",\"Alberta\\u002f2016\",\"Alberta\\u002f2017\",\"Alberta\\u002f2018\",\"Alberta\\u002f2019\",\"Alberta\\u002f2020\",\"Alberta\\u002f2005\",\"Alberta\\u002f2006\",\"Alberta\\u002f2007\",\"Alberta\\u002f2008\",\"Alberta\\u002f2009\",\"Alberta\\u002f2010\",\"Alberta\\u002f2011\",\"Alberta\\u002f2012\",\"Alberta\\u002f2013\",\"Alberta\\u002f2014\",\"Alberta\\u002f2015\",\"Alberta\\u002f2016\",\"Alberta\\u002f2017\",\"Alberta\\u002f2018\",\"Alberta\\u002f2019\",\"Alberta\\u002f2020\",\"Alberta\\u002f2005\",\"Alberta\\u002f2006\",\"Alberta\\u002f2007\",\"Alberta\\u002f2008\",\"Alberta\\u002f2009\",\"Alberta\\u002f2010\",\"Alberta\\u002f2011\",\"Alberta\\u002f2012\",\"Alberta\\u002f2013\",\"Alberta\\u002f2014\",\"Alberta\\u002f2015\",\"Alberta\\u002f2016\",\"Alberta\\u002f2017\",\"Alberta\\u002f2018\",\"Alberta\\u002f2019\",\"Alberta\\u002f2020\",\"Alberta\\u002f2005\",\"Alberta\\u002f2006\",\"Alberta\\u002f2007\",\"Alberta\\u002f2008\",\"Alberta\\u002f2009\",\"Alberta\\u002f2010\",\"Alberta\\u002f2011\",\"Alberta\\u002f2012\",\"Alberta\\u002f2013\",\"Alberta\\u002f2014\",\"Alberta\\u002f2015\",\"Alberta\\u002f2016\",\"Alberta\\u002f2017\",\"Alberta\\u002f2018\",\"Alberta\\u002f2019\",\"Alberta\\u002f2020\",\"Alberta\\u002f2005\",\"Alberta\\u002f2006\",\"Alberta\\u002f2007\",\"Alberta\\u002f2008\",\"Alberta\\u002f2009\",\"Alberta\\u002f2010\",\"Alberta\\u002f2011\",\"Alberta\\u002f2012\",\"Alberta\\u002f2013\",\"Alberta\\u002f2014\",\"Alberta\\u002f2015\",\"Alberta\\u002f2016\",\"Alberta\\u002f2017\",\"Alberta\\u002f2018\",\"Alberta\\u002f2019\",\"Alberta\\u002f2020\",\"Alberta\\u002f2005\",\"Alberta\\u002f2006\",\"Alberta\\u002f2007\",\"Alberta\\u002f2008\",\"Alberta\\u002f2009\",\"Alberta\\u002f2010\",\"Alberta\\u002f2011\",\"Alberta\\u002f2012\",\"Alberta\\u002f2013\",\"Alberta\\u002f2014\",\"Alberta\\u002f2015\",\"Alberta\\u002f2016\",\"Alberta\\u002f2017\",\"Alberta\\u002f2018\",\"Alberta\\u002f2019\",\"Alberta\\u002f2020\",\"Alberta\\u002f2005\",\"Alberta\\u002f2006\",\"Alberta\\u002f2007\",\"Alberta\\u002f2008\",\"Alberta\\u002f2009\",\"Alberta\\u002f2010\",\"Alberta\\u002f2011\",\"Alberta\\u002f2012\",\"Alberta\\u002f2013\",\"Alberta\\u002f2014\",\"Alberta\\u002f2015\",\"Alberta\\u002f2016\",\"Alberta\\u002f2017\",\"Alberta\\u002f2018\",\"Alberta\\u002f2019\",\"Alberta\\u002f2020\",\"Alberta\\u002f2005\",\"Alberta\\u002f2006\",\"Alberta\\u002f2007\",\"Alberta\\u002f2008\",\"Alberta\\u002f2009\",\"Alberta\\u002f2010\",\"Alberta\\u002f2011\",\"Alberta\\u002f2012\",\"Alberta\\u002f2013\",\"Alberta\\u002f2014\",\"Alberta\\u002f2015\",\"Alberta\\u002f2016\",\"Alberta\\u002f2017\",\"Alberta\\u002f2018\",\"Alberta\\u002f2019\",\"Alberta\\u002f2020\",\"Alberta\\u002f2005\",\"Alberta\\u002f2006\",\"Alberta\\u002f2007\",\"Alberta\\u002f2008\",\"Alberta\\u002f2009\",\"Alberta\\u002f2010\",\"Alberta\\u002f2011\",\"Alberta\\u002f2012\",\"Alberta\\u002f2013\",\"Alberta\\u002f2014\",\"Alberta\\u002f2015\",\"Alberta\\u002f2016\",\"Alberta\\u002f2017\",\"Alberta\\u002f2018\",\"Alberta\\u002f2019\",\"Alberta\\u002f2020\",\"Alberta\\u002f2005\",\"Alberta\\u002f2006\",\"Alberta\\u002f2007\",\"Alberta\\u002f2008\",\"Alberta\\u002f2009\",\"Alberta\\u002f2010\",\"Alberta\\u002f2011\",\"Alberta\\u002f2012\",\"Alberta\\u002f2013\",\"Alberta\\u002f2014\",\"Alberta\\u002f2015\",\"Alberta\\u002f2016\",\"Alberta\\u002f2017\",\"Alberta\\u002f2018\",\"Alberta\\u002f2019\",\"Alberta\\u002f2020\",\"Alberta\\u002f2005\",\"Alberta\\u002f2006\",\"Alberta\\u002f2007\",\"Alberta\\u002f2008\",\"Alberta\\u002f2009\",\"Alberta\\u002f2010\",\"Alberta\\u002f2011\",\"Alberta\\u002f2012\",\"Alberta\\u002f2013\",\"Alberta\\u002f2014\",\"Alberta\\u002f2015\",\"Alberta\\u002f2016\",\"Alberta\\u002f2017\",\"Alberta\\u002f2018\",\"Alberta\\u002f2019\",\"Alberta\\u002f2020\",\"Alberta\\u002f2005\",\"Alberta\\u002f2006\",\"Alberta\\u002f2007\",\"Alberta\\u002f2008\",\"Alberta\\u002f2009\",\"Alberta\\u002f2010\",\"Alberta\\u002f2011\",\"Alberta\\u002f2012\",\"Alberta\\u002f2013\",\"Alberta\\u002f2014\",\"Alberta\\u002f2015\",\"Alberta\\u002f2016\",\"Alberta\\u002f2017\",\"Alberta\\u002f2018\",\"Alberta\\u002f2019\",\"Alberta\\u002f2020\",\"Alberta\\u002f2005\",\"Alberta\\u002f2006\",\"Alberta\\u002f2007\",\"Alberta\\u002f2008\",\"Alberta\\u002f2009\",\"Alberta\\u002f2010\",\"Alberta\\u002f2011\",\"Alberta\\u002f2012\",\"Alberta\\u002f2013\",\"Alberta\\u002f2014\",\"Alberta\\u002f2015\",\"Alberta\\u002f2016\",\"Alberta\\u002f2017\",\"Alberta\\u002f2018\",\"Alberta\\u002f2019\",\"Alberta\\u002f2020\",\"Alberta\",\"Alberta\",\"Alberta\",\"Alberta\",\"Alberta\",\"Alberta\",\"Alberta\",\"Alberta\",\"Alberta\",\"Alberta\",\"Alberta\",\"Alberta\",\"Alberta\",\"Alberta\",\"Alberta\",\"Alberta\",\"\"],\"values\":[24609,27288,30095,32293,36368,36368,38999,42381,46233,50069,52552,53988,55749,56348,56471,58437,4086,4326,4509,4602,4740,4740,4923,5065,5281,5519,5552,5415,5461,5675,5514,5463,2393,2513,2696,2830,3010,3010,3168,3316,3572,3723,3592,3474,3451,3505,3447,3495,1525,1612,1729,1739,1804,1804,1872,1984,2029,2112,2050,1970,1951,1939,1898,1895,1415,1455,1533,1516,1583,1583,1590,1593,1689,1742,1757,1728,1727,1761,1754,1784,743767,789347,829030,843825,867376,867376,895357,934296,972193,1005109,1007399,990144,1000567,1021618,1015104,1006510,9147,9726,10285,10412,10738,10738,10902,11395,11998,12468,12873,12803,12994,13222,13205,13292,2091,2227,2387,2409,2480,2480,2545,2601,2586,2626,2678,2613,2584,2649,2659,2703,11410,12143,12841,13574,14693,14693,15380,16104,17146,17333,17269,16721,16686,16916,16563,16691,492890,524847,554714,567745,585765,585765,602783,629350,656563,685437,694584,679558,690375,707769,704657,712934,10169,10729,11550,12150,12643,12643,13038,13367,13756,14367,14732,15346,15305,15353,15074,15132,14909,15631,16841,17514,19124,19124,20073,20691,21513,22517,23324,23466,23652,24389,24681,25313,46120,50480,52439,53918,55384,55384,59298,58514,59379,62542,60912,58216,59514,62153,60866,59869,3973,4408,4764,4794,5354,5354,5902,10329,13116,14265,14340,14006,14664,14867,14775,15058,967,979,1031,1040,1075,1075,1113,590,1174,1171,636,603,607,608,578,605,7639,7700,7551,7853,7869,7869,12165,13206,13969,14829,14786,15086,15601,19062,18336,17888,60133,63433,67641,70104,72486,72486,74064,75670,77446,80013,81494,81615,80797,82195,81915,82863,49411,51960,54275,55828,55662,55662,57383,58493,59498,60988,60995,60173,59515,60465,59821,60072,2943,3032,3116,3203,3180,3180,3393,3506,3522,3631,3729,3650,3617,3668,3652,3654,508,540,576,568,616,616,627,655,696,727,731,727,718,685,674,691,7318,8587,9382,9740,10011,10011,10512,10660,11941,12822,12908,19894,22034,23687,24214,24428,334,335,356,386,391,391,413,433,430,450,425,425,432,445,410,436,69394,73309,77226,78857,79679,79679,83466,86641,89627,93030,92096,86902,85220,85721,83801,84098,46297,48774,51332,52387,49195,49195,49572,50424,51944,53578,54445,55202,54088,55330,54621,55279,3596,4476,3928,3960,4203,4203,4366,4447,4606,4646,4650,4490,4473,4552,4263,4479,68391,72184,76554,79727,82926,82926,84596,86854,89638,92071,92801,91469,91885,92864,91364,92286,3118,3273,3438,3607,8830,8830,11036,13582,18411,20023,20566,20598,20935,21207,21094,21479,2311,2337,2480,2570,2715,2715,2822,2876,2943,3056,3038,2991,3046,3086,3119,3081,39380,43179,48802,53889,59820,59820,62304,66528,70162,71163,67720,65494,64349,64988,64342,64436,5736,5866,6135,6191,6425,6425,8128,8960,9399,9882,9994,9840,10040,10262,10114,10278,1735980,1846696,1949236,1999231,2066145,2066145,2141790,2234511,2332460,2421909,2434628,2398607,2422037,2476989,2458986,2464629,35449979],\"type\":\"treemap\",\"root\":{\"color\":\"lightgrey\"}}],                        {\"template\":{\"data\":{\"histogram2dcontour\":[{\"type\":\"histogram2dcontour\",\"colorbar\":{\"outlinewidth\":0,\"ticks\":\"\"},\"colorscale\":[[0.0,\"#0d0887\"],[0.1111111111111111,\"#46039f\"],[0.2222222222222222,\"#7201a8\"],[0.3333333333333333,\"#9c179e\"],[0.4444444444444444,\"#bd3786\"],[0.5555555555555556,\"#d8576b\"],[0.6666666666666666,\"#ed7953\"],[0.7777777777777778,\"#fb9f3a\"],[0.8888888888888888,\"#fdca26\"],[1.0,\"#f0f921\"]]}],\"choropleth\":[{\"type\":\"choropleth\",\"colorbar\":{\"outlinewidth\":0,\"ticks\":\"\"}}],\"histogram2d\":[{\"type\":\"histogram2d\",\"colorbar\":{\"outlinewidth\":0,\"ticks\":\"\"},\"colorscale\":[[0.0,\"#0d0887\"],[0.1111111111111111,\"#46039f\"],[0.2222222222222222,\"#7201a8\"],[0.3333333333333333,\"#9c179e\"],[0.4444444444444444,\"#bd3786\"],[0.5555555555555556,\"#d8576b\"],[0.6666666666666666,\"#ed7953\"],[0.7777777777777778,\"#fb9f3a\"],[0.8888888888888888,\"#fdca26\"],[1.0,\"#f0f921\"]]}],\"heatmap\":[{\"type\":\"heatmap\",\"colorbar\":{\"outlinewidth\":0,\"ticks\":\"\"},\"colorscale\":[[0.0,\"#0d0887\"],[0.1111111111111111,\"#46039f\"],[0.2222222222222222,\"#7201a8\"],[0.3333333333333333,\"#9c179e\"],[0.4444444444444444,\"#bd3786\"],[0.5555555555555556,\"#d8576b\"],[0.6666666666666666,\"#ed7953\"],[0.7777777777777778,\"#fb9f3a\"],[0.8888888888888888,\"#fdca26\"],[1.0,\"#f0f921\"]]}],\"heatmapgl\":[{\"type\":\"heatmapgl\",\"colorbar\":{\"outlinewidth\":0,\"ticks\":\"\"},\"colorscale\":[[0.0,\"#0d0887\"],[0.1111111111111111,\"#46039f\"],[0.2222222222222222,\"#7201a8\"],[0.3333333333333333,\"#9c179e\"],[0.4444444444444444,\"#bd3786\"],[0.5555555555555556,\"#d8576b\"],[0.6666666666666666,\"#ed7953\"],[0.7777777777777778,\"#fb9f3a\"],[0.8888888888888888,\"#fdca26\"],[1.0,\"#f0f921\"]]}],\"contourcarpet\":[{\"type\":\"contourcarpet\",\"colorbar\":{\"outlinewidth\":0,\"ticks\":\"\"}}],\"contour\":[{\"type\":\"contour\",\"colorbar\":{\"outlinewidth\":0,\"ticks\":\"\"},\"colorscale\":[[0.0,\"#0d0887\"],[0.1111111111111111,\"#46039f\"],[0.2222222222222222,\"#7201a8\"],[0.3333333333333333,\"#9c179e\"],[0.4444444444444444,\"#bd3786\"],[0.5555555555555556,\"#d8576b\"],[0.6666666666666666,\"#ed7953\"],[0.7777777777777778,\"#fb9f3a\"],[0.8888888888888888,\"#fdca26\"],[1.0,\"#f0f921\"]]}],\"surface\":[{\"type\":\"surface\",\"colorbar\":{\"outlinewidth\":0,\"ticks\":\"\"},\"colorscale\":[[0.0,\"#0d0887\"],[0.1111111111111111,\"#46039f\"],[0.2222222222222222,\"#7201a8\"],[0.3333333333333333,\"#9c179e\"],[0.4444444444444444,\"#bd3786\"],[0.5555555555555556,\"#d8576b\"],[0.6666666666666666,\"#ed7953\"],[0.7777777777777778,\"#fb9f3a\"],[0.8888888888888888,\"#fdca26\"],[1.0,\"#f0f921\"]]}],\"mesh3d\":[{\"type\":\"mesh3d\",\"colorbar\":{\"outlinewidth\":0,\"ticks\":\"\"}}],\"scatter\":[{\"fillpattern\":{\"fillmode\":\"overlay\",\"size\":10,\"solidity\":0.2},\"type\":\"scatter\"}],\"parcoords\":[{\"type\":\"parcoords\",\"line\":{\"colorbar\":{\"outlinewidth\":0,\"ticks\":\"\"}}}],\"scatterpolargl\":[{\"type\":\"scatterpolargl\",\"marker\":{\"colorbar\":{\"outlinewidth\":0,\"ticks\":\"\"}}}],\"bar\":[{\"error_x\":{\"color\":\"#2a3f5f\"},\"error_y\":{\"color\":\"#2a3f5f\"},\"marker\":{\"line\":{\"color\":\"#E5ECF6\",\"width\":0.5},\"pattern\":{\"fillmode\":\"overlay\",\"size\":10,\"solidity\":0.2}},\"type\":\"bar\"}],\"scattergeo\":[{\"type\":\"scattergeo\",\"marker\":{\"colorbar\":{\"outlinewidth\":0,\"ticks\":\"\"}}}],\"scatterpolar\":[{\"type\":\"scatterpolar\",\"marker\":{\"colorbar\":{\"outlinewidth\":0,\"ticks\":\"\"}}}],\"histogram\":[{\"marker\":{\"pattern\":{\"fillmode\":\"overlay\",\"size\":10,\"solidity\":0.2}},\"type\":\"histogram\"}],\"scattergl\":[{\"type\":\"scattergl\",\"marker\":{\"colorbar\":{\"outlinewidth\":0,\"ticks\":\"\"}}}],\"scatter3d\":[{\"type\":\"scatter3d\",\"line\":{\"colorbar\":{\"outlinewidth\":0,\"ticks\":\"\"}},\"marker\":{\"colorbar\":{\"outlinewidth\":0,\"ticks\":\"\"}}}],\"scattermapbox\":[{\"type\":\"scattermapbox\",\"marker\":{\"colorbar\":{\"outlinewidth\":0,\"ticks\":\"\"}}}],\"scatterternary\":[{\"type\":\"scatterternary\",\"marker\":{\"colorbar\":{\"outlinewidth\":0,\"ticks\":\"\"}}}],\"scattercarpet\":[{\"type\":\"scattercarpet\",\"marker\":{\"colorbar\":{\"outlinewidth\":0,\"ticks\":\"\"}}}],\"carpet\":[{\"aaxis\":{\"endlinecolor\":\"#2a3f5f\",\"gridcolor\":\"white\",\"linecolor\":\"white\",\"minorgridcolor\":\"white\",\"startlinecolor\":\"#2a3f5f\"},\"baxis\":{\"endlinecolor\":\"#2a3f5f\",\"gridcolor\":\"white\",\"linecolor\":\"white\",\"minorgridcolor\":\"white\",\"startlinecolor\":\"#2a3f5f\"},\"type\":\"carpet\"}],\"table\":[{\"cells\":{\"fill\":{\"color\":\"#EBF0F8\"},\"line\":{\"color\":\"white\"}},\"header\":{\"fill\":{\"color\":\"#C8D4E3\"},\"line\":{\"color\":\"white\"}},\"type\":\"table\"}],\"barpolar\":[{\"marker\":{\"line\":{\"color\":\"#E5ECF6\",\"width\":0.5},\"pattern\":{\"fillmode\":\"overlay\",\"size\":10,\"solidity\":0.2}},\"type\":\"barpolar\"}],\"pie\":[{\"automargin\":true,\"type\":\"pie\"}]},\"layout\":{\"autotypenumbers\":\"strict\",\"colorway\":[\"#636efa\",\"#EF553B\",\"#00cc96\",\"#ab63fa\",\"#FFA15A\",\"#19d3f3\",\"#FF6692\",\"#B6E880\",\"#FF97FF\",\"#FECB52\"],\"font\":{\"color\":\"#2a3f5f\"},\"hovermode\":\"closest\",\"hoverlabel\":{\"align\":\"left\"},\"paper_bgcolor\":\"white\",\"plot_bgcolor\":\"#E5ECF6\",\"polar\":{\"bgcolor\":\"#E5ECF6\",\"angularaxis\":{\"gridcolor\":\"white\",\"linecolor\":\"white\",\"ticks\":\"\"},\"radialaxis\":{\"gridcolor\":\"white\",\"linecolor\":\"white\",\"ticks\":\"\"}},\"ternary\":{\"bgcolor\":\"#E5ECF6\",\"aaxis\":{\"gridcolor\":\"white\",\"linecolor\":\"white\",\"ticks\":\"\"},\"baxis\":{\"gridcolor\":\"white\",\"linecolor\":\"white\",\"ticks\":\"\"},\"caxis\":{\"gridcolor\":\"white\",\"linecolor\":\"white\",\"ticks\":\"\"}},\"coloraxis\":{\"colorbar\":{\"outlinewidth\":0,\"ticks\":\"\"}},\"colorscale\":{\"sequential\":[[0.0,\"#0d0887\"],[0.1111111111111111,\"#46039f\"],[0.2222222222222222,\"#7201a8\"],[0.3333333333333333,\"#9c179e\"],[0.4444444444444444,\"#bd3786\"],[0.5555555555555556,\"#d8576b\"],[0.6666666666666666,\"#ed7953\"],[0.7777777777777778,\"#fb9f3a\"],[0.8888888888888888,\"#fdca26\"],[1.0,\"#f0f921\"]],\"sequentialminus\":[[0.0,\"#0d0887\"],[0.1111111111111111,\"#46039f\"],[0.2222222222222222,\"#7201a8\"],[0.3333333333333333,\"#9c179e\"],[0.4444444444444444,\"#bd3786\"],[0.5555555555555556,\"#d8576b\"],[0.6666666666666666,\"#ed7953\"],[0.7777777777777778,\"#fb9f3a\"],[0.8888888888888888,\"#fdca26\"],[1.0,\"#f0f921\"]],\"diverging\":[[0,\"#8e0152\"],[0.1,\"#c51b7d\"],[0.2,\"#de77ae\"],[0.3,\"#f1b6da\"],[0.4,\"#fde0ef\"],[0.5,\"#f7f7f7\"],[0.6,\"#e6f5d0\"],[0.7,\"#b8e186\"],[0.8,\"#7fbc41\"],[0.9,\"#4d9221\"],[1,\"#276419\"]]},\"xaxis\":{\"gridcolor\":\"white\",\"linecolor\":\"white\",\"ticks\":\"\",\"title\":{\"standoff\":15},\"zerolinecolor\":\"white\",\"automargin\":true,\"zerolinewidth\":2},\"yaxis\":{\"gridcolor\":\"white\",\"linecolor\":\"white\",\"ticks\":\"\",\"title\":{\"standoff\":15},\"zerolinecolor\":\"white\",\"automargin\":true,\"zerolinewidth\":2},\"scene\":{\"xaxis\":{\"backgroundcolor\":\"#E5ECF6\",\"gridcolor\":\"white\",\"linecolor\":\"white\",\"showbackground\":true,\"ticks\":\"\",\"zerolinecolor\":\"white\",\"gridwidth\":2},\"yaxis\":{\"backgroundcolor\":\"#E5ECF6\",\"gridcolor\":\"white\",\"linecolor\":\"white\",\"showbackground\":true,\"ticks\":\"\",\"zerolinecolor\":\"white\",\"gridwidth\":2},\"zaxis\":{\"backgroundcolor\":\"#E5ECF6\",\"gridcolor\":\"white\",\"linecolor\":\"white\",\"showbackground\":true,\"ticks\":\"\",\"zerolinecolor\":\"white\",\"gridwidth\":2}},\"shapedefaults\":{\"line\":{\"color\":\"#2a3f5f\"}},\"annotationdefaults\":{\"arrowcolor\":\"#2a3f5f\",\"arrowhead\":0,\"arrowwidth\":1},\"geo\":{\"bgcolor\":\"white\",\"landcolor\":\"#E5ECF6\",\"subunitcolor\":\"white\",\"showland\":true,\"showlakes\":true,\"lakecolor\":\"white\"},\"title\":{\"x\":0.05},\"mapbox\":{\"style\":\"light\"}}},\"legend\":{\"tracegroupgap\":0},\"margin\":{\"t\":50,\"l\":25,\"r\":25,\"b\":25}},                        {\"responsive\": true}                    ).then(function(){\n",
       "                            \n",
       "var gd = document.getElementById('516bd164-b0c7-4061-86c9-bb3f2f7bc5eb');\n",
       "var x = new MutationObserver(function (mutations, observer) {{\n",
       "        var display = window.getComputedStyle(gd).display;\n",
       "        if (!display || display === 'none') {{\n",
       "            console.log([gd, 'removed!']);\n",
       "            Plotly.purge(gd);\n",
       "            observer.disconnect();\n",
       "        }}\n",
       "}});\n",
       "\n",
       "// Listen for the removal of the full notebook cells\n",
       "var notebookContainer = gd.closest('#notebook-container');\n",
       "if (notebookContainer) {{\n",
       "    x.observe(notebookContainer, {childList: true});\n",
       "}}\n",
       "\n",
       "// Listen for the clearing of the current output cell\n",
       "var outputEl = gd.closest('.output');\n",
       "if (outputEl) {{\n",
       "    x.observe(outputEl, {childList: true});\n",
       "}}\n",
       "\n",
       "                        })                };                });            </script>        </div>"
      ]
     },
     "metadata": {},
     "output_type": "display_data"
    }
   ],
   "source": [
    "fig = px.treemap(total_reg, path=[px.Constant(\"Alberta\"), 'Year', 'Municipality'], values='Registration_Count')\n",
    "fig.update_traces(root_color=\"lightgrey\")\n",
    "fig.update_layout(margin = dict(t=50, l=25, r=25, b=25))\n",
    "fig.show()"
   ]
  },
  {
   "cell_type": "code",
   "execution_count": null,
   "id": "c54079a8-2a8f-4178-ae62-bdde6ae9a31f",
   "metadata": {},
   "outputs": [],
   "source": []
  }
 ],
 "metadata": {
  "kernelspec": {
   "display_name": "Python 3 (ipykernel)",
   "language": "python",
   "name": "python3"
  },
  "language_info": {
   "codemirror_mode": {
    "name": "ipython",
    "version": 3
   },
   "file_extension": ".py",
   "mimetype": "text/x-python",
   "name": "python",
   "nbconvert_exporter": "python",
   "pygments_lexer": "ipython3",
   "version": "3.11.5"
  }
 },
 "nbformat": 4,
 "nbformat_minor": 5
}
